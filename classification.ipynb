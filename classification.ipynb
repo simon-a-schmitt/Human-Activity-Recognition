{
 "cells": [
  {
   "cell_type": "code",
   "execution_count": 1,
   "id": "65801d55-8613-4da7-9984-709822681ef6",
   "metadata": {
    "tags": []
   },
   "outputs": [
    {
     "name": "stdout",
     "output_type": "stream",
     "text": [
      "Requirement already satisfied: optuna in /opt/conda/lib/python3.11/site-packages (4.4.0)\n",
      "Requirement already satisfied: edge-ml in /opt/conda/lib/python3.11/site-packages (0.4.0)\n",
      "Requirement already satisfied: tsflex in /opt/conda/lib/python3.11/site-packages (0.4.1)\n",
      "Requirement already satisfied: plotly in /opt/conda/lib/python3.11/site-packages (6.2.0)\n",
      "Requirement already satisfied: tsfresh in /opt/conda/lib/python3.11/site-packages (0.21.0)\n",
      "Requirement already satisfied: torch in /opt/conda/lib/python3.11/site-packages (2.7.1)\n",
      "Requirement already satisfied: timeout_decorator in /opt/conda/lib/python3.11/site-packages (0.5.0)\n",
      "Requirement already satisfied: optunahub in /opt/conda/lib/python3.11/site-packages (0.3.1)\n",
      "Requirement already satisfied: hebo in /opt/conda/lib/python3.11/site-packages (0.3.6)\n",
      "Requirement already satisfied: ipywidgets in /opt/conda/lib/python3.11/site-packages (8.1.5)\n",
      "Requirement already satisfied: alembic>=1.5.0 in /opt/conda/lib/python3.11/site-packages (from optuna) (1.13.3)\n",
      "Requirement already satisfied: colorlog in /opt/conda/lib/python3.11/site-packages (from optuna) (6.9.0)\n",
      "Requirement already satisfied: numpy in /opt/conda/lib/python3.11/site-packages (from optuna) (1.24.4)\n",
      "Requirement already satisfied: packaging>=20.0 in /opt/conda/lib/python3.11/site-packages (from optuna) (24.1)\n",
      "Requirement already satisfied: sqlalchemy>=1.4.2 in /opt/conda/lib/python3.11/site-packages (from optuna) (2.0.36)\n",
      "Requirement already satisfied: tqdm in /opt/conda/lib/python3.11/site-packages (from optuna) (4.66.5)\n",
      "Requirement already satisfied: PyYAML in /opt/conda/lib/python3.11/site-packages (from optuna) (6.0.2)\n",
      "Requirement already satisfied: dill<0.4.0,>=0.3.8 in /opt/conda/lib/python3.11/site-packages (from tsflex) (0.3.9)\n",
      "Requirement already satisfied: multiprocess<0.71.0,>=0.70.16 in /opt/conda/lib/python3.11/site-packages (from tsflex) (0.70.17)\n",
      "Requirement already satisfied: pandas>=1 in /opt/conda/lib/python3.11/site-packages (from tsflex) (2.2.3)\n",
      "Requirement already satisfied: narwhals>=1.15.1 in /opt/conda/lib/python3.11/site-packages (from plotly) (1.46.0)\n",
      "Requirement already satisfied: requests>=2.9.1 in /opt/conda/lib/python3.11/site-packages (from tsfresh) (2.32.3)\n",
      "Requirement already satisfied: statsmodels>=0.13 in /opt/conda/lib/python3.11/site-packages (from tsfresh) (0.14.4)\n",
      "Requirement already satisfied: patsy>=0.4.1 in /opt/conda/lib/python3.11/site-packages (from tsfresh) (0.5.6)\n",
      "Requirement already satisfied: pywavelets in /opt/conda/lib/python3.11/site-packages (from tsfresh) (1.7.0)\n",
      "Requirement already satisfied: scikit-learn>=0.22.0 in /opt/conda/lib/python3.11/site-packages (from tsfresh) (1.5.2)\n",
      "Requirement already satisfied: stumpy>=1.7.2 in /opt/conda/lib/python3.11/site-packages (from tsfresh) (1.13.0)\n",
      "Requirement already satisfied: cloudpickle in /opt/conda/lib/python3.11/site-packages (from tsfresh) (3.1.0)\n",
      "Requirement already satisfied: scipy>=1.14.0 in /opt/conda/lib/python3.11/site-packages (from tsfresh) (1.14.1)\n",
      "Requirement already satisfied: filelock in /opt/conda/lib/python3.11/site-packages (from torch) (3.18.0)\n",
      "Requirement already satisfied: typing-extensions>=4.10.0 in /opt/conda/lib/python3.11/site-packages (from torch) (4.12.2)\n",
      "Requirement already satisfied: sympy>=1.13.3 in /opt/conda/lib/python3.11/site-packages (from torch) (1.13.3)\n",
      "Requirement already satisfied: networkx in /opt/conda/lib/python3.11/site-packages (from torch) (3.4.2)\n",
      "Requirement already satisfied: jinja2 in /opt/conda/lib/python3.11/site-packages (from torch) (3.1.4)\n",
      "Requirement already satisfied: fsspec in /opt/conda/lib/python3.11/site-packages (from torch) (2024.9.0)\n",
      "Requirement already satisfied: nvidia-cuda-nvrtc-cu12==12.6.77 in /opt/conda/lib/python3.11/site-packages (from torch) (12.6.77)\n",
      "Requirement already satisfied: nvidia-cuda-runtime-cu12==12.6.77 in /opt/conda/lib/python3.11/site-packages (from torch) (12.6.77)\n",
      "Requirement already satisfied: nvidia-cuda-cupti-cu12==12.6.80 in /opt/conda/lib/python3.11/site-packages (from torch) (12.6.80)\n",
      "Requirement already satisfied: nvidia-cudnn-cu12==9.5.1.17 in /opt/conda/lib/python3.11/site-packages (from torch) (9.5.1.17)\n",
      "Requirement already satisfied: nvidia-cublas-cu12==12.6.4.1 in /opt/conda/lib/python3.11/site-packages (from torch) (12.6.4.1)\n",
      "Requirement already satisfied: nvidia-cufft-cu12==11.3.0.4 in /opt/conda/lib/python3.11/site-packages (from torch) (11.3.0.4)\n",
      "Requirement already satisfied: nvidia-curand-cu12==10.3.7.77 in /opt/conda/lib/python3.11/site-packages (from torch) (10.3.7.77)\n",
      "Requirement already satisfied: nvidia-cusolver-cu12==11.7.1.2 in /opt/conda/lib/python3.11/site-packages (from torch) (11.7.1.2)\n",
      "Requirement already satisfied: nvidia-cusparse-cu12==12.5.4.2 in /opt/conda/lib/python3.11/site-packages (from torch) (12.5.4.2)\n",
      "Requirement already satisfied: nvidia-cusparselt-cu12==0.6.3 in /opt/conda/lib/python3.11/site-packages (from torch) (0.6.3)\n",
      "Requirement already satisfied: nvidia-nccl-cu12==2.26.2 in /opt/conda/lib/python3.11/site-packages (from torch) (2.26.2)\n",
      "Requirement already satisfied: nvidia-nvtx-cu12==12.6.77 in /opt/conda/lib/python3.11/site-packages (from torch) (12.6.77)\n",
      "Requirement already satisfied: nvidia-nvjitlink-cu12==12.6.85 in /opt/conda/lib/python3.11/site-packages (from torch) (12.6.85)\n",
      "Requirement already satisfied: nvidia-cufile-cu12==1.11.1.6 in /opt/conda/lib/python3.11/site-packages (from torch) (1.11.1.6)\n",
      "Requirement already satisfied: triton==3.3.1 in /opt/conda/lib/python3.11/site-packages (from torch) (3.3.1)\n",
      "Requirement already satisfied: setuptools>=40.8.0 in /opt/conda/lib/python3.11/site-packages (from triton==3.3.1->torch) (75.1.0)\n",
      "Requirement already satisfied: GitPython in /opt/conda/lib/python3.11/site-packages (from optunahub) (3.1.43)\n",
      "Requirement already satisfied: PyGithub>=1.59 in /opt/conda/lib/python3.11/site-packages (from optunahub) (2.6.1)\n",
      "Requirement already satisfied: pymoo==0.6.0 in /opt/conda/lib/python3.11/site-packages (from hebo) (0.6.0)\n",
      "Requirement already satisfied: gpytorch>=1.4.0 in /opt/conda/lib/python3.11/site-packages (from hebo) (1.14)\n",
      "Requirement already satisfied: GPy>=1.9.9 in /opt/conda/lib/python3.11/site-packages (from hebo) (1.10.0)\n",
      "Requirement already satisfied: catboost>=0.24.4 in /opt/conda/lib/python3.11/site-packages (from hebo) (1.2.8)\n",
      "Requirement already satisfied: disjoint-set in /opt/conda/lib/python3.11/site-packages (from hebo) (0.8.0)\n",
      "Requirement already satisfied: matplotlib>=3 in /opt/conda/lib/python3.11/site-packages (from pymoo==0.6.0->hebo) (3.9.2)\n",
      "Requirement already satisfied: autograd>=1.4 in /opt/conda/lib/python3.11/site-packages (from pymoo==0.6.0->hebo) (1.8.0)\n",
      "Requirement already satisfied: cma==3.2.2 in /opt/conda/lib/python3.11/site-packages (from pymoo==0.6.0->hebo) (3.2.2)\n",
      "Requirement already satisfied: alive-progress in /opt/conda/lib/python3.11/site-packages (from pymoo==0.6.0->hebo) (3.2.0)\n",
      "Requirement already satisfied: Deprecated in /opt/conda/lib/python3.11/site-packages (from pymoo==0.6.0->hebo) (1.2.18)\n",
      "Requirement already satisfied: comm>=0.1.3 in /opt/conda/lib/python3.11/site-packages (from ipywidgets) (0.2.2)\n",
      "Requirement already satisfied: ipython>=6.1.0 in /opt/conda/lib/python3.11/site-packages (from ipywidgets) (8.28.0)\n",
      "Requirement already satisfied: traitlets>=4.3.1 in /opt/conda/lib/python3.11/site-packages (from ipywidgets) (5.14.3)\n",
      "Requirement already satisfied: widgetsnbextension~=4.0.12 in /opt/conda/lib/python3.11/site-packages (from ipywidgets) (4.0.13)\n",
      "Requirement already satisfied: jupyterlab-widgets~=3.0.12 in /opt/conda/lib/python3.11/site-packages (from ipywidgets) (3.0.13)\n",
      "Requirement already satisfied: Mako in /opt/conda/lib/python3.11/site-packages (from alembic>=1.5.0->optuna) (1.3.5)\n",
      "Requirement already satisfied: graphviz in /opt/conda/lib/python3.11/site-packages (from catboost>=0.24.4->hebo) (0.21)\n",
      "Requirement already satisfied: six in /opt/conda/lib/python3.11/site-packages (from catboost>=0.24.4->hebo) (1.16.0)\n",
      "Requirement already satisfied: paramz>=0.9.0 in /opt/conda/lib/python3.11/site-packages (from GPy>=1.9.9->hebo) (0.9.6)\n",
      "Requirement already satisfied: cython>=0.29 in /opt/conda/lib/python3.11/site-packages (from GPy>=1.9.9->hebo) (3.0.11)\n",
      "Requirement already satisfied: jaxtyping in /opt/conda/lib/python3.11/site-packages (from gpytorch>=1.4.0->hebo) (0.3.2)\n",
      "Requirement already satisfied: mpmath<=1.3,>=0.19 in /opt/conda/lib/python3.11/site-packages (from gpytorch>=1.4.0->hebo) (1.3.0)\n",
      "Requirement already satisfied: linear-operator>=0.6 in /opt/conda/lib/python3.11/site-packages (from gpytorch>=1.4.0->hebo) (0.6)\n",
      "Requirement already satisfied: decorator in /opt/conda/lib/python3.11/site-packages (from ipython>=6.1.0->ipywidgets) (5.1.1)\n",
      "Requirement already satisfied: jedi>=0.16 in /opt/conda/lib/python3.11/site-packages (from ipython>=6.1.0->ipywidgets) (0.19.1)\n",
      "Requirement already satisfied: matplotlib-inline in /opt/conda/lib/python3.11/site-packages (from ipython>=6.1.0->ipywidgets) (0.1.7)\n",
      "Requirement already satisfied: prompt-toolkit<3.1.0,>=3.0.41 in /opt/conda/lib/python3.11/site-packages (from ipython>=6.1.0->ipywidgets) (3.0.48)\n",
      "Requirement already satisfied: pygments>=2.4.0 in /opt/conda/lib/python3.11/site-packages (from ipython>=6.1.0->ipywidgets) (2.18.0)\n",
      "Requirement already satisfied: stack-data in /opt/conda/lib/python3.11/site-packages (from ipython>=6.1.0->ipywidgets) (0.6.2)\n",
      "Requirement already satisfied: pexpect>4.3 in /opt/conda/lib/python3.11/site-packages (from ipython>=6.1.0->ipywidgets) (4.9.0)\n",
      "Requirement already satisfied: python-dateutil>=2.8.2 in /opt/conda/lib/python3.11/site-packages (from pandas>=1->tsflex) (2.9.0)\n",
      "Requirement already satisfied: pytz>=2020.1 in /opt/conda/lib/python3.11/site-packages (from pandas>=1->tsflex) (2024.1)\n",
      "Requirement already satisfied: tzdata>=2022.7 in /opt/conda/lib/python3.11/site-packages (from pandas>=1->tsflex) (2024.2)\n",
      "Requirement already satisfied: pynacl>=1.4.0 in /opt/conda/lib/python3.11/site-packages (from PyGithub>=1.59->optunahub) (1.5.0)\n",
      "Requirement already satisfied: pyjwt>=2.4.0 in /opt/conda/lib/python3.11/site-packages (from pyjwt[crypto]>=2.4.0->PyGithub>=1.59->optunahub) (2.9.0)\n",
      "Requirement already satisfied: urllib3>=1.26.0 in /opt/conda/lib/python3.11/site-packages (from PyGithub>=1.59->optunahub) (2.2.3)\n",
      "Requirement already satisfied: charset-normalizer<4,>=2 in /opt/conda/lib/python3.11/site-packages (from requests>=2.9.1->tsfresh) (3.4.0)\n",
      "Requirement already satisfied: idna<4,>=2.5 in /opt/conda/lib/python3.11/site-packages (from requests>=2.9.1->tsfresh) (3.10)\n",
      "Requirement already satisfied: certifi>=2017.4.17 in /opt/conda/lib/python3.11/site-packages (from requests>=2.9.1->tsfresh) (2025.7.9)\n",
      "Requirement already satisfied: joblib>=1.2.0 in /opt/conda/lib/python3.11/site-packages (from scikit-learn>=0.22.0->tsfresh) (1.4.2)\n",
      "Requirement already satisfied: threadpoolctl>=3.1.0 in /opt/conda/lib/python3.11/site-packages (from scikit-learn>=0.22.0->tsfresh) (3.5.0)\n",
      "Requirement already satisfied: greenlet!=0.4.17 in /opt/conda/lib/python3.11/site-packages (from sqlalchemy>=1.4.2->optuna) (3.1.1)\n",
      "Requirement already satisfied: numba>=0.57.1 in /opt/conda/lib/python3.11/site-packages (from stumpy>=1.7.2->tsfresh) (0.60.0)\n",
      "Requirement already satisfied: gitdb<5,>=4.0.1 in /opt/conda/lib/python3.11/site-packages (from GitPython->optunahub) (4.0.11)\n",
      "Requirement already satisfied: MarkupSafe>=2.0 in /opt/conda/lib/python3.11/site-packages (from jinja2->torch) (3.0.2)\n",
      "Requirement already satisfied: smmap<6,>=3.0.1 in /opt/conda/lib/python3.11/site-packages (from gitdb<5,>=4.0.1->GitPython->optunahub) (5.0.0)\n",
      "Requirement already satisfied: parso<0.9.0,>=0.8.3 in /opt/conda/lib/python3.11/site-packages (from jedi>=0.16->ipython>=6.1.0->ipywidgets) (0.8.4)\n",
      "Requirement already satisfied: contourpy>=1.0.1 in /opt/conda/lib/python3.11/site-packages (from matplotlib>=3->pymoo==0.6.0->hebo) (1.3.0)\n",
      "Requirement already satisfied: cycler>=0.10 in /opt/conda/lib/python3.11/site-packages (from matplotlib>=3->pymoo==0.6.0->hebo) (0.12.1)\n",
      "Requirement already satisfied: fonttools>=4.22.0 in /opt/conda/lib/python3.11/site-packages (from matplotlib>=3->pymoo==0.6.0->hebo) (4.54.1)\n",
      "Requirement already satisfied: kiwisolver>=1.3.1 in /opt/conda/lib/python3.11/site-packages (from matplotlib>=3->pymoo==0.6.0->hebo) (1.4.7)\n",
      "Requirement already satisfied: pillow>=8 in /opt/conda/lib/python3.11/site-packages (from matplotlib>=3->pymoo==0.6.0->hebo) (11.0.0)\n",
      "Requirement already satisfied: pyparsing>=2.3.1 in /opt/conda/lib/python3.11/site-packages (from matplotlib>=3->pymoo==0.6.0->hebo) (3.2.0)\n",
      "Requirement already satisfied: llvmlite<0.44,>=0.43.0dev0 in /opt/conda/lib/python3.11/site-packages (from numba>=0.57.1->stumpy>=1.7.2->tsfresh) (0.43.0)\n",
      "Requirement already satisfied: ptyprocess>=0.5 in /opt/conda/lib/python3.11/site-packages (from pexpect>4.3->ipython>=6.1.0->ipywidgets) (0.7.0)\n",
      "Requirement already satisfied: wcwidth in /opt/conda/lib/python3.11/site-packages (from prompt-toolkit<3.1.0,>=3.0.41->ipython>=6.1.0->ipywidgets) (0.2.13)\n",
      "Requirement already satisfied: cryptography>=3.4.0 in /opt/conda/lib/python3.11/site-packages (from pyjwt[crypto]>=2.4.0->PyGithub>=1.59->optunahub) (43.0.3)\n",
      "Requirement already satisfied: cffi>=1.4.1 in /opt/conda/lib/python3.11/site-packages (from pynacl>=1.4.0->PyGithub>=1.59->optunahub) (1.17.1)\n",
      "Requirement already satisfied: about-time==4.2.1 in /opt/conda/lib/python3.11/site-packages (from alive-progress->pymoo==0.6.0->hebo) (4.2.1)\n",
      "Requirement already satisfied: grapheme==0.6.0 in /opt/conda/lib/python3.11/site-packages (from alive-progress->pymoo==0.6.0->hebo) (0.6.0)\n",
      "Requirement already satisfied: wrapt<2,>=1.10 in /opt/conda/lib/python3.11/site-packages (from Deprecated->pymoo==0.6.0->hebo) (1.17.2)\n",
      "Requirement already satisfied: wadler-lindig>=0.1.3 in /opt/conda/lib/python3.11/site-packages (from jaxtyping->gpytorch>=1.4.0->hebo) (0.1.7)\n",
      "Requirement already satisfied: executing>=1.2.0 in /opt/conda/lib/python3.11/site-packages (from stack-data->ipython>=6.1.0->ipywidgets) (2.1.0)\n",
      "Requirement already satisfied: asttokens>=2.1.0 in /opt/conda/lib/python3.11/site-packages (from stack-data->ipython>=6.1.0->ipywidgets) (2.4.1)\n",
      "Requirement already satisfied: pure-eval in /opt/conda/lib/python3.11/site-packages (from stack-data->ipython>=6.1.0->ipywidgets) (0.2.3)\n",
      "Requirement already satisfied: pycparser in /opt/conda/lib/python3.11/site-packages (from cffi>=1.4.1->pynacl>=1.4.0->PyGithub>=1.59->optunahub) (2.22)\n",
      "Note: you may need to restart the kernel to use updated packages.\n",
      "Requirement already satisfied: pymoo in /opt/conda/lib/python3.11/site-packages (0.6.0)\n",
      "Requirement already satisfied: numpy>=1.15 in /opt/conda/lib/python3.11/site-packages (from pymoo) (1.24.4)\n",
      "Requirement already satisfied: scipy>=1.1 in /opt/conda/lib/python3.11/site-packages (from pymoo) (1.14.1)\n",
      "Requirement already satisfied: matplotlib>=3 in /opt/conda/lib/python3.11/site-packages (from pymoo) (3.9.2)\n",
      "Requirement already satisfied: autograd>=1.4 in /opt/conda/lib/python3.11/site-packages (from pymoo) (1.8.0)\n",
      "Requirement already satisfied: cma==3.2.2 in /opt/conda/lib/python3.11/site-packages (from pymoo) (3.2.2)\n",
      "Requirement already satisfied: alive-progress in /opt/conda/lib/python3.11/site-packages (from pymoo) (3.2.0)\n",
      "Requirement already satisfied: dill in /opt/conda/lib/python3.11/site-packages (from pymoo) (0.3.9)\n",
      "Requirement already satisfied: Deprecated in /opt/conda/lib/python3.11/site-packages (from pymoo) (1.2.18)\n",
      "Requirement already satisfied: contourpy>=1.0.1 in /opt/conda/lib/python3.11/site-packages (from matplotlib>=3->pymoo) (1.3.0)\n",
      "Requirement already satisfied: cycler>=0.10 in /opt/conda/lib/python3.11/site-packages (from matplotlib>=3->pymoo) (0.12.1)\n",
      "Requirement already satisfied: fonttools>=4.22.0 in /opt/conda/lib/python3.11/site-packages (from matplotlib>=3->pymoo) (4.54.1)\n",
      "Requirement already satisfied: kiwisolver>=1.3.1 in /opt/conda/lib/python3.11/site-packages (from matplotlib>=3->pymoo) (1.4.7)\n",
      "Requirement already satisfied: packaging>=20.0 in /opt/conda/lib/python3.11/site-packages (from matplotlib>=3->pymoo) (24.1)\n",
      "Requirement already satisfied: pillow>=8 in /opt/conda/lib/python3.11/site-packages (from matplotlib>=3->pymoo) (11.0.0)\n",
      "Requirement already satisfied: pyparsing>=2.3.1 in /opt/conda/lib/python3.11/site-packages (from matplotlib>=3->pymoo) (3.2.0)\n",
      "Requirement already satisfied: python-dateutil>=2.7 in /opt/conda/lib/python3.11/site-packages (from matplotlib>=3->pymoo) (2.9.0)\n",
      "Requirement already satisfied: about-time==4.2.1 in /opt/conda/lib/python3.11/site-packages (from alive-progress->pymoo) (4.2.1)\n",
      "Requirement already satisfied: grapheme==0.6.0 in /opt/conda/lib/python3.11/site-packages (from alive-progress->pymoo) (0.6.0)\n",
      "Requirement already satisfied: wrapt<2,>=1.10 in /opt/conda/lib/python3.11/site-packages (from Deprecated->pymoo) (1.17.2)\n",
      "Requirement already satisfied: six>=1.5 in /opt/conda/lib/python3.11/site-packages (from python-dateutil>=2.7->matplotlib>=3->pymoo) (1.16.0)\n",
      "Note: you may need to restart the kernel to use updated packages.\n"
     ]
    }
   ],
   "source": [
    "%pip install optuna edge-ml tsflex plotly tsfresh torch timeout_decorator optunahub hebo ipywidgets\n",
    "%pip install  pymoo"
   ]
  },
  {
   "cell_type": "code",
   "execution_count": 2,
   "id": "4f6de6e6-2bd7-42e5-877f-b0db88683808",
   "metadata": {},
   "outputs": [
    {
     "data": {
      "text/markdown": [
       "from edgeml import DatasetReceiver\n",
       "project=DatasetReceiver(\"https://beta.edge-ml.org\",\"02a4fad735d3308b68672ddb7593f047\")\n",
       "project.loadData()\n"
      ],
      "text/plain": [
       "<IPython.core.display.Markdown object>"
      ]
     },
     "metadata": {},
     "output_type": "display_data"
    }
   ],
   "source": [
    "%%markdown\n",
    "from edgeml import DatasetReceiver\n",
    "project=DatasetReceiver(\"https://beta.edge-ml.org\",\"02a4fad735d3308b68672ddb7593f047\")\n",
    "project.loadData()"
   ]
  },
  {
   "cell_type": "code",
   "execution_count": 3,
   "id": "3f1e16d3-283d-47fa-a3d6-01781b646276",
   "metadata": {},
   "outputs": [
    {
     "data": {
      "text/markdown": [
       "import pickle\n",
       "pickle.dump(project, open(\"data_snapshot/project_css25_py311_np123.pkl\",\"wb\"))\n"
      ],
      "text/plain": [
       "<IPython.core.display.Markdown object>"
      ]
     },
     "metadata": {},
     "output_type": "display_data"
    }
   ],
   "source": [
    "%%markdown\n",
    "import pickle\n",
    "pickle.dump(project, open(\"data_snapshot/project_css25_py311_np123.pkl\",\"wb\"))"
   ]
  },
  {
   "cell_type": "code",
   "execution_count": 4,
   "id": "e5c3d1fa-a06f-4b9e-8ab5-f68dd9bea42a",
   "metadata": {},
   "outputs": [],
   "source": [
    "import pickle\n",
    "import pandas as pd\n",
    "project=pickle.load(open(\"data_snapshot/project_css25_py311_np123.pkl\",\"rb\"))"
   ]
  },
  {
   "cell_type": "code",
   "execution_count": 5,
   "id": "efcebbe4-58a2-47b5-8e6d-cdc5038ccc40",
   "metadata": {},
   "outputs": [],
   "source": [
    "sensor=\"deviceorientation\""
   ]
  },
  {
   "cell_type": "code",
   "execution_count": 6,
   "id": "5b5e171b-e580-4c8a-9737-6fad7959191f",
   "metadata": {},
   "outputs": [
    {
     "data": {
      "text/html": [
       "<div>\n",
       "<style scoped>\n",
       "    .dataframe tbody tr th:only-of-type {\n",
       "        vertical-align: middle;\n",
       "    }\n",
       "\n",
       "    .dataframe tbody tr th {\n",
       "        vertical-align: top;\n",
       "    }\n",
       "\n",
       "    .dataframe thead th {\n",
       "        text-align: right;\n",
       "    }\n",
       "</style>\n",
       "<table border=\"1\" class=\"dataframe\">\n",
       "  <thead>\n",
       "    <tr style=\"text-align: right;\">\n",
       "      <th></th>\n",
       "      <th></th>\n",
       "      <th>alpha</th>\n",
       "      <th>beta</th>\n",
       "      <th>gamma</th>\n",
       "      <th>activity</th>\n",
       "      <th>mobile</th>\n",
       "      <th>browser</th>\n",
       "    </tr>\n",
       "    <tr>\n",
       "      <th>participantId</th>\n",
       "      <th>time</th>\n",
       "      <th></th>\n",
       "      <th></th>\n",
       "      <th></th>\n",
       "      <th></th>\n",
       "      <th></th>\n",
       "      <th></th>\n",
       "    </tr>\n",
       "  </thead>\n",
       "  <tbody>\n",
       "    <tr>\n",
       "      <th rowspan=\"5\" valign=\"top\">10d83</th>\n",
       "      <th>2025-06-03 12:01:23.781</th>\n",
       "      <td>83.900002</td>\n",
       "      <td>58.700001</td>\n",
       "      <td>7.1</td>\n",
       "      <td>sitting</td>\n",
       "      <td>UnknownPhone</td>\n",
       "      <td>Chrome</td>\n",
       "    </tr>\n",
       "    <tr>\n",
       "      <th>2025-06-03 12:01:23.798</th>\n",
       "      <td>84.000000</td>\n",
       "      <td>58.599998</td>\n",
       "      <td>7.0</td>\n",
       "      <td>sitting</td>\n",
       "      <td>UnknownPhone</td>\n",
       "      <td>Chrome</td>\n",
       "    </tr>\n",
       "    <tr>\n",
       "      <th>2025-06-03 12:01:23.847</th>\n",
       "      <td>83.900002</td>\n",
       "      <td>58.700001</td>\n",
       "      <td>7.0</td>\n",
       "      <td>sitting</td>\n",
       "      <td>UnknownPhone</td>\n",
       "      <td>Chrome</td>\n",
       "    </tr>\n",
       "    <tr>\n",
       "      <th>2025-06-03 12:01:23.865</th>\n",
       "      <td>83.900002</td>\n",
       "      <td>58.700001</td>\n",
       "      <td>7.1</td>\n",
       "      <td>sitting</td>\n",
       "      <td>UnknownPhone</td>\n",
       "      <td>Chrome</td>\n",
       "    </tr>\n",
       "    <tr>\n",
       "      <th>2025-06-03 12:01:23.881</th>\n",
       "      <td>83.800003</td>\n",
       "      <td>58.599998</td>\n",
       "      <td>7.2</td>\n",
       "      <td>sitting</td>\n",
       "      <td>UnknownPhone</td>\n",
       "      <td>Chrome</td>\n",
       "    </tr>\n",
       "    <tr>\n",
       "      <th>...</th>\n",
       "      <th>...</th>\n",
       "      <td>...</td>\n",
       "      <td>...</td>\n",
       "      <td>...</td>\n",
       "      <td>...</td>\n",
       "      <td>...</td>\n",
       "      <td>...</td>\n",
       "    </tr>\n",
       "    <tr>\n",
       "      <th rowspan=\"5\" valign=\"top\">152a7</th>\n",
       "      <th>2025-07-07 14:36:18.050</th>\n",
       "      <td>262.799988</td>\n",
       "      <td>30.799999</td>\n",
       "      <td>1.1</td>\n",
       "      <td>standing</td>\n",
       "      <td>UnknownPhone</td>\n",
       "      <td>Chrome</td>\n",
       "    </tr>\n",
       "    <tr>\n",
       "      <th>2025-07-07 14:36:18.067</th>\n",
       "      <td>262.899994</td>\n",
       "      <td>30.700001</td>\n",
       "      <td>1.0</td>\n",
       "      <td>standing</td>\n",
       "      <td>UnknownPhone</td>\n",
       "      <td>Chrome</td>\n",
       "    </tr>\n",
       "    <tr>\n",
       "      <th>2025-07-07 14:36:18.083</th>\n",
       "      <td>263.000000</td>\n",
       "      <td>30.700001</td>\n",
       "      <td>0.8</td>\n",
       "      <td>standing</td>\n",
       "      <td>UnknownPhone</td>\n",
       "      <td>Chrome</td>\n",
       "    </tr>\n",
       "    <tr>\n",
       "      <th>2025-07-07 14:36:18.100</th>\n",
       "      <td>263.100006</td>\n",
       "      <td>30.700001</td>\n",
       "      <td>0.6</td>\n",
       "      <td>standing</td>\n",
       "      <td>UnknownPhone</td>\n",
       "      <td>Chrome</td>\n",
       "    </tr>\n",
       "    <tr>\n",
       "      <th>2025-07-07 14:36:18.133</th>\n",
       "      <td>263.299988</td>\n",
       "      <td>30.700001</td>\n",
       "      <td>0.5</td>\n",
       "      <td>standing</td>\n",
       "      <td>UnknownPhone</td>\n",
       "      <td>Chrome</td>\n",
       "    </tr>\n",
       "  </tbody>\n",
       "</table>\n",
       "<p>89730 rows × 6 columns</p>\n",
       "</div>"
      ],
      "text/plain": [
       "                                            alpha       beta  gamma  activity  \\\n",
       "participantId time                                                              \n",
       "10d83         2025-06-03 12:01:23.781   83.900002  58.700001    7.1   sitting   \n",
       "              2025-06-03 12:01:23.798   84.000000  58.599998    7.0   sitting   \n",
       "              2025-06-03 12:01:23.847   83.900002  58.700001    7.0   sitting   \n",
       "              2025-06-03 12:01:23.865   83.900002  58.700001    7.1   sitting   \n",
       "              2025-06-03 12:01:23.881   83.800003  58.599998    7.2   sitting   \n",
       "...                                           ...        ...    ...       ...   \n",
       "152a7         2025-07-07 14:36:18.050  262.799988  30.799999    1.1  standing   \n",
       "              2025-07-07 14:36:18.067  262.899994  30.700001    1.0  standing   \n",
       "              2025-07-07 14:36:18.083  263.000000  30.700001    0.8  standing   \n",
       "              2025-07-07 14:36:18.100  263.100006  30.700001    0.6  standing   \n",
       "              2025-07-07 14:36:18.133  263.299988  30.700001    0.5  standing   \n",
       "\n",
       "                                             mobile browser  \n",
       "participantId time                                           \n",
       "10d83         2025-06-03 12:01:23.781  UnknownPhone  Chrome  \n",
       "              2025-06-03 12:01:23.798  UnknownPhone  Chrome  \n",
       "              2025-06-03 12:01:23.847  UnknownPhone  Chrome  \n",
       "              2025-06-03 12:01:23.865  UnknownPhone  Chrome  \n",
       "              2025-06-03 12:01:23.881  UnknownPhone  Chrome  \n",
       "...                                             ...     ...  \n",
       "152a7         2025-07-07 14:36:18.050  UnknownPhone  Chrome  \n",
       "              2025-07-07 14:36:18.067  UnknownPhone  Chrome  \n",
       "              2025-07-07 14:36:18.083  UnknownPhone  Chrome  \n",
       "              2025-07-07 14:36:18.100  UnknownPhone  Chrome  \n",
       "              2025-07-07 14:36:18.133  UnknownPhone  Chrome  \n",
       "\n",
       "[89730 rows x 6 columns]"
      ]
     },
     "execution_count": 6,
     "metadata": {},
     "output_type": "execute_result"
    }
   ],
   "source": [
    "df=pd.concat([d.data.iloc[40:-40].dropna().assign(**d.metaData) for d  in project.datasets if (d.name == sensor and d.data.shape[0]>0) and d.timeSeries[0].end-d.timeSeries[0].start>10000] )\n",
    "df.set_index([\"participantId\",\"time\"], inplace=True)\n",
    "df=df[df.activity!=\"testing\"]\n",
    "df"
   ]
  },
  {
   "cell_type": "code",
   "execution_count": 7,
   "id": "49261ab4-9a05-48c3-a7aa-13fe93a031ee",
   "metadata": {},
   "outputs": [
    {
     "data": {
      "text/plain": [
       "['alpha', 'beta', 'gamma']"
      ]
     },
     "execution_count": 7,
     "metadata": {},
     "output_type": "execute_result"
    }
   ],
   "source": [
    "ts_cols=[col for col in df.columns if col not in [\"activity\",\"mobile\",\"browser\"] ]\n",
    "ts_cols"
   ]
  },
  {
   "cell_type": "code",
   "execution_count": 8,
   "id": "ee9d9f55-0e36-4b7d-b942-bfed1a4f7cc2",
   "metadata": {},
   "outputs": [],
   "source": [
    "from tsflex.features import FeatureCollection, FuncWrapper, MultipleFeatureDescriptors\n",
    "from tsflex.processing import SeriesProcessor\n",
    "from tsflex.features.integrations import tsfresh_settings_wrapper\n",
    "from tsfresh.feature_extraction import MinimalFCParameters\n",
    "\n",
    "import numpy as np\n",
    "\n",
    " \n",
    "\n",
    "# Common statistical + signal features approximating TSFRESH minimal set\n",
    "tsfresh_minimal_funcs =   [\n",
    "        FuncWrapper(np.sum, output_names=\"sum\"),\n",
    "        FuncWrapper(np.median, output_names=\"median\"),\n",
    "        FuncWrapper(np.mean, output_names=\"mean\"),\n",
    "        FuncWrapper(lambda x: len(x), output_names=\"length\"),\n",
    "        FuncWrapper(np.std, output_names=\"std_dev\"),\n",
    "        FuncWrapper(np.var, output_names=\"var\"),\n",
    "        FuncWrapper(lambda x: np.sqrt(np.mean(np.square(x))), output_names=\"root_mean_square\"),\n",
    "        FuncWrapper(lambda x: np.max(x) if len(x) > 0 else np.nan, output_names=\"max\"),\n",
    "        FuncWrapper(lambda x: np.max(np.abs(x)) if len(x) > 0 else np.nan, output_names=\"abs_max\"),\n",
    "        FuncWrapper(lambda x: np.min(x) if len(x) > 0 else np.nan, output_names=\"min\"),\n",
    "    ]\n",
    "#tsfresh_minimal_funcs=tsfresh_settings_wrapper(MinimalFCParameters())\n",
    "\n",
    "window_ms=1000\n",
    "\n",
    "fc = FeatureCollection( feature_descriptors = [ MultipleFeatureDescriptors(  \n",
    "        series_names=ts_cols , \n",
    "        functions=tsfresh_minimal_funcs,\n",
    "        windows=[f\"{window_ms}ms\"],\n",
    "        strides=[f\"{int(window_ms/10)}ms\"]\n",
    "        )\n",
    "        ] )\n"
   ]
  },
  {
   "cell_type": "code",
   "execution_count": 9,
   "id": "73bd7276-bc99-45a3-9052-bb76a1d1849e",
   "metadata": {},
   "outputs": [
    {
     "name": "stdout",
     "output_type": "stream",
     "text": [
      "env: PYTHONWARNINGS=ignore\n"
     ]
    },
    {
     "data": {
      "application/vnd.jupyter.widget-view+json": {
       "model_id": "c66c1d5cea604daebbbb9e7c6742a295",
       "version_major": 2,
       "version_minor": 0
      },
      "text/plain": [
       "Processing groups:   0%|          | 0/24 [00:00<?, ?it/s]"
      ]
     },
     "metadata": {},
     "output_type": "display_data"
    },
    {
     "data": {
      "text/html": [
       "<div>\n",
       "<style scoped>\n",
       "    .dataframe tbody tr th:only-of-type {\n",
       "        vertical-align: middle;\n",
       "    }\n",
       "\n",
       "    .dataframe tbody tr th {\n",
       "        vertical-align: top;\n",
       "    }\n",
       "\n",
       "    .dataframe thead th {\n",
       "        text-align: right;\n",
       "    }\n",
       "</style>\n",
       "<table border=\"1\" class=\"dataframe\">\n",
       "  <thead>\n",
       "    <tr style=\"text-align: right;\">\n",
       "      <th></th>\n",
       "      <th></th>\n",
       "      <th>alpha__sum__w=1s</th>\n",
       "      <th>alpha__median__w=1s</th>\n",
       "      <th>alpha__mean__w=1s</th>\n",
       "      <th>alpha__length__w=1s</th>\n",
       "      <th>alpha__std_dev__w=1s</th>\n",
       "      <th>alpha__var__w=1s</th>\n",
       "      <th>alpha__root_mean_square__w=1s</th>\n",
       "      <th>alpha__max__w=1s</th>\n",
       "      <th>alpha__abs_max__w=1s</th>\n",
       "      <th>alpha__min__w=1s</th>\n",
       "      <th>...</th>\n",
       "      <th>gamma__median__w=1s</th>\n",
       "      <th>gamma__mean__w=1s</th>\n",
       "      <th>gamma__length__w=1s</th>\n",
       "      <th>gamma__std_dev__w=1s</th>\n",
       "      <th>gamma__var__w=1s</th>\n",
       "      <th>gamma__root_mean_square__w=1s</th>\n",
       "      <th>gamma__max__w=1s</th>\n",
       "      <th>gamma__abs_max__w=1s</th>\n",
       "      <th>gamma__min__w=1s</th>\n",
       "      <th>activity</th>\n",
       "    </tr>\n",
       "    <tr>\n",
       "      <th>participantId</th>\n",
       "      <th>time</th>\n",
       "      <th></th>\n",
       "      <th></th>\n",
       "      <th></th>\n",
       "      <th></th>\n",
       "      <th></th>\n",
       "      <th></th>\n",
       "      <th></th>\n",
       "      <th></th>\n",
       "      <th></th>\n",
       "      <th></th>\n",
       "      <th></th>\n",
       "      <th></th>\n",
       "      <th></th>\n",
       "      <th></th>\n",
       "      <th></th>\n",
       "      <th></th>\n",
       "      <th></th>\n",
       "      <th></th>\n",
       "      <th></th>\n",
       "      <th></th>\n",
       "      <th></th>\n",
       "    </tr>\n",
       "  </thead>\n",
       "  <tbody>\n",
       "    <tr>\n",
       "      <th rowspan=\"5\" valign=\"top\">10d83</th>\n",
       "      <th>2025-06-03 12:01:24.781</th>\n",
       "      <td>2515.500000</td>\n",
       "      <td>83.850006</td>\n",
       "      <td>83.849998</td>\n",
       "      <td>30</td>\n",
       "      <td>0.117615</td>\n",
       "      <td>0.013833</td>\n",
       "      <td>83.850075</td>\n",
       "      <td>84.099998</td>\n",
       "      <td>84.099998</td>\n",
       "      <td>83.599998</td>\n",
       "      <td>...</td>\n",
       "      <td>7.100</td>\n",
       "      <td>7.093333</td>\n",
       "      <td>30</td>\n",
       "      <td>0.169181</td>\n",
       "      <td>0.028622</td>\n",
       "      <td>7.095351</td>\n",
       "      <td>7.40</td>\n",
       "      <td>7.40</td>\n",
       "      <td>6.70</td>\n",
       "      <td>sitting</td>\n",
       "    </tr>\n",
       "    <tr>\n",
       "      <th>2025-06-03 12:01:24.881</th>\n",
       "      <td>2431.700195</td>\n",
       "      <td>83.800003</td>\n",
       "      <td>83.851730</td>\n",
       "      <td>29</td>\n",
       "      <td>0.127633</td>\n",
       "      <td>0.016290</td>\n",
       "      <td>83.851822</td>\n",
       "      <td>84.099998</td>\n",
       "      <td>84.099998</td>\n",
       "      <td>83.599998</td>\n",
       "      <td>...</td>\n",
       "      <td>7.100</td>\n",
       "      <td>7.096552</td>\n",
       "      <td>29</td>\n",
       "      <td>0.175151</td>\n",
       "      <td>0.030678</td>\n",
       "      <td>7.098713</td>\n",
       "      <td>7.40</td>\n",
       "      <td>7.40</td>\n",
       "      <td>6.70</td>\n",
       "      <td>sitting</td>\n",
       "    </tr>\n",
       "    <tr>\n",
       "      <th>2025-06-03 12:01:24.981</th>\n",
       "      <td>2516.600586</td>\n",
       "      <td>83.900002</td>\n",
       "      <td>83.886688</td>\n",
       "      <td>30</td>\n",
       "      <td>0.145449</td>\n",
       "      <td>0.021155</td>\n",
       "      <td>83.886795</td>\n",
       "      <td>84.099998</td>\n",
       "      <td>84.099998</td>\n",
       "      <td>83.599998</td>\n",
       "      <td>...</td>\n",
       "      <td>7.000</td>\n",
       "      <td>7.056666</td>\n",
       "      <td>30</td>\n",
       "      <td>0.178294</td>\n",
       "      <td>0.031789</td>\n",
       "      <td>7.058918</td>\n",
       "      <td>7.40</td>\n",
       "      <td>7.40</td>\n",
       "      <td>6.70</td>\n",
       "      <td>sitting</td>\n",
       "    </tr>\n",
       "    <tr>\n",
       "      <th>2025-06-03 12:01:25.081</th>\n",
       "      <td>2433.200195</td>\n",
       "      <td>83.900002</td>\n",
       "      <td>83.903458</td>\n",
       "      <td>29</td>\n",
       "      <td>0.137672</td>\n",
       "      <td>0.018954</td>\n",
       "      <td>83.903564</td>\n",
       "      <td>84.099998</td>\n",
       "      <td>84.099998</td>\n",
       "      <td>83.599998</td>\n",
       "      <td>...</td>\n",
       "      <td>7.000</td>\n",
       "      <td>7.041379</td>\n",
       "      <td>29</td>\n",
       "      <td>0.167161</td>\n",
       "      <td>0.027943</td>\n",
       "      <td>7.043363</td>\n",
       "      <td>7.40</td>\n",
       "      <td>7.40</td>\n",
       "      <td>6.70</td>\n",
       "      <td>sitting</td>\n",
       "    </tr>\n",
       "    <tr>\n",
       "      <th>2025-06-03 12:01:25.181</th>\n",
       "      <td>2349.600098</td>\n",
       "      <td>83.900002</td>\n",
       "      <td>83.914291</td>\n",
       "      <td>28</td>\n",
       "      <td>0.132864</td>\n",
       "      <td>0.017653</td>\n",
       "      <td>83.914391</td>\n",
       "      <td>84.099998</td>\n",
       "      <td>84.099998</td>\n",
       "      <td>83.599998</td>\n",
       "      <td>...</td>\n",
       "      <td>7.000</td>\n",
       "      <td>7.057143</td>\n",
       "      <td>28</td>\n",
       "      <td>0.154524</td>\n",
       "      <td>0.023878</td>\n",
       "      <td>7.058835</td>\n",
       "      <td>7.40</td>\n",
       "      <td>7.40</td>\n",
       "      <td>6.80</td>\n",
       "      <td>sitting</td>\n",
       "    </tr>\n",
       "    <tr>\n",
       "      <th>...</th>\n",
       "      <th>...</th>\n",
       "      <td>...</td>\n",
       "      <td>...</td>\n",
       "      <td>...</td>\n",
       "      <td>...</td>\n",
       "      <td>...</td>\n",
       "      <td>...</td>\n",
       "      <td>...</td>\n",
       "      <td>...</td>\n",
       "      <td>...</td>\n",
       "      <td>...</td>\n",
       "      <td>...</td>\n",
       "      <td>...</td>\n",
       "      <td>...</td>\n",
       "      <td>...</td>\n",
       "      <td>...</td>\n",
       "      <td>...</td>\n",
       "      <td>...</td>\n",
       "      <td>...</td>\n",
       "      <td>...</td>\n",
       "      <td>...</td>\n",
       "      <td>...</td>\n",
       "    </tr>\n",
       "    <tr>\n",
       "      <th rowspan=\"5\" valign=\"top\">1f683</th>\n",
       "      <th>2025-06-23 19:10:29.060</th>\n",
       "      <td>834.509949</td>\n",
       "      <td>12.525000</td>\n",
       "      <td>13.908499</td>\n",
       "      <td>60</td>\n",
       "      <td>2.439942</td>\n",
       "      <td>5.953319</td>\n",
       "      <td>14.120895</td>\n",
       "      <td>17.719999</td>\n",
       "      <td>17.719999</td>\n",
       "      <td>11.410000</td>\n",
       "      <td>...</td>\n",
       "      <td>-15.145</td>\n",
       "      <td>-13.838166</td>\n",
       "      <td>60</td>\n",
       "      <td>5.448740</td>\n",
       "      <td>29.688772</td>\n",
       "      <td>14.872244</td>\n",
       "      <td>-5.06</td>\n",
       "      <td>20.18</td>\n",
       "      <td>-20.18</td>\n",
       "      <td>sitting</td>\n",
       "    </tr>\n",
       "    <tr>\n",
       "      <th>2025-06-23 19:10:29.160</th>\n",
       "      <td>824.580017</td>\n",
       "      <td>12.525000</td>\n",
       "      <td>13.743000</td>\n",
       "      <td>60</td>\n",
       "      <td>2.343845</td>\n",
       "      <td>5.493608</td>\n",
       "      <td>13.941437</td>\n",
       "      <td>17.719999</td>\n",
       "      <td>17.719999</td>\n",
       "      <td>11.410000</td>\n",
       "      <td>...</td>\n",
       "      <td>-15.145</td>\n",
       "      <td>-14.440166</td>\n",
       "      <td>60</td>\n",
       "      <td>4.825089</td>\n",
       "      <td>23.281481</td>\n",
       "      <td>15.224977</td>\n",
       "      <td>-5.39</td>\n",
       "      <td>20.18</td>\n",
       "      <td>-20.18</td>\n",
       "      <td>sitting</td>\n",
       "    </tr>\n",
       "    <tr>\n",
       "      <th>2025-06-23 19:10:29.260</th>\n",
       "      <td>805.789978</td>\n",
       "      <td>12.525000</td>\n",
       "      <td>13.429833</td>\n",
       "      <td>60</td>\n",
       "      <td>2.063793</td>\n",
       "      <td>4.259242</td>\n",
       "      <td>13.587481</td>\n",
       "      <td>17.719999</td>\n",
       "      <td>17.719999</td>\n",
       "      <td>11.410000</td>\n",
       "      <td>...</td>\n",
       "      <td>-15.145</td>\n",
       "      <td>-15.099500</td>\n",
       "      <td>60</td>\n",
       "      <td>3.949962</td>\n",
       "      <td>15.602202</td>\n",
       "      <td>15.607598</td>\n",
       "      <td>-7.75</td>\n",
       "      <td>20.18</td>\n",
       "      <td>-20.18</td>\n",
       "      <td>sitting</td>\n",
       "    </tr>\n",
       "    <tr>\n",
       "      <th>2025-06-23 19:10:29.360</th>\n",
       "      <td>782.669983</td>\n",
       "      <td>12.445000</td>\n",
       "      <td>13.044499</td>\n",
       "      <td>60</td>\n",
       "      <td>1.648176</td>\n",
       "      <td>2.716485</td>\n",
       "      <td>13.148212</td>\n",
       "      <td>17.709999</td>\n",
       "      <td>17.709999</td>\n",
       "      <td>11.410000</td>\n",
       "      <td>...</td>\n",
       "      <td>-15.145</td>\n",
       "      <td>-15.353333</td>\n",
       "      <td>60</td>\n",
       "      <td>3.598564</td>\n",
       "      <td>12.949662</td>\n",
       "      <td>15.769417</td>\n",
       "      <td>-9.18</td>\n",
       "      <td>20.18</td>\n",
       "      <td>-20.18</td>\n",
       "      <td>sitting</td>\n",
       "    </tr>\n",
       "    <tr>\n",
       "      <th>2025-06-23 19:10:29.460</th>\n",
       "      <td>761.979980</td>\n",
       "      <td>11.900000</td>\n",
       "      <td>12.491475</td>\n",
       "      <td>61</td>\n",
       "      <td>1.103872</td>\n",
       "      <td>1.218534</td>\n",
       "      <td>12.540155</td>\n",
       "      <td>14.620000</td>\n",
       "      <td>14.620000</td>\n",
       "      <td>10.600000</td>\n",
       "      <td>...</td>\n",
       "      <td>-15.140</td>\n",
       "      <td>-15.391477</td>\n",
       "      <td>61</td>\n",
       "      <td>3.443854</td>\n",
       "      <td>11.860130</td>\n",
       "      <td>15.772053</td>\n",
       "      <td>-10.95</td>\n",
       "      <td>20.18</td>\n",
       "      <td>-20.18</td>\n",
       "      <td>sitting</td>\n",
       "    </tr>\n",
       "  </tbody>\n",
       "</table>\n",
       "<p>9378 rows × 31 columns</p>\n",
       "</div>"
      ],
      "text/plain": [
       "                                       alpha__sum__w=1s  alpha__median__w=1s  \\\n",
       "participantId time                                                             \n",
       "10d83         2025-06-03 12:01:24.781       2515.500000            83.850006   \n",
       "              2025-06-03 12:01:24.881       2431.700195            83.800003   \n",
       "              2025-06-03 12:01:24.981       2516.600586            83.900002   \n",
       "              2025-06-03 12:01:25.081       2433.200195            83.900002   \n",
       "              2025-06-03 12:01:25.181       2349.600098            83.900002   \n",
       "...                                                 ...                  ...   \n",
       "1f683         2025-06-23 19:10:29.060        834.509949            12.525000   \n",
       "              2025-06-23 19:10:29.160        824.580017            12.525000   \n",
       "              2025-06-23 19:10:29.260        805.789978            12.525000   \n",
       "              2025-06-23 19:10:29.360        782.669983            12.445000   \n",
       "              2025-06-23 19:10:29.460        761.979980            11.900000   \n",
       "\n",
       "                                       alpha__mean__w=1s  alpha__length__w=1s  \\\n",
       "participantId time                                                              \n",
       "10d83         2025-06-03 12:01:24.781          83.849998                   30   \n",
       "              2025-06-03 12:01:24.881          83.851730                   29   \n",
       "              2025-06-03 12:01:24.981          83.886688                   30   \n",
       "              2025-06-03 12:01:25.081          83.903458                   29   \n",
       "              2025-06-03 12:01:25.181          83.914291                   28   \n",
       "...                                                  ...                  ...   \n",
       "1f683         2025-06-23 19:10:29.060          13.908499                   60   \n",
       "              2025-06-23 19:10:29.160          13.743000                   60   \n",
       "              2025-06-23 19:10:29.260          13.429833                   60   \n",
       "              2025-06-23 19:10:29.360          13.044499                   60   \n",
       "              2025-06-23 19:10:29.460          12.491475                   61   \n",
       "\n",
       "                                       alpha__std_dev__w=1s  alpha__var__w=1s  \\\n",
       "participantId time                                                              \n",
       "10d83         2025-06-03 12:01:24.781              0.117615          0.013833   \n",
       "              2025-06-03 12:01:24.881              0.127633          0.016290   \n",
       "              2025-06-03 12:01:24.981              0.145449          0.021155   \n",
       "              2025-06-03 12:01:25.081              0.137672          0.018954   \n",
       "              2025-06-03 12:01:25.181              0.132864          0.017653   \n",
       "...                                                     ...               ...   \n",
       "1f683         2025-06-23 19:10:29.060              2.439942          5.953319   \n",
       "              2025-06-23 19:10:29.160              2.343845          5.493608   \n",
       "              2025-06-23 19:10:29.260              2.063793          4.259242   \n",
       "              2025-06-23 19:10:29.360              1.648176          2.716485   \n",
       "              2025-06-23 19:10:29.460              1.103872          1.218534   \n",
       "\n",
       "                                       alpha__root_mean_square__w=1s  \\\n",
       "participantId time                                                     \n",
       "10d83         2025-06-03 12:01:24.781                      83.850075   \n",
       "              2025-06-03 12:01:24.881                      83.851822   \n",
       "              2025-06-03 12:01:24.981                      83.886795   \n",
       "              2025-06-03 12:01:25.081                      83.903564   \n",
       "              2025-06-03 12:01:25.181                      83.914391   \n",
       "...                                                              ...   \n",
       "1f683         2025-06-23 19:10:29.060                      14.120895   \n",
       "              2025-06-23 19:10:29.160                      13.941437   \n",
       "              2025-06-23 19:10:29.260                      13.587481   \n",
       "              2025-06-23 19:10:29.360                      13.148212   \n",
       "              2025-06-23 19:10:29.460                      12.540155   \n",
       "\n",
       "                                       alpha__max__w=1s  alpha__abs_max__w=1s  \\\n",
       "participantId time                                                              \n",
       "10d83         2025-06-03 12:01:24.781         84.099998             84.099998   \n",
       "              2025-06-03 12:01:24.881         84.099998             84.099998   \n",
       "              2025-06-03 12:01:24.981         84.099998             84.099998   \n",
       "              2025-06-03 12:01:25.081         84.099998             84.099998   \n",
       "              2025-06-03 12:01:25.181         84.099998             84.099998   \n",
       "...                                                 ...                   ...   \n",
       "1f683         2025-06-23 19:10:29.060         17.719999             17.719999   \n",
       "              2025-06-23 19:10:29.160         17.719999             17.719999   \n",
       "              2025-06-23 19:10:29.260         17.719999             17.719999   \n",
       "              2025-06-23 19:10:29.360         17.709999             17.709999   \n",
       "              2025-06-23 19:10:29.460         14.620000             14.620000   \n",
       "\n",
       "                                       alpha__min__w=1s  ...  \\\n",
       "participantId time                                       ...   \n",
       "10d83         2025-06-03 12:01:24.781         83.599998  ...   \n",
       "              2025-06-03 12:01:24.881         83.599998  ...   \n",
       "              2025-06-03 12:01:24.981         83.599998  ...   \n",
       "              2025-06-03 12:01:25.081         83.599998  ...   \n",
       "              2025-06-03 12:01:25.181         83.599998  ...   \n",
       "...                                                 ...  ...   \n",
       "1f683         2025-06-23 19:10:29.060         11.410000  ...   \n",
       "              2025-06-23 19:10:29.160         11.410000  ...   \n",
       "              2025-06-23 19:10:29.260         11.410000  ...   \n",
       "              2025-06-23 19:10:29.360         11.410000  ...   \n",
       "              2025-06-23 19:10:29.460         10.600000  ...   \n",
       "\n",
       "                                       gamma__median__w=1s  gamma__mean__w=1s  \\\n",
       "participantId time                                                              \n",
       "10d83         2025-06-03 12:01:24.781                7.100           7.093333   \n",
       "              2025-06-03 12:01:24.881                7.100           7.096552   \n",
       "              2025-06-03 12:01:24.981                7.000           7.056666   \n",
       "              2025-06-03 12:01:25.081                7.000           7.041379   \n",
       "              2025-06-03 12:01:25.181                7.000           7.057143   \n",
       "...                                                    ...                ...   \n",
       "1f683         2025-06-23 19:10:29.060              -15.145         -13.838166   \n",
       "              2025-06-23 19:10:29.160              -15.145         -14.440166   \n",
       "              2025-06-23 19:10:29.260              -15.145         -15.099500   \n",
       "              2025-06-23 19:10:29.360              -15.145         -15.353333   \n",
       "              2025-06-23 19:10:29.460              -15.140         -15.391477   \n",
       "\n",
       "                                       gamma__length__w=1s  \\\n",
       "participantId time                                           \n",
       "10d83         2025-06-03 12:01:24.781                   30   \n",
       "              2025-06-03 12:01:24.881                   29   \n",
       "              2025-06-03 12:01:24.981                   30   \n",
       "              2025-06-03 12:01:25.081                   29   \n",
       "              2025-06-03 12:01:25.181                   28   \n",
       "...                                                    ...   \n",
       "1f683         2025-06-23 19:10:29.060                   60   \n",
       "              2025-06-23 19:10:29.160                   60   \n",
       "              2025-06-23 19:10:29.260                   60   \n",
       "              2025-06-23 19:10:29.360                   60   \n",
       "              2025-06-23 19:10:29.460                   61   \n",
       "\n",
       "                                       gamma__std_dev__w=1s  gamma__var__w=1s  \\\n",
       "participantId time                                                              \n",
       "10d83         2025-06-03 12:01:24.781              0.169181          0.028622   \n",
       "              2025-06-03 12:01:24.881              0.175151          0.030678   \n",
       "              2025-06-03 12:01:24.981              0.178294          0.031789   \n",
       "              2025-06-03 12:01:25.081              0.167161          0.027943   \n",
       "              2025-06-03 12:01:25.181              0.154524          0.023878   \n",
       "...                                                     ...               ...   \n",
       "1f683         2025-06-23 19:10:29.060              5.448740         29.688772   \n",
       "              2025-06-23 19:10:29.160              4.825089         23.281481   \n",
       "              2025-06-23 19:10:29.260              3.949962         15.602202   \n",
       "              2025-06-23 19:10:29.360              3.598564         12.949662   \n",
       "              2025-06-23 19:10:29.460              3.443854         11.860130   \n",
       "\n",
       "                                       gamma__root_mean_square__w=1s  \\\n",
       "participantId time                                                     \n",
       "10d83         2025-06-03 12:01:24.781                       7.095351   \n",
       "              2025-06-03 12:01:24.881                       7.098713   \n",
       "              2025-06-03 12:01:24.981                       7.058918   \n",
       "              2025-06-03 12:01:25.081                       7.043363   \n",
       "              2025-06-03 12:01:25.181                       7.058835   \n",
       "...                                                              ...   \n",
       "1f683         2025-06-23 19:10:29.060                      14.872244   \n",
       "              2025-06-23 19:10:29.160                      15.224977   \n",
       "              2025-06-23 19:10:29.260                      15.607598   \n",
       "              2025-06-23 19:10:29.360                      15.769417   \n",
       "              2025-06-23 19:10:29.460                      15.772053   \n",
       "\n",
       "                                       gamma__max__w=1s  gamma__abs_max__w=1s  \\\n",
       "participantId time                                                              \n",
       "10d83         2025-06-03 12:01:24.781              7.40                  7.40   \n",
       "              2025-06-03 12:01:24.881              7.40                  7.40   \n",
       "              2025-06-03 12:01:24.981              7.40                  7.40   \n",
       "              2025-06-03 12:01:25.081              7.40                  7.40   \n",
       "              2025-06-03 12:01:25.181              7.40                  7.40   \n",
       "...                                                 ...                   ...   \n",
       "1f683         2025-06-23 19:10:29.060             -5.06                 20.18   \n",
       "              2025-06-23 19:10:29.160             -5.39                 20.18   \n",
       "              2025-06-23 19:10:29.260             -7.75                 20.18   \n",
       "              2025-06-23 19:10:29.360             -9.18                 20.18   \n",
       "              2025-06-23 19:10:29.460            -10.95                 20.18   \n",
       "\n",
       "                                       gamma__min__w=1s  activity  \n",
       "participantId time                                                 \n",
       "10d83         2025-06-03 12:01:24.781              6.70   sitting  \n",
       "              2025-06-03 12:01:24.881              6.70   sitting  \n",
       "              2025-06-03 12:01:24.981              6.70   sitting  \n",
       "              2025-06-03 12:01:25.081              6.70   sitting  \n",
       "              2025-06-03 12:01:25.181              6.80   sitting  \n",
       "...                                                 ...       ...  \n",
       "1f683         2025-06-23 19:10:29.060            -20.18   sitting  \n",
       "              2025-06-23 19:10:29.160            -20.18   sitting  \n",
       "              2025-06-23 19:10:29.260            -20.18   sitting  \n",
       "              2025-06-23 19:10:29.360            -20.18   sitting  \n",
       "              2025-06-23 19:10:29.460            -20.18   sitting  \n",
       "\n",
       "[9378 rows x 31 columns]"
      ]
     },
     "execution_count": 9,
     "metadata": {},
     "output_type": "execute_result"
    }
   ],
   "source": [
    "%env PYTHONWARNINGS=ignore\n",
    "\n",
    "import warnings\n",
    "\n",
    "from joblib import Parallel, delayed\n",
    "from tqdm.notebook import tqdm\n",
    "\n",
    "\n",
    "\n",
    "\n",
    "# Prepare the groups\n",
    "grouped = df.reset_index().set_index(\"time\").groupby([\"participantId\", \"activity\"])\n",
    "\n",
    "# Optional: Convert to a list to avoid multiple iterations over the generator\n",
    "grouped_items = list(grouped)\n",
    "\n",
    "# Define your processing function\n",
    "def process_group(pid, group):\n",
    "    warnings.filterwarnings('ignore')\n",
    "    feats=pd.concat(fc.calculate(group, n_jobs=1),axis=1)\n",
    "    #display(feats)\n",
    "    feats[\"participantId\"]=pid[0]\n",
    "    feats[\"activity\"] = pid[1]\n",
    "    return feats.dropna().reset_index().set_index([\"participantId\",\"time\"])\n",
    "\n",
    "# Wrap with tqdm for progress\n",
    "results = Parallel(n_jobs=-1)(\n",
    "    delayed(process_group)(pid, group)\n",
    "    for pid, group in tqdm(grouped_items, desc=\"Processing groups\")\n",
    ")\n",
    "\n",
    "\n",
    "df1=pd.concat(results, axis=0)\n",
    " #   display(all_feats)\n",
    "\n",
    "df1"
   ]
  },
  {
   "cell_type": "code",
   "execution_count": 10,
   "id": "568d6f84-36c9-4833-83fb-ff171174e0de",
   "metadata": {},
   "outputs": [
    {
     "data": {
      "text/plain": [
       "[FuncWrapper(sum, ['sum'], {}),\n",
       " FuncWrapper(median, ['median'], {}),\n",
       " FuncWrapper(mean, ['mean'], {}),\n",
       " FuncWrapper(<lambda>, ['length'], {}),\n",
       " FuncWrapper(std, ['std_dev'], {}),\n",
       " FuncWrapper(var, ['var'], {}),\n",
       " FuncWrapper(<lambda>, ['root_mean_square'], {}),\n",
       " FuncWrapper(<lambda>, ['max'], {}),\n",
       " FuncWrapper(<lambda>, ['abs_max'], {}),\n",
       " FuncWrapper(<lambda>, ['min'], {})]"
      ]
     },
     "execution_count": 10,
     "metadata": {},
     "output_type": "execute_result"
    }
   ],
   "source": [
    "tsfresh_minimal_funcs"
   ]
  },
  {
   "cell_type": "code",
   "execution_count": 11,
   "id": "aa67fb41-af85-40a4-ab0e-2f316ff27bd4",
   "metadata": {
    "tags": []
   },
   "outputs": [
    {
     "data": {
      "text/html": [
       "<div>\n",
       "<style scoped>\n",
       "    .dataframe tbody tr th:only-of-type {\n",
       "        vertical-align: middle;\n",
       "    }\n",
       "\n",
       "    .dataframe tbody tr th {\n",
       "        vertical-align: top;\n",
       "    }\n",
       "\n",
       "    .dataframe thead th {\n",
       "        text-align: right;\n",
       "    }\n",
       "</style>\n",
       "<table border=\"1\" class=\"dataframe\">\n",
       "  <thead>\n",
       "    <tr style=\"text-align: right;\">\n",
       "      <th></th>\n",
       "      <th></th>\n",
       "      <th>alpha__sum__w=1s</th>\n",
       "      <th>alpha__median__w=1s</th>\n",
       "      <th>alpha__mean__w=1s</th>\n",
       "      <th>alpha__length__w=1s</th>\n",
       "      <th>alpha__std_dev__w=1s</th>\n",
       "      <th>alpha__var__w=1s</th>\n",
       "      <th>alpha__root_mean_square__w=1s</th>\n",
       "      <th>alpha__max__w=1s</th>\n",
       "      <th>alpha__abs_max__w=1s</th>\n",
       "      <th>alpha__min__w=1s</th>\n",
       "      <th>...</th>\n",
       "      <th>gamma__median__w=1s</th>\n",
       "      <th>gamma__mean__w=1s</th>\n",
       "      <th>gamma__length__w=1s</th>\n",
       "      <th>gamma__std_dev__w=1s</th>\n",
       "      <th>gamma__var__w=1s</th>\n",
       "      <th>gamma__root_mean_square__w=1s</th>\n",
       "      <th>gamma__max__w=1s</th>\n",
       "      <th>gamma__abs_max__w=1s</th>\n",
       "      <th>gamma__min__w=1s</th>\n",
       "      <th>activity</th>\n",
       "    </tr>\n",
       "    <tr>\n",
       "      <th>participantId</th>\n",
       "      <th>time</th>\n",
       "      <th></th>\n",
       "      <th></th>\n",
       "      <th></th>\n",
       "      <th></th>\n",
       "      <th></th>\n",
       "      <th></th>\n",
       "      <th></th>\n",
       "      <th></th>\n",
       "      <th></th>\n",
       "      <th></th>\n",
       "      <th></th>\n",
       "      <th></th>\n",
       "      <th></th>\n",
       "      <th></th>\n",
       "      <th></th>\n",
       "      <th></th>\n",
       "      <th></th>\n",
       "      <th></th>\n",
       "      <th></th>\n",
       "      <th></th>\n",
       "      <th></th>\n",
       "    </tr>\n",
       "  </thead>\n",
       "  <tbody>\n",
       "    <tr>\n",
       "      <th rowspan=\"5\" valign=\"top\">10d83</th>\n",
       "      <th>2025-06-03 12:01:24.781</th>\n",
       "      <td>2515.500000</td>\n",
       "      <td>83.850006</td>\n",
       "      <td>83.849998</td>\n",
       "      <td>30</td>\n",
       "      <td>0.117615</td>\n",
       "      <td>0.013833</td>\n",
       "      <td>83.850075</td>\n",
       "      <td>84.099998</td>\n",
       "      <td>84.099998</td>\n",
       "      <td>83.599998</td>\n",
       "      <td>...</td>\n",
       "      <td>7.100</td>\n",
       "      <td>7.093333</td>\n",
       "      <td>30</td>\n",
       "      <td>0.169181</td>\n",
       "      <td>0.028622</td>\n",
       "      <td>7.095351</td>\n",
       "      <td>7.40</td>\n",
       "      <td>7.40</td>\n",
       "      <td>6.70</td>\n",
       "      <td>sitting</td>\n",
       "    </tr>\n",
       "    <tr>\n",
       "      <th>2025-06-03 12:01:24.881</th>\n",
       "      <td>2431.700195</td>\n",
       "      <td>83.800003</td>\n",
       "      <td>83.851730</td>\n",
       "      <td>29</td>\n",
       "      <td>0.127633</td>\n",
       "      <td>0.016290</td>\n",
       "      <td>83.851822</td>\n",
       "      <td>84.099998</td>\n",
       "      <td>84.099998</td>\n",
       "      <td>83.599998</td>\n",
       "      <td>...</td>\n",
       "      <td>7.100</td>\n",
       "      <td>7.096552</td>\n",
       "      <td>29</td>\n",
       "      <td>0.175151</td>\n",
       "      <td>0.030678</td>\n",
       "      <td>7.098713</td>\n",
       "      <td>7.40</td>\n",
       "      <td>7.40</td>\n",
       "      <td>6.70</td>\n",
       "      <td>sitting</td>\n",
       "    </tr>\n",
       "    <tr>\n",
       "      <th>2025-06-03 12:01:24.981</th>\n",
       "      <td>2516.600586</td>\n",
       "      <td>83.900002</td>\n",
       "      <td>83.886688</td>\n",
       "      <td>30</td>\n",
       "      <td>0.145449</td>\n",
       "      <td>0.021155</td>\n",
       "      <td>83.886795</td>\n",
       "      <td>84.099998</td>\n",
       "      <td>84.099998</td>\n",
       "      <td>83.599998</td>\n",
       "      <td>...</td>\n",
       "      <td>7.000</td>\n",
       "      <td>7.056666</td>\n",
       "      <td>30</td>\n",
       "      <td>0.178294</td>\n",
       "      <td>0.031789</td>\n",
       "      <td>7.058918</td>\n",
       "      <td>7.40</td>\n",
       "      <td>7.40</td>\n",
       "      <td>6.70</td>\n",
       "      <td>sitting</td>\n",
       "    </tr>\n",
       "    <tr>\n",
       "      <th>2025-06-03 12:01:25.081</th>\n",
       "      <td>2433.200195</td>\n",
       "      <td>83.900002</td>\n",
       "      <td>83.903458</td>\n",
       "      <td>29</td>\n",
       "      <td>0.137672</td>\n",
       "      <td>0.018954</td>\n",
       "      <td>83.903564</td>\n",
       "      <td>84.099998</td>\n",
       "      <td>84.099998</td>\n",
       "      <td>83.599998</td>\n",
       "      <td>...</td>\n",
       "      <td>7.000</td>\n",
       "      <td>7.041379</td>\n",
       "      <td>29</td>\n",
       "      <td>0.167161</td>\n",
       "      <td>0.027943</td>\n",
       "      <td>7.043363</td>\n",
       "      <td>7.40</td>\n",
       "      <td>7.40</td>\n",
       "      <td>6.70</td>\n",
       "      <td>sitting</td>\n",
       "    </tr>\n",
       "    <tr>\n",
       "      <th>2025-06-03 12:01:25.181</th>\n",
       "      <td>2349.600098</td>\n",
       "      <td>83.900002</td>\n",
       "      <td>83.914291</td>\n",
       "      <td>28</td>\n",
       "      <td>0.132864</td>\n",
       "      <td>0.017653</td>\n",
       "      <td>83.914391</td>\n",
       "      <td>84.099998</td>\n",
       "      <td>84.099998</td>\n",
       "      <td>83.599998</td>\n",
       "      <td>...</td>\n",
       "      <td>7.000</td>\n",
       "      <td>7.057143</td>\n",
       "      <td>28</td>\n",
       "      <td>0.154524</td>\n",
       "      <td>0.023878</td>\n",
       "      <td>7.058835</td>\n",
       "      <td>7.40</td>\n",
       "      <td>7.40</td>\n",
       "      <td>6.80</td>\n",
       "      <td>sitting</td>\n",
       "    </tr>\n",
       "    <tr>\n",
       "      <th>...</th>\n",
       "      <th>...</th>\n",
       "      <td>...</td>\n",
       "      <td>...</td>\n",
       "      <td>...</td>\n",
       "      <td>...</td>\n",
       "      <td>...</td>\n",
       "      <td>...</td>\n",
       "      <td>...</td>\n",
       "      <td>...</td>\n",
       "      <td>...</td>\n",
       "      <td>...</td>\n",
       "      <td>...</td>\n",
       "      <td>...</td>\n",
       "      <td>...</td>\n",
       "      <td>...</td>\n",
       "      <td>...</td>\n",
       "      <td>...</td>\n",
       "      <td>...</td>\n",
       "      <td>...</td>\n",
       "      <td>...</td>\n",
       "      <td>...</td>\n",
       "      <td>...</td>\n",
       "    </tr>\n",
       "    <tr>\n",
       "      <th rowspan=\"5\" valign=\"top\">1f683</th>\n",
       "      <th>2025-06-23 19:10:29.060</th>\n",
       "      <td>834.509949</td>\n",
       "      <td>12.525000</td>\n",
       "      <td>13.908499</td>\n",
       "      <td>60</td>\n",
       "      <td>2.439942</td>\n",
       "      <td>5.953319</td>\n",
       "      <td>14.120895</td>\n",
       "      <td>17.719999</td>\n",
       "      <td>17.719999</td>\n",
       "      <td>11.410000</td>\n",
       "      <td>...</td>\n",
       "      <td>-15.145</td>\n",
       "      <td>-13.838166</td>\n",
       "      <td>60</td>\n",
       "      <td>5.448740</td>\n",
       "      <td>29.688772</td>\n",
       "      <td>14.872244</td>\n",
       "      <td>-5.06</td>\n",
       "      <td>20.18</td>\n",
       "      <td>-20.18</td>\n",
       "      <td>sitting</td>\n",
       "    </tr>\n",
       "    <tr>\n",
       "      <th>2025-06-23 19:10:29.160</th>\n",
       "      <td>824.580017</td>\n",
       "      <td>12.525000</td>\n",
       "      <td>13.743000</td>\n",
       "      <td>60</td>\n",
       "      <td>2.343845</td>\n",
       "      <td>5.493608</td>\n",
       "      <td>13.941437</td>\n",
       "      <td>17.719999</td>\n",
       "      <td>17.719999</td>\n",
       "      <td>11.410000</td>\n",
       "      <td>...</td>\n",
       "      <td>-15.145</td>\n",
       "      <td>-14.440166</td>\n",
       "      <td>60</td>\n",
       "      <td>4.825089</td>\n",
       "      <td>23.281481</td>\n",
       "      <td>15.224977</td>\n",
       "      <td>-5.39</td>\n",
       "      <td>20.18</td>\n",
       "      <td>-20.18</td>\n",
       "      <td>sitting</td>\n",
       "    </tr>\n",
       "    <tr>\n",
       "      <th>2025-06-23 19:10:29.260</th>\n",
       "      <td>805.789978</td>\n",
       "      <td>12.525000</td>\n",
       "      <td>13.429833</td>\n",
       "      <td>60</td>\n",
       "      <td>2.063793</td>\n",
       "      <td>4.259242</td>\n",
       "      <td>13.587481</td>\n",
       "      <td>17.719999</td>\n",
       "      <td>17.719999</td>\n",
       "      <td>11.410000</td>\n",
       "      <td>...</td>\n",
       "      <td>-15.145</td>\n",
       "      <td>-15.099500</td>\n",
       "      <td>60</td>\n",
       "      <td>3.949962</td>\n",
       "      <td>15.602202</td>\n",
       "      <td>15.607598</td>\n",
       "      <td>-7.75</td>\n",
       "      <td>20.18</td>\n",
       "      <td>-20.18</td>\n",
       "      <td>sitting</td>\n",
       "    </tr>\n",
       "    <tr>\n",
       "      <th>2025-06-23 19:10:29.360</th>\n",
       "      <td>782.669983</td>\n",
       "      <td>12.445000</td>\n",
       "      <td>13.044499</td>\n",
       "      <td>60</td>\n",
       "      <td>1.648176</td>\n",
       "      <td>2.716485</td>\n",
       "      <td>13.148212</td>\n",
       "      <td>17.709999</td>\n",
       "      <td>17.709999</td>\n",
       "      <td>11.410000</td>\n",
       "      <td>...</td>\n",
       "      <td>-15.145</td>\n",
       "      <td>-15.353333</td>\n",
       "      <td>60</td>\n",
       "      <td>3.598564</td>\n",
       "      <td>12.949662</td>\n",
       "      <td>15.769417</td>\n",
       "      <td>-9.18</td>\n",
       "      <td>20.18</td>\n",
       "      <td>-20.18</td>\n",
       "      <td>sitting</td>\n",
       "    </tr>\n",
       "    <tr>\n",
       "      <th>2025-06-23 19:10:29.460</th>\n",
       "      <td>761.979980</td>\n",
       "      <td>11.900000</td>\n",
       "      <td>12.491475</td>\n",
       "      <td>61</td>\n",
       "      <td>1.103872</td>\n",
       "      <td>1.218534</td>\n",
       "      <td>12.540155</td>\n",
       "      <td>14.620000</td>\n",
       "      <td>14.620000</td>\n",
       "      <td>10.600000</td>\n",
       "      <td>...</td>\n",
       "      <td>-15.140</td>\n",
       "      <td>-15.391477</td>\n",
       "      <td>61</td>\n",
       "      <td>3.443854</td>\n",
       "      <td>11.860130</td>\n",
       "      <td>15.772053</td>\n",
       "      <td>-10.95</td>\n",
       "      <td>20.18</td>\n",
       "      <td>-20.18</td>\n",
       "      <td>sitting</td>\n",
       "    </tr>\n",
       "  </tbody>\n",
       "</table>\n",
       "<p>9378 rows × 31 columns</p>\n",
       "</div>"
      ],
      "text/plain": [
       "                                       alpha__sum__w=1s  alpha__median__w=1s  \\\n",
       "participantId time                                                             \n",
       "10d83         2025-06-03 12:01:24.781       2515.500000            83.850006   \n",
       "              2025-06-03 12:01:24.881       2431.700195            83.800003   \n",
       "              2025-06-03 12:01:24.981       2516.600586            83.900002   \n",
       "              2025-06-03 12:01:25.081       2433.200195            83.900002   \n",
       "              2025-06-03 12:01:25.181       2349.600098            83.900002   \n",
       "...                                                 ...                  ...   \n",
       "1f683         2025-06-23 19:10:29.060        834.509949            12.525000   \n",
       "              2025-06-23 19:10:29.160        824.580017            12.525000   \n",
       "              2025-06-23 19:10:29.260        805.789978            12.525000   \n",
       "              2025-06-23 19:10:29.360        782.669983            12.445000   \n",
       "              2025-06-23 19:10:29.460        761.979980            11.900000   \n",
       "\n",
       "                                       alpha__mean__w=1s  alpha__length__w=1s  \\\n",
       "participantId time                                                              \n",
       "10d83         2025-06-03 12:01:24.781          83.849998                   30   \n",
       "              2025-06-03 12:01:24.881          83.851730                   29   \n",
       "              2025-06-03 12:01:24.981          83.886688                   30   \n",
       "              2025-06-03 12:01:25.081          83.903458                   29   \n",
       "              2025-06-03 12:01:25.181          83.914291                   28   \n",
       "...                                                  ...                  ...   \n",
       "1f683         2025-06-23 19:10:29.060          13.908499                   60   \n",
       "              2025-06-23 19:10:29.160          13.743000                   60   \n",
       "              2025-06-23 19:10:29.260          13.429833                   60   \n",
       "              2025-06-23 19:10:29.360          13.044499                   60   \n",
       "              2025-06-23 19:10:29.460          12.491475                   61   \n",
       "\n",
       "                                       alpha__std_dev__w=1s  alpha__var__w=1s  \\\n",
       "participantId time                                                              \n",
       "10d83         2025-06-03 12:01:24.781              0.117615          0.013833   \n",
       "              2025-06-03 12:01:24.881              0.127633          0.016290   \n",
       "              2025-06-03 12:01:24.981              0.145449          0.021155   \n",
       "              2025-06-03 12:01:25.081              0.137672          0.018954   \n",
       "              2025-06-03 12:01:25.181              0.132864          0.017653   \n",
       "...                                                     ...               ...   \n",
       "1f683         2025-06-23 19:10:29.060              2.439942          5.953319   \n",
       "              2025-06-23 19:10:29.160              2.343845          5.493608   \n",
       "              2025-06-23 19:10:29.260              2.063793          4.259242   \n",
       "              2025-06-23 19:10:29.360              1.648176          2.716485   \n",
       "              2025-06-23 19:10:29.460              1.103872          1.218534   \n",
       "\n",
       "                                       alpha__root_mean_square__w=1s  \\\n",
       "participantId time                                                     \n",
       "10d83         2025-06-03 12:01:24.781                      83.850075   \n",
       "              2025-06-03 12:01:24.881                      83.851822   \n",
       "              2025-06-03 12:01:24.981                      83.886795   \n",
       "              2025-06-03 12:01:25.081                      83.903564   \n",
       "              2025-06-03 12:01:25.181                      83.914391   \n",
       "...                                                              ...   \n",
       "1f683         2025-06-23 19:10:29.060                      14.120895   \n",
       "              2025-06-23 19:10:29.160                      13.941437   \n",
       "              2025-06-23 19:10:29.260                      13.587481   \n",
       "              2025-06-23 19:10:29.360                      13.148212   \n",
       "              2025-06-23 19:10:29.460                      12.540155   \n",
       "\n",
       "                                       alpha__max__w=1s  alpha__abs_max__w=1s  \\\n",
       "participantId time                                                              \n",
       "10d83         2025-06-03 12:01:24.781         84.099998             84.099998   \n",
       "              2025-06-03 12:01:24.881         84.099998             84.099998   \n",
       "              2025-06-03 12:01:24.981         84.099998             84.099998   \n",
       "              2025-06-03 12:01:25.081         84.099998             84.099998   \n",
       "              2025-06-03 12:01:25.181         84.099998             84.099998   \n",
       "...                                                 ...                   ...   \n",
       "1f683         2025-06-23 19:10:29.060         17.719999             17.719999   \n",
       "              2025-06-23 19:10:29.160         17.719999             17.719999   \n",
       "              2025-06-23 19:10:29.260         17.719999             17.719999   \n",
       "              2025-06-23 19:10:29.360         17.709999             17.709999   \n",
       "              2025-06-23 19:10:29.460         14.620000             14.620000   \n",
       "\n",
       "                                       alpha__min__w=1s  ...  \\\n",
       "participantId time                                       ...   \n",
       "10d83         2025-06-03 12:01:24.781         83.599998  ...   \n",
       "              2025-06-03 12:01:24.881         83.599998  ...   \n",
       "              2025-06-03 12:01:24.981         83.599998  ...   \n",
       "              2025-06-03 12:01:25.081         83.599998  ...   \n",
       "              2025-06-03 12:01:25.181         83.599998  ...   \n",
       "...                                                 ...  ...   \n",
       "1f683         2025-06-23 19:10:29.060         11.410000  ...   \n",
       "              2025-06-23 19:10:29.160         11.410000  ...   \n",
       "              2025-06-23 19:10:29.260         11.410000  ...   \n",
       "              2025-06-23 19:10:29.360         11.410000  ...   \n",
       "              2025-06-23 19:10:29.460         10.600000  ...   \n",
       "\n",
       "                                       gamma__median__w=1s  gamma__mean__w=1s  \\\n",
       "participantId time                                                              \n",
       "10d83         2025-06-03 12:01:24.781                7.100           7.093333   \n",
       "              2025-06-03 12:01:24.881                7.100           7.096552   \n",
       "              2025-06-03 12:01:24.981                7.000           7.056666   \n",
       "              2025-06-03 12:01:25.081                7.000           7.041379   \n",
       "              2025-06-03 12:01:25.181                7.000           7.057143   \n",
       "...                                                    ...                ...   \n",
       "1f683         2025-06-23 19:10:29.060              -15.145         -13.838166   \n",
       "              2025-06-23 19:10:29.160              -15.145         -14.440166   \n",
       "              2025-06-23 19:10:29.260              -15.145         -15.099500   \n",
       "              2025-06-23 19:10:29.360              -15.145         -15.353333   \n",
       "              2025-06-23 19:10:29.460              -15.140         -15.391477   \n",
       "\n",
       "                                       gamma__length__w=1s  \\\n",
       "participantId time                                           \n",
       "10d83         2025-06-03 12:01:24.781                   30   \n",
       "              2025-06-03 12:01:24.881                   29   \n",
       "              2025-06-03 12:01:24.981                   30   \n",
       "              2025-06-03 12:01:25.081                   29   \n",
       "              2025-06-03 12:01:25.181                   28   \n",
       "...                                                    ...   \n",
       "1f683         2025-06-23 19:10:29.060                   60   \n",
       "              2025-06-23 19:10:29.160                   60   \n",
       "              2025-06-23 19:10:29.260                   60   \n",
       "              2025-06-23 19:10:29.360                   60   \n",
       "              2025-06-23 19:10:29.460                   61   \n",
       "\n",
       "                                       gamma__std_dev__w=1s  gamma__var__w=1s  \\\n",
       "participantId time                                                              \n",
       "10d83         2025-06-03 12:01:24.781              0.169181          0.028622   \n",
       "              2025-06-03 12:01:24.881              0.175151          0.030678   \n",
       "              2025-06-03 12:01:24.981              0.178294          0.031789   \n",
       "              2025-06-03 12:01:25.081              0.167161          0.027943   \n",
       "              2025-06-03 12:01:25.181              0.154524          0.023878   \n",
       "...                                                     ...               ...   \n",
       "1f683         2025-06-23 19:10:29.060              5.448740         29.688772   \n",
       "              2025-06-23 19:10:29.160              4.825089         23.281481   \n",
       "              2025-06-23 19:10:29.260              3.949962         15.602202   \n",
       "              2025-06-23 19:10:29.360              3.598564         12.949662   \n",
       "              2025-06-23 19:10:29.460              3.443854         11.860130   \n",
       "\n",
       "                                       gamma__root_mean_square__w=1s  \\\n",
       "participantId time                                                     \n",
       "10d83         2025-06-03 12:01:24.781                       7.095351   \n",
       "              2025-06-03 12:01:24.881                       7.098713   \n",
       "              2025-06-03 12:01:24.981                       7.058918   \n",
       "              2025-06-03 12:01:25.081                       7.043363   \n",
       "              2025-06-03 12:01:25.181                       7.058835   \n",
       "...                                                              ...   \n",
       "1f683         2025-06-23 19:10:29.060                      14.872244   \n",
       "              2025-06-23 19:10:29.160                      15.224977   \n",
       "              2025-06-23 19:10:29.260                      15.607598   \n",
       "              2025-06-23 19:10:29.360                      15.769417   \n",
       "              2025-06-23 19:10:29.460                      15.772053   \n",
       "\n",
       "                                       gamma__max__w=1s  gamma__abs_max__w=1s  \\\n",
       "participantId time                                                              \n",
       "10d83         2025-06-03 12:01:24.781              7.40                  7.40   \n",
       "              2025-06-03 12:01:24.881              7.40                  7.40   \n",
       "              2025-06-03 12:01:24.981              7.40                  7.40   \n",
       "              2025-06-03 12:01:25.081              7.40                  7.40   \n",
       "              2025-06-03 12:01:25.181              7.40                  7.40   \n",
       "...                                                 ...                   ...   \n",
       "1f683         2025-06-23 19:10:29.060             -5.06                 20.18   \n",
       "              2025-06-23 19:10:29.160             -5.39                 20.18   \n",
       "              2025-06-23 19:10:29.260             -7.75                 20.18   \n",
       "              2025-06-23 19:10:29.360             -9.18                 20.18   \n",
       "              2025-06-23 19:10:29.460            -10.95                 20.18   \n",
       "\n",
       "                                       gamma__min__w=1s  activity  \n",
       "participantId time                                                 \n",
       "10d83         2025-06-03 12:01:24.781              6.70   sitting  \n",
       "              2025-06-03 12:01:24.881              6.70   sitting  \n",
       "              2025-06-03 12:01:24.981              6.70   sitting  \n",
       "              2025-06-03 12:01:25.081              6.70   sitting  \n",
       "              2025-06-03 12:01:25.181              6.80   sitting  \n",
       "...                                                 ...       ...  \n",
       "1f683         2025-06-23 19:10:29.060            -20.18   sitting  \n",
       "              2025-06-23 19:10:29.160            -20.18   sitting  \n",
       "              2025-06-23 19:10:29.260            -20.18   sitting  \n",
       "              2025-06-23 19:10:29.360            -20.18   sitting  \n",
       "              2025-06-23 19:10:29.460            -20.18   sitting  \n",
       "\n",
       "[9378 rows x 31 columns]"
      ]
     },
     "execution_count": 11,
     "metadata": {},
     "output_type": "execute_result"
    }
   ],
   "source": [
    "df1"
   ]
  },
  {
   "cell_type": "code",
   "execution_count": 12,
   "id": "9d6fcd8a-dea4-4448-9e41-d020c166f01b",
   "metadata": {
    "tags": []
   },
   "outputs": [],
   "source": [
    "from sklearn.model_selection import GroupShuffleSplit\n",
    "\n",
    "splitter = GroupShuffleSplit(n_splits=1, test_size=0.1, random_state=42)\n",
    "\n",
    "\n",
    "for train_idx, test_idx in splitter.split(y=df1.activity, X=df1.drop(columns=[\"activity\"]), groups=df1.reset_index().participantId):\n",
    "    train, test = df1.iloc[train_idx], df1.iloc[test_idx]"
   ]
  },
  {
   "cell_type": "code",
   "execution_count": 13,
   "id": "b1beaef1-396c-4bd0-9f58-b57f181a3046",
   "metadata": {},
   "outputs": [
    {
     "data": {
      "text/plain": [
       "array(['10d83', '11416'], dtype=object)"
      ]
     },
     "execution_count": 13,
     "metadata": {},
     "output_type": "execute_result"
    }
   ],
   "source": [
    "test.reset_index().participantId.unique()"
   ]
  },
  {
   "cell_type": "code",
   "execution_count": 14,
   "id": "65999773-3c23-464c-a21b-aaea89ee1da9",
   "metadata": {},
   "outputs": [
    {
     "data": {
      "text/plain": [
       "array(['12358', '12f77', '150c9', '152a7', '15b85', '18582', '191d4',\n",
       "       '19ee7', '1a045', '1b682', '1b728', '1b949', '1dd54', '1e570',\n",
       "       '1f683'], dtype=object)"
      ]
     },
     "execution_count": 14,
     "metadata": {},
     "output_type": "execute_result"
    }
   ],
   "source": [
    "train.reset_index().participantId.unique()"
   ]
  },
  {
   "cell_type": "code",
   "execution_count": 15,
   "id": "ab8e1b1b-4464-4b87-9e1d-c2c4a42dd43c",
   "metadata": {
    "tags": []
   },
   "outputs": [
    {
     "name": "stdout",
     "output_type": "stream",
     "text": [
      "Requirement already satisfied: imblearn in /opt/conda/lib/python3.11/site-packages (0.0)\n",
      "Requirement already satisfied: imbalanced-learn in /opt/conda/lib/python3.11/site-packages (from imblearn) (0.13.0)\n",
      "Requirement already satisfied: numpy<3,>=1.24.3 in /opt/conda/lib/python3.11/site-packages (from imbalanced-learn->imblearn) (1.24.4)\n",
      "Requirement already satisfied: scipy<2,>=1.10.1 in /opt/conda/lib/python3.11/site-packages (from imbalanced-learn->imblearn) (1.14.1)\n",
      "Requirement already satisfied: scikit-learn<2,>=1.3.2 in /opt/conda/lib/python3.11/site-packages (from imbalanced-learn->imblearn) (1.5.2)\n",
      "Requirement already satisfied: sklearn-compat<1,>=0.1 in /opt/conda/lib/python3.11/site-packages (from imbalanced-learn->imblearn) (0.1.3)\n",
      "Requirement already satisfied: joblib<2,>=1.1.1 in /opt/conda/lib/python3.11/site-packages (from imbalanced-learn->imblearn) (1.4.2)\n",
      "Requirement already satisfied: threadpoolctl<4,>=2.0.0 in /opt/conda/lib/python3.11/site-packages (from imbalanced-learn->imblearn) (3.5.0)\n",
      "Note: you may need to restart the kernel to use updated packages.\n"
     ]
    }
   ],
   "source": [
    "%pip install imblearn"
   ]
  },
  {
   "cell_type": "code",
   "execution_count": 16,
   "id": "418dda31-9cb8-4674-8d5e-39588e200b7b",
   "metadata": {},
   "outputs": [
    {
     "data": {
      "text/plain": [
       "(array([0, 0, 0, ..., 1, 1, 1]),\n",
       " Index(['walking', 'sitting', 'standing'], dtype='object'))"
      ]
     },
     "execution_count": 16,
     "metadata": {},
     "output_type": "execute_result"
    }
   ],
   "source": [
    "train.activity.factorize()"
   ]
  },
  {
   "cell_type": "code",
   "execution_count": 17,
   "id": "497cc638-d465-4e19-952a-e2c2d9fbe273",
   "metadata": {},
   "outputs": [],
   "source": [
    "from sklearn.model_selection import  GroupKFold\n",
    "\n",
    "X,y,groups= train.drop(columns=[\"activity\"]), train.activity, train.reset_index().participantId\n",
    "cv = GroupKFold(n_splits=5)\n",
    "splits=list(cv.split(X, y, groups))"
   ]
  },
  {
   "cell_type": "code",
   "execution_count": 18,
   "id": "cd71dfa2-48ce-495b-a56a-c84fcd801429",
   "metadata": {},
   "outputs": [
    {
     "name": "stderr",
     "output_type": "stream",
     "text": [
      "[I 2025-07-13 12:23:51,035] A new study created in memory with name: no-name-2421ffb3-e430-4b43-b1d1-a1dcd753511f\n"
     ]
    },
    {
     "data": {
      "application/vnd.jupyter.widget-view+json": {
       "model_id": "b8ef91f2b61d409cb0623fe40d9774fe",
       "version_major": 2,
       "version_minor": 0
      },
      "text/plain": [
       "  0%|          | 0/500 [00:00<?, ?it/s]"
      ]
     },
     "metadata": {},
     "output_type": "display_data"
    },
    {
     "name": "stdout",
     "output_type": "stream",
     "text": [
      "[I 2025-07-13 12:23:51,434] Trial 6 finished with value: 0.2871287685972645 and parameters: {'classifier': 'perc', 'perc_alpha': 0.00018571671748297673}. Best is trial 6 with value: 0.2871287685972645.\n",
      "[I 2025-07-13 12:23:51,585] Trial 4 finished with value: 0.4030942291464748 and parameters: {'classifier': 'etrees', 'etrees_n_estimators': 72, 'etrees_max_depth': 8, 'etrees_min_samples_split': 5}. Best is trial 4 with value: 0.4030942291464748.\n",
      "[I 2025-07-13 12:23:51,664] Trial 117 finished with value: 0.4312083903328774 and parameters: {'classifier': 'sgd', 'sgd_loss': 'hinge', 'sgd_alpha': 7.854202288207989e-05}. Best is trial 117 with value: 0.4312083903328774.\n",
      "[I 2025-07-13 12:23:51,765] Trial 2 finished with value: 0.49396005931974357 and parameters: {'classifier': 'sgd', 'sgd_loss': 'hinge', 'sgd_alpha': 0.01113528804314907}. Best is trial 2 with value: 0.49396005931974357.\n",
      "[I 2025-07-13 12:23:52,273] Trial 7 finished with value: 0.3754183922754027 and parameters: {'classifier': 'lr', 'lr_C': 75.20675235979107}. Best is trial 2 with value: 0.49396005931974357.\n",
      "[I 2025-07-13 12:23:53,833] Trial 8 finished with value: 0.40696826252968793 and parameters: {'classifier': 'rf', 'rf_n_estimators': 159, 'rf_max_depth': 5, 'rf_min_samples_split': 10}. Best is trial 2 with value: 0.49396005931974357.\n",
      "[I 2025-07-13 12:23:53,865] Trial 5 finished with value: 0.42927132822649666 and parameters: {'classifier': 'ridge', 'ridge_alpha': 0.24080185888656278}. Best is trial 2 with value: 0.49396005931974357.\n",
      "[I 2025-07-13 12:23:53,888] Trial 116 finished with value: 0.4773826752923392 and parameters: {'classifier': 'svc', 'svc_C': 0.31472993228595875, 'svc_kernel': 'rbf', 'svc_gamma': 'auto'}. Best is trial 2 with value: 0.49396005931974357.\n",
      "[I 2025-07-13 12:23:53,944] Trial 3 finished with value: 0.29920526959819943 and parameters: {'classifier': 'pac', 'pac_C': 0.009157745629937299}. Best is trial 2 with value: 0.49396005931974357.\n",
      "[I 2025-07-13 12:23:53,965] Trial 1 finished with value: 0.35031385504658946 and parameters: {'classifier': 'pac', 'pac_C': 1.273506742343659}. Best is trial 2 with value: 0.49396005931974357.\n",
      "[I 2025-07-13 12:23:54,343] Trial 11 finished with value: 0.3760624757302498 and parameters: {'classifier': 'perc', 'perc_alpha': 0.0029602204845589207}. Best is trial 2 with value: 0.49396005931974357.\n",
      "[I 2025-07-13 12:23:54,344] Trial 120 finished with value: 0.3095019427764041 and parameters: {'classifier': 'lsvc', 'lsvc_C': 43.55149759347007}. Best is trial 2 with value: 0.49396005931974357.\n",
      "[I 2025-07-13 12:23:54,365] Trial 118 finished with value: 0.4001597250103562 and parameters: {'classifier': 'et', 'et_max_depth': 12, 'et_min_samples_split': 3}. Best is trial 2 with value: 0.49396005931974357.\n",
      "[I 2025-07-13 12:23:54,433] Trial 0 finished with value: 0.44549891080091747 and parameters: {'classifier': 'pac', 'pac_C': 0.008092620499113351}. Best is trial 2 with value: 0.49396005931974357.\n",
      "[I 2025-07-13 12:23:54,565] Trial 9 finished with value: 0.44349857432409223 and parameters: {'classifier': 'sgd', 'sgd_loss': 'log_loss', 'sgd_alpha': 0.012123079729069605}. Best is trial 2 with value: 0.49396005931974357.\n",
      "[I 2025-07-13 12:23:54,634] Trial 121 finished with value: 0.2949640287769784 and parameters: {'classifier': 'svc', 'svc_C': 36.60674556876757, 'svc_kernel': 'linear', 'svc_gamma': 'auto'}. Best is trial 2 with value: 0.49396005931974357.\n",
      "[I 2025-07-13 12:23:54,745] Trial 10 finished with value: 0.27844311508216957 and parameters: {'classifier': 'dt', 'dt_max_depth': 19, 'dt_min_samples_split': 2}. Best is trial 2 with value: 0.49396005931974357.\n",
      "[I 2025-07-13 12:23:54,756] Trial 12 finished with value: 0.44371507386589526 and parameters: {'classifier': 'ridge', 'ridge_alpha': 0.015957569215310257}. Best is trial 2 with value: 0.49396005931974357.\n",
      "[I 2025-07-13 12:23:54,777] Trial 14 finished with value: 0.4344301084807678 and parameters: {'classifier': 'ridge', 'ridge_alpha': 0.19127993955032463}. Best is trial 2 with value: 0.49396005931974357.\n",
      "[I 2025-07-13 12:23:55,866] Trial 13 finished with value: 0.5372205358262888 and parameters: {'classifier': 'rf', 'rf_n_estimators': 89, 'rf_max_depth': 6, 'rf_min_samples_split': 4}. Best is trial 13 with value: 0.5372205358262888.\n",
      "[I 2025-07-13 12:23:55,943] Trial 122 finished with value: 0.004224440374849906 and parameters: {'classifier': 'svc', 'svc_C': 0.006270774728466007, 'svc_kernel': 'linear', 'svc_gamma': 'auto'}. Best is trial 13 with value: 0.5372205358262888.\n",
      "[I 2025-07-13 12:23:56,046] Trial 119 finished with value: 0.4223196881091618 and parameters: {'classifier': 'sgd', 'sgd_loss': 'hinge', 'sgd_alpha': 0.02993507903891617}. Best is trial 13 with value: 0.5372205358262888.\n",
      "[I 2025-07-13 12:23:56,134] Trial 17 finished with value: 0.4070902070902071 and parameters: {'classifier': 'perc', 'perc_alpha': 0.00306165052027584}. Best is trial 13 with value: 0.5372205358262888.\n",
      "[I 2025-07-13 12:23:56,145] Trial 15 finished with value: 0.4661278797558235 and parameters: {'classifier': 'sgd', 'sgd_loss': 'hinge', 'sgd_alpha': 0.0027345298631770354}. Best is trial 13 with value: 0.5372205358262888.\n",
      "[I 2025-07-13 12:23:56,255] Trial 18 finished with value: 0.3228407808592811 and parameters: {'classifier': 'dt', 'dt_max_depth': 11, 'dt_min_samples_split': 10}. Best is trial 13 with value: 0.5372205358262888.\n",
      "[I 2025-07-13 12:23:56,435] Trial 21 finished with value: 0.12762499856948306 and parameters: {'classifier': 'svc', 'svc_C': 0.010735314987192908, 'svc_kernel': 'rbf', 'svc_gamma': 'scale'}. Best is trial 13 with value: 0.5372205358262888.\n",
      "[I 2025-07-13 12:23:56,445] Trial 20 finished with value: 0.3760624757302498 and parameters: {'classifier': 'perc', 'perc_alpha': 2.8926526431042574e-05}. Best is trial 13 with value: 0.5372205358262888.\n",
      "[I 2025-07-13 12:23:56,667] Trial 124 finished with value: 0.5539859640366088 and parameters: {'classifier': 'lr', 'lr_C': 0.06202458589675425}. Best is trial 124 with value: 0.5539859640366088.\n",
      "[I 2025-07-13 12:23:56,769] Trial 19 finished with value: 0.21933143354119208 and parameters: {'classifier': 'dt', 'dt_max_depth': 7, 'dt_min_samples_split': 8}. Best is trial 124 with value: 0.5539859640366088.\n",
      "[I 2025-07-13 12:23:56,858] Trial 16 finished with value: 0.3994760337943208 and parameters: {'classifier': 'ridge', 'ridge_alpha': 0.01542887079229765}. Best is trial 124 with value: 0.5539859640366088.\n",
      "[I 2025-07-13 12:23:56,866] Trial 23 finished with value: 0.30736750844559557 and parameters: {'classifier': 'dt', 'dt_max_depth': 16, 'dt_min_samples_split': 8}. Best is trial 124 with value: 0.5539859640366088.\n",
      "[I 2025-07-13 12:23:57,733] Trial 24 finished with value: 0.46797395379702206 and parameters: {'classifier': 'rf', 'rf_n_estimators': 64, 'rf_max_depth': 12, 'rf_min_samples_split': 10}. Best is trial 124 with value: 0.5539859640366088.\n",
      "[I 2025-07-13 12:23:59,571] Trial 123 finished with value: 0.38927882282992093 and parameters: {'classifier': 'et', 'et_max_depth': 10, 'et_min_samples_split': 2}. Best is trial 124 with value: 0.5539859640366088.\n",
      "[I 2025-07-13 12:23:59,925] Trial 22 finished with value: 0.5361292649888375 and parameters: {'classifier': 'rf', 'rf_n_estimators': 167, 'rf_max_depth': 10, 'rf_min_samples_split': 8}. Best is trial 124 with value: 0.5539859640366088.\n",
      "[I 2025-07-13 12:24:00,656] Trial 126 finished with value: 0.43740296587978705 and parameters: {'classifier': 'rf', 'rf_n_estimators': 80, 'rf_max_depth': 4, 'rf_min_samples_split': 10}. Best is trial 124 with value: 0.5539859640366088.\n",
      "[I 2025-07-13 12:24:01,139] Trial 125 finished with value: 0.4765839693186648 and parameters: {'classifier': 'etrees', 'etrees_n_estimators': 198, 'etrees_max_depth': 13, 'etrees_min_samples_split': 9}. Best is trial 124 with value: 0.5539859640366088.\n",
      "[I 2025-07-13 12:24:01,836] Trial 25 finished with value: 0.5642738351908542 and parameters: {'classifier': 'etrees', 'etrees_n_estimators': 189, 'etrees_max_depth': 12, 'etrees_min_samples_split': 6}. Best is trial 25 with value: 0.5642738351908542.\n",
      "[I 2025-07-13 12:24:02,856] Trial 26 finished with value: 0.5155909484212534 and parameters: {'classifier': 'rf', 'rf_n_estimators': 93, 'rf_max_depth': 14, 'rf_min_samples_split': 10}. Best is trial 25 with value: 0.5642738351908542.\n",
      "[I 2025-07-13 12:24:04,249] Trial 28 finished with value: 0.3876198723698761 and parameters: {'classifier': 'etrees', 'etrees_n_estimators': 51, 'etrees_max_depth': 14, 'etrees_min_samples_split': 6}. Best is trial 25 with value: 0.5642738351908542.\n",
      "[I 2025-07-13 12:24:04,351] Trial 127 finished with value: 0.5149969598552594 and parameters: {'classifier': 'rf', 'rf_n_estimators': 110, 'rf_max_depth': 13, 'rf_min_samples_split': 6}. Best is trial 25 with value: 0.5642738351908542.\n",
      "[W 2025-07-13 12:24:04,476] Use `RandomSampler` for sgd_loss due to dynamic search space.\n",
      "[W 2025-07-13 12:24:04,478] Use `RandomSampler` for sgd_alpha due to dynamic search space.\n",
      "[I 2025-07-13 12:24:04,559] Trial 27 finished with value: 0.4160304627629174 and parameters: {'classifier': 'dt', 'dt_max_depth': 13, 'dt_min_samples_split': 8}. Best is trial 25 with value: 0.5642738351908542.\n",
      "[I 2025-07-13 12:24:04,581] Trial 29 finished with value: 0.3776033900519471 and parameters: {'classifier': 'lr', 'lr_C': 60.75617998966306}. Best is trial 25 with value: 0.5642738351908542.\n",
      "[I 2025-07-13 12:24:04,747] Trial 30 finished with value: 0.5649667166538633 and parameters: {'classifier': 'lsvc', 'lsvc_C': 0.003797566588597996}. Best is trial 30 with value: 0.5649667166538633.\n",
      "[I 2025-07-13 12:24:05,148] Trial 31 finished with value: 0.44614865798711884 and parameters: {'classifier': 'ridge', 'ridge_alpha': 0.08284507521029341}. Best is trial 30 with value: 0.5649667166538633.\n",
      "[I 2025-07-13 12:24:05,255] Trial 34 finished with value: 0.5770126051495345 and parameters: {'classifier': 'etrees', 'etrees_n_estimators': 190, 'etrees_max_depth': 17, 'etrees_min_samples_split': 8}. Best is trial 34 with value: 0.5770126051495345.\n",
      "[I 2025-07-13 12:24:05,336] Trial 32 finished with value: 0.35325684380808103 and parameters: {'classifier': 'sgd', 'sgd_loss': 'hinge', 'sgd_alpha': 0.0014076558794912713}. Best is trial 34 with value: 0.5770126051495345.\n",
      "[I 2025-07-13 12:24:06,023] Trial 33 finished with value: 0.5250775926964296 and parameters: {'classifier': 'rf', 'rf_n_estimators': 71, 'rf_max_depth': 4, 'rf_min_samples_split': 9}. Best is trial 34 with value: 0.5770126051495345.\n",
      "[I 2025-07-13 12:24:06,066] Trial 35 finished with value: 0.4685798864277733 and parameters: {'classifier': 'dt', 'dt_max_depth': 5, 'dt_min_samples_split': 6}. Best is trial 34 with value: 0.5770126051495345.\n",
      "[I 2025-07-13 12:24:06,245] Trial 36 finished with value: 0.35326930965775905 and parameters: {'classifier': 'lsvc', 'lsvc_C': 0.08447849244570386}. Best is trial 34 with value: 0.5770126051495345.\n",
      "[I 2025-07-13 12:24:06,337] Trial 38 finished with value: 0.19507680918008516 and parameters: {'classifier': 'svc', 'svc_C': 0.011092491102686928, 'svc_kernel': 'linear', 'svc_gamma': 'auto'}. Best is trial 34 with value: 0.5770126051495345.\n",
      "[I 2025-07-13 12:24:07,023] Trial 40 finished with value: 0.3450963595312837 and parameters: {'classifier': 'pac', 'pac_C': 0.12047191383530344}. Best is trial 34 with value: 0.5770126051495345.\n",
      "[I 2025-07-13 12:24:07,024] Trial 39 finished with value: 0.5207773839392558 and parameters: {'classifier': 'rf', 'rf_n_estimators': 73, 'rf_max_depth': 4, 'rf_min_samples_split': 8}. Best is trial 34 with value: 0.5770126051495345.\n",
      "[I 2025-07-13 12:24:07,045] Trial 41 finished with value: 0.2871287685972645 and parameters: {'classifier': 'perc', 'perc_alpha': 0.030360486060519803}. Best is trial 34 with value: 0.5770126051495345.\n",
      "[I 2025-07-13 12:24:07,070] Trial 37 finished with value: 0.2871287685972645 and parameters: {'classifier': 'perc', 'perc_alpha': 1.272589523132897e-05}. Best is trial 34 with value: 0.5770126051495345.\n",
      "[I 2025-07-13 12:24:07,126] Trial 42 finished with value: 0.43794946578135313 and parameters: {'classifier': 'ridge', 'ridge_alpha': 0.004485122969813846}. Best is trial 34 with value: 0.5770126051495345.\n",
      "[I 2025-07-13 12:24:07,142] Trial 44 finished with value: 0.2871287685972645 and parameters: {'classifier': 'perc', 'perc_alpha': 0.0013840636306248102}. Best is trial 34 with value: 0.5770126051495345.\n",
      "[I 2025-07-13 12:24:07,170] Trial 43 finished with value: 0.3942182517722086 and parameters: {'classifier': 'pac', 'pac_C': 0.05818028205880551}. Best is trial 34 with value: 0.5770126051495345.\n",
      "[I 2025-07-13 12:24:07,179] Trial 46 finished with value: 0.4591306749923271 and parameters: {'classifier': 'et', 'et_max_depth': 2, 'et_min_samples_split': 9}. Best is trial 34 with value: 0.5770126051495345.\n",
      "[I 2025-07-13 12:24:07,238] Trial 47 finished with value: 0.3775771151633729 and parameters: {'classifier': 'et', 'et_max_depth': 4, 'et_min_samples_split': 10}. Best is trial 34 with value: 0.5770126051495345.\n",
      "[I 2025-07-13 12:24:07,259] Trial 45 finished with value: 0.37668804839274 and parameters: {'classifier': 'ridge', 'ridge_alpha': 7.095350038899232}. Best is trial 34 with value: 0.5770126051495345.\n",
      "[I 2025-07-13 12:24:07,423] Trial 50 finished with value: 0.5766433499397876 and parameters: {'classifier': 'sgd', 'sgd_loss': 'log_loss', 'sgd_alpha': 0.010115047468952348}. Best is trial 34 with value: 0.5770126051495345.\n",
      "[I 2025-07-13 12:24:07,636] Trial 49 finished with value: 0.47750471812118506 and parameters: {'classifier': 'etrees', 'etrees_n_estimators': 91, 'etrees_max_depth': 16, 'etrees_min_samples_split': 8}. Best is trial 34 with value: 0.5770126051495345.\n",
      "[I 2025-07-13 12:24:07,837] Trial 48 finished with value: 0.22188003166167858 and parameters: {'classifier': 'sgd', 'sgd_loss': 'log_loss', 'sgd_alpha': 4.455551395510283e-05}. Best is trial 34 with value: 0.5770126051495345.\n",
      "[I 2025-07-13 12:24:07,935] Trial 52 finished with value: 0.36176719078273484 and parameters: {'classifier': 'sgd', 'sgd_loss': 'hinge', 'sgd_alpha': 0.0024998033785616895}. Best is trial 34 with value: 0.5770126051495345.\n",
      "[I 2025-07-13 12:24:07,947] Trial 54 finished with value: 0.4070902070902071 and parameters: {'classifier': 'perc', 'perc_alpha': 4.7870726652036056e-05}. Best is trial 34 with value: 0.5770126051495345.\n",
      "[I 2025-07-13 12:24:07,970] Trial 53 finished with value: 0.39930631371189057 and parameters: {'classifier': 'ridge', 'ridge_alpha': 0.0198817466237585}. Best is trial 34 with value: 0.5770126051495345.\n",
      "[I 2025-07-13 12:24:08,125] Trial 51 finished with value: 0.5573455084304538 and parameters: {'classifier': 'dt', 'dt_max_depth': 12, 'dt_min_samples_split': 4}. Best is trial 34 with value: 0.5770126051495345.\n",
      "[I 2025-07-13 12:24:08,225] Trial 56 finished with value: 0.4660478304795803 and parameters: {'classifier': 'sgd', 'sgd_loss': 'hinge', 'sgd_alpha': 0.013358662806065956}. Best is trial 34 with value: 0.5770126051495345.\n",
      "[I 2025-07-13 12:24:08,241] Trial 61 finished with value: 0.3760624757302498 and parameters: {'classifier': 'perc', 'perc_alpha': 0.09644387815469598}. Best is trial 34 with value: 0.5770126051495345.\n",
      "[I 2025-07-13 12:24:08,259] Trial 55 finished with value: 0.44078488264819127 and parameters: {'classifier': 'ridge', 'ridge_alpha': 0.015329663547637595}. Best is trial 34 with value: 0.5770126051495345.\n",
      "[I 2025-07-13 12:24:08,326] Trial 65 finished with value: 0.01742482142787849 and parameters: {'classifier': 'svc', 'svc_C': 7.865678373233992, 'svc_kernel': 'linear', 'svc_gamma': 'auto'}. Best is trial 34 with value: 0.5770126051495345.\n",
      "[I 2025-07-13 12:24:08,349] Trial 62 finished with value: 0.4240184793854829 and parameters: {'classifier': 'ridge', 'ridge_alpha': 0.27774066420133675}. Best is trial 34 with value: 0.5770126051495345.\n",
      "[I 2025-07-13 12:24:08,457] Trial 60 finished with value: 0.5250273025118312 and parameters: {'classifier': 'dt', 'dt_max_depth': 20, 'dt_min_samples_split': 5}. Best is trial 34 with value: 0.5770126051495345.\n",
      "[I 2025-07-13 12:24:08,629] Trial 67 finished with value: 0.3510344627076684 and parameters: {'classifier': 'sgd', 'sgd_loss': 'log_loss', 'sgd_alpha': 0.007217695039664629}. Best is trial 34 with value: 0.5770126051495345.\n",
      "[I 2025-07-13 12:24:08,733] Trial 64 finished with value: 0.43761600395558736 and parameters: {'classifier': 'sgd', 'sgd_loss': 'hinge', 'sgd_alpha': 0.014755966821972513}. Best is trial 34 with value: 0.5770126051495345.\n",
      "[I 2025-07-13 12:24:08,840] Trial 57 finished with value: 0.5280030015073942 and parameters: {'classifier': 'dt', 'dt_max_depth': 17, 'dt_min_samples_split': 7}. Best is trial 34 with value: 0.5770126051495345.\n",
      "[I 2025-07-13 12:24:08,852] Trial 59 finished with value: 0.2871287685972645 and parameters: {'classifier': 'perc', 'perc_alpha': 0.016303211963167703}. Best is trial 34 with value: 0.5770126051495345.\n",
      "[I 2025-07-13 12:24:08,871] Trial 69 finished with value: 0.5205362641828098 and parameters: {'classifier': 'et', 'et_max_depth': 19, 'et_min_samples_split': 5}. Best is trial 34 with value: 0.5770126051495345.\n",
      "[I 2025-07-13 12:24:08,922] Trial 58 finished with value: 0.4070902070902071 and parameters: {'classifier': 'perc', 'perc_alpha': 0.017263247100818956}. Best is trial 34 with value: 0.5770126051495345.\n",
      "[I 2025-07-13 12:24:10,683] Trial 70 finished with value: 0.5170672239637757 and parameters: {'classifier': 'rf', 'rf_n_estimators': 129, 'rf_max_depth': 19, 'rf_min_samples_split': 5}. Best is trial 34 with value: 0.5770126051495345.\n",
      "[I 2025-07-13 12:24:10,781] Trial 66 finished with value: 0.33087160105470637 and parameters: {'classifier': 'dt', 'dt_max_depth': 14, 'dt_min_samples_split': 9}. Best is trial 34 with value: 0.5770126051495345.\n",
      "[I 2025-07-13 12:24:11,031] Trial 68 finished with value: 0.5076396050401243 and parameters: {'classifier': 'sgd', 'sgd_loss': 'log_loss', 'sgd_alpha': 0.022522516090966258}. Best is trial 34 with value: 0.5770126051495345.\n",
      "[I 2025-07-13 12:24:11,158] Trial 71 finished with value: 0.3994760337943208 and parameters: {'classifier': 'ridge', 'ridge_alpha': 0.0016515779123547135}. Best is trial 34 with value: 0.5770126051495345.\n",
      "[I 2025-07-13 12:24:11,162] Trial 63 finished with value: 0.3702731516824595 and parameters: {'classifier': 'lsvc', 'lsvc_C': 0.004482291956058413}. Best is trial 34 with value: 0.5770126051495345.\n",
      "[I 2025-07-13 12:24:11,222] Trial 76 finished with value: 0.3442058009713434 and parameters: {'classifier': 'pac', 'pac_C': 0.019835035949029783}. Best is trial 34 with value: 0.5770126051495345.\n",
      "[I 2025-07-13 12:24:12,157] Trial 74 finished with value: 0.2871287685972645 and parameters: {'classifier': 'perc', 'perc_alpha': 0.059491201859815435}. Best is trial 34 with value: 0.5770126051495345.\n",
      "[I 2025-07-13 12:24:12,159] Trial 73 finished with value: 0.4417316175568306 and parameters: {'classifier': 'rf', 'rf_n_estimators': 79, 'rf_max_depth': 6, 'rf_min_samples_split': 2}. Best is trial 34 with value: 0.5770126051495345.\n",
      "[I 2025-07-13 12:24:12,356] Trial 77 finished with value: 0.5423755049646997 and parameters: {'classifier': 'lr', 'lr_C': 0.013603221997906263}. Best is trial 34 with value: 0.5770126051495345.\n",
      "[I 2025-07-13 12:24:12,370] Trial 72 finished with value: 0.38544079621676136 and parameters: {'classifier': 'pac', 'pac_C': 0.014581223841748942}. Best is trial 34 with value: 0.5770126051495345.\n",
      "[I 2025-07-13 12:24:12,377] Trial 75 finished with value: 0.41226956799941966 and parameters: {'classifier': 'et', 'et_max_depth': 19, 'et_min_samples_split': 7}. Best is trial 34 with value: 0.5770126051495345.\n",
      "[I 2025-07-13 12:24:12,435] Trial 80 finished with value: 0.4110292547512278 and parameters: {'classifier': 'et', 'et_max_depth': 4, 'et_min_samples_split': 3}. Best is trial 34 with value: 0.5770126051495345.\n",
      "[I 2025-07-13 12:24:14,567] Trial 79 finished with value: 0.4302778677695638 and parameters: {'classifier': 'et', 'et_max_depth': 10, 'et_min_samples_split': 2}. Best is trial 34 with value: 0.5770126051495345.\n",
      "[I 2025-07-13 12:24:14,777] Trial 78 finished with value: 0.4333399168658753 and parameters: {'classifier': 'rf', 'rf_n_estimators': 172, 'rf_max_depth': 18, 'rf_min_samples_split': 10}. Best is trial 34 with value: 0.5770126051495345.\n",
      "[I 2025-07-13 12:24:15,038] Trial 82 finished with value: 0.26958532781664707 and parameters: {'classifier': 'et', 'et_max_depth': 4, 'et_min_samples_split': 3}. Best is trial 34 with value: 0.5770126051495345.\n",
      "[I 2025-07-13 12:24:15,062] Trial 81 finished with value: 0.30712306184570054 and parameters: {'classifier': 'lsvc', 'lsvc_C': 37.07896820225025}. Best is trial 34 with value: 0.5770126051495345.\n",
      "[I 2025-07-13 12:24:15,076] Trial 86 finished with value: 0.3760624757302498 and parameters: {'classifier': 'perc', 'perc_alpha': 0.00010294821616965662}. Best is trial 34 with value: 0.5770126051495345.\n",
      "[I 2025-07-13 12:24:15,447] Trial 85 finished with value: 0.39635098662650936 and parameters: {'classifier': 'lsvc', 'lsvc_C': 18.421858285666683}. Best is trial 34 with value: 0.5770126051495345.\n",
      "[I 2025-07-13 12:24:15,543] Trial 89 finished with value: 0.500986203448241 and parameters: {'classifier': 'et', 'et_max_depth': 19, 'et_min_samples_split': 8}. Best is trial 34 with value: 0.5770126051495345.\n",
      "[I 2025-07-13 12:24:15,562] Trial 87 finished with value: 0.39727632467128265 and parameters: {'classifier': 'lr', 'lr_C': 0.014258197255967418}. Best is trial 34 with value: 0.5770126051495345.\n",
      "[I 2025-07-13 12:24:15,637] Trial 90 finished with value: 0.059045008066071776 and parameters: {'classifier': 'svc', 'svc_C': 0.20723653036491285, 'svc_kernel': 'linear', 'svc_gamma': 'scale'}. Best is trial 34 with value: 0.5770126051495345.\n",
      "[I 2025-07-13 12:24:15,670] Trial 84 finished with value: 0.3760624757302498 and parameters: {'classifier': 'perc', 'perc_alpha': 0.0006754029252506487}. Best is trial 34 with value: 0.5770126051495345.\n",
      "[I 2025-07-13 12:24:15,773] Trial 88 finished with value: 0.545996874436497 and parameters: {'classifier': 'dt', 'dt_max_depth': 13, 'dt_min_samples_split': 6}. Best is trial 34 with value: 0.5770126051495345.\n",
      "[I 2025-07-13 12:24:15,923] Trial 91 finished with value: 0.31259834508821543 and parameters: {'classifier': 'et', 'et_max_depth': 13, 'et_min_samples_split': 6}. Best is trial 34 with value: 0.5770126051495345.\n",
      "[I 2025-07-13 12:24:15,930] Trial 83 finished with value: 0.3250636005876336 and parameters: {'classifier': 'dt', 'dt_max_depth': 19, 'dt_min_samples_split': 2}. Best is trial 34 with value: 0.5770126051495345.\n",
      "[I 2025-07-13 12:24:15,946] Trial 92 finished with value: 0.4070902070902071 and parameters: {'classifier': 'perc', 'perc_alpha': 0.041566097893849845}. Best is trial 34 with value: 0.5770126051495345.\n",
      "[I 2025-07-13 12:24:16,171] Trial 93 finished with value: 0.3682115931281671 and parameters: {'classifier': 'lr', 'lr_C': 0.3418407033165099}. Best is trial 34 with value: 0.5770126051495345.\n",
      "[I 2025-07-13 12:24:16,176] Trial 94 finished with value: 0.4315535977812332 and parameters: {'classifier': 'et', 'et_max_depth': 11, 'et_min_samples_split': 8}. Best is trial 34 with value: 0.5770126051495345.\n",
      "[I 2025-07-13 12:24:16,469] Trial 100 finished with value: 0.2871287685972645 and parameters: {'classifier': 'perc', 'perc_alpha': 0.011452381410826334}. Best is trial 34 with value: 0.5770126051495345.\n",
      "[I 2025-07-13 12:24:16,526] Trial 102 finished with value: 0.3172168894221689 and parameters: {'classifier': 'lsvc', 'lsvc_C': 0.0757927969726929}. Best is trial 34 with value: 0.5770126051495345.\n",
      "[I 2025-07-13 12:24:16,580] Trial 96 finished with value: 0.3770091660579067 and parameters: {'classifier': 'sgd', 'sgd_loss': 'hinge', 'sgd_alpha': 0.008280950568896333}. Best is trial 34 with value: 0.5770126051495345.\n",
      "[I 2025-07-13 12:24:16,947] Trial 97 finished with value: 0.5586263512189439 and parameters: {'classifier': 'lr', 'lr_C': 12.436384220336912}. Best is trial 34 with value: 0.5770126051495345.\n",
      "[I 2025-07-13 12:24:17,128] Trial 103 finished with value: 0.11649831649831649 and parameters: {'classifier': 'svc', 'svc_C': 3.5993609848659864, 'svc_kernel': 'rbf', 'svc_gamma': 'scale'}. Best is trial 34 with value: 0.5770126051495345.\n",
      "[I 2025-07-13 12:24:17,150] Trial 99 finished with value: 0.2871287685972645 and parameters: {'classifier': 'perc', 'perc_alpha': 0.0011541703967422518}. Best is trial 34 with value: 0.5770126051495345.\n",
      "[I 2025-07-13 12:24:17,633] Trial 98 finished with value: 0.47354619156077815 and parameters: {'classifier': 'etrees', 'etrees_n_estimators': 182, 'etrees_max_depth': 15, 'etrees_min_samples_split': 8}. Best is trial 34 with value: 0.5770126051495345.\n",
      "[I 2025-07-13 12:24:19,929] Trial 95 finished with value: 0.33626803677830325 and parameters: {'classifier': 'sgd', 'sgd_loss': 'hinge', 'sgd_alpha': 0.00014688351836922645}. Best is trial 34 with value: 0.5770126051495345.\n",
      "[I 2025-07-13 12:24:20,483] Trial 108 finished with value: 0.39760734284802624 and parameters: {'classifier': 'lr', 'lr_C': 0.020539441693018363}. Best is trial 34 with value: 0.5770126051495345.\n",
      "[I 2025-07-13 12:24:20,681] Trial 105 finished with value: 0.5484976809840694 and parameters: {'classifier': 'lr', 'lr_C': 0.03298981383401118}. Best is trial 34 with value: 0.5770126051495345.\n",
      "[I 2025-07-13 12:24:20,722] Trial 101 finished with value: 0.3167748238634314 and parameters: {'classifier': 'et', 'et_max_depth': 16, 'et_min_samples_split': 6}. Best is trial 34 with value: 0.5770126051495345.\n",
      "[I 2025-07-13 12:24:20,775] Trial 109 finished with value: 0.37489345944876024 and parameters: {'classifier': 'sgd', 'sgd_loss': 'hinge', 'sgd_alpha': 0.0034045814657400705}. Best is trial 34 with value: 0.5770126051495345.\n",
      "[I 2025-07-13 12:24:20,828] Trial 106 finished with value: 0.4040785146182119 and parameters: {'classifier': 'et', 'et_max_depth': 7, 'et_min_samples_split': 10}. Best is trial 34 with value: 0.5770126051495345.\n",
      "[I 2025-07-13 12:24:21,579] Trial 110 finished with value: 0.4629767662713398 and parameters: {'classifier': 'pac', 'pac_C': 0.06323859529986486}. Best is trial 34 with value: 0.5770126051495345.\n",
      "[I 2025-07-13 12:24:21,664] Trial 113 finished with value: 0.2871287685972645 and parameters: {'classifier': 'perc', 'perc_alpha': 0.0001358421444014557}. Best is trial 34 with value: 0.5770126051495345.\n",
      "[I 2025-07-13 12:24:21,846] Trial 104 finished with value: 0.44000602694907226 and parameters: {'classifier': 'rf', 'rf_n_estimators': 147, 'rf_max_depth': 16, 'rf_min_samples_split': 3}. Best is trial 34 with value: 0.5770126051495345.\n",
      "[I 2025-07-13 12:24:21,857] Trial 111 finished with value: 0.4909205222884758 and parameters: {'classifier': 'pac', 'pac_C': 0.10489039649917187}. Best is trial 34 with value: 0.5770126051495345.\n",
      "[I 2025-07-13 12:24:21,876] Trial 112 finished with value: 0.4070902070902071 and parameters: {'classifier': 'perc', 'perc_alpha': 0.0006765692988709397}. Best is trial 34 with value: 0.5770126051495345.\n",
      "[I 2025-07-13 12:24:21,937] Trial 114 finished with value: 0.4042937340474188 and parameters: {'classifier': 'et', 'et_max_depth': 11, 'et_min_samples_split': 10}. Best is trial 34 with value: 0.5770126051495345.\n",
      "[I 2025-07-13 12:24:21,949] Trial 115 finished with value: 0.3896340617032313 and parameters: {'classifier': 'lsvc', 'lsvc_C': 76.4862220416859}. Best is trial 34 with value: 0.5770126051495345.\n",
      "[I 2025-07-13 12:24:21,979] Trial 128 finished with value: 0.4070902070902071 and parameters: {'classifier': 'perc', 'perc_alpha': 9.241091622081663e-05}. Best is trial 34 with value: 0.5770126051495345.\n",
      "[I 2025-07-13 12:24:22,225] Trial 107 finished with value: 0.46290169729077785 and parameters: {'classifier': 'rf', 'rf_n_estimators': 114, 'rf_max_depth': 17, 'rf_min_samples_split': 10}. Best is trial 34 with value: 0.5770126051495345.\n",
      "[I 2025-07-13 12:24:22,241] Trial 130 finished with value: 0.4089294756318054 and parameters: {'classifier': 'ridge', 'ridge_alpha': 1.9596630959168264}. Best is trial 34 with value: 0.5770126051495345.\n",
      "[I 2025-07-13 12:24:22,261] Trial 131 finished with value: 0.3579371217946068 and parameters: {'classifier': 'et', 'et_max_depth': 9, 'et_min_samples_split': 4}. Best is trial 34 with value: 0.5770126051495345.\n",
      "[I 2025-07-13 12:24:22,263] Trial 132 finished with value: 0.3928132586088051 and parameters: {'classifier': 'sgd', 'sgd_loss': 'log_loss', 'sgd_alpha': 0.014112081275776645}. Best is trial 34 with value: 0.5770126051495345.\n",
      "[I 2025-07-13 12:24:22,333] Trial 129 finished with value: 0.2949640287769784 and parameters: {'classifier': 'svc', 'svc_C': 20.775954351666744, 'svc_kernel': 'linear', 'svc_gamma': 'auto'}. Best is trial 34 with value: 0.5770126051495345.\n",
      "[W 2025-07-13 12:25:03,315] Use `RandomSampler` for sgd_loss due to dynamic search space.\n",
      "[W 2025-07-13 12:25:03,316] Use `RandomSampler` for sgd_alpha due to dynamic search space.\n",
      "[I 2025-07-13 12:25:03,781] Trial 133 finished with value: 0.3332376133374262 and parameters: {'classifier': 'sgd', 'sgd_loss': 'log_loss', 'sgd_alpha': 0.00016777590454833735}. Best is trial 34 with value: 0.5770126051495345.\n",
      "[W 2025-07-13 12:25:06,357] Use `RandomSampler` for sgd_loss due to dynamic search space.\n",
      "[W 2025-07-13 12:25:06,359] Use `RandomSampler` for sgd_alpha due to dynamic search space.\n",
      "[I 2025-07-13 12:25:06,765] Trial 134 finished with value: 0.49034541655551855 and parameters: {'classifier': 'sgd', 'sgd_loss': 'log_loss', 'sgd_alpha': 0.027286632587296838}. Best is trial 34 with value: 0.5770126051495345.\n",
      "[W 2025-07-13 12:25:07,737] Use `RandomSampler` for svc_C due to dynamic search space.\n",
      "[W 2025-07-13 12:25:07,739] Use `RandomSampler` for svc_kernel due to dynamic search space.\n",
      "[W 2025-07-13 12:25:07,741] Use `RandomSampler` for svc_gamma due to dynamic search space.\n",
      "[I 2025-07-13 12:25:07,933] Trial 136 finished with value: 0.5335852248485763 and parameters: {'classifier': 'svc', 'svc_C': 0.03465867088117709, 'svc_kernel': 'rbf', 'svc_gamma': 'auto'}. Best is trial 34 with value: 0.5770126051495345.\n",
      "[I 2025-07-13 12:25:10,045] Trial 135 finished with value: 0.35831347476508774 and parameters: {'classifier': 'pac', 'pac_C': 0.002490943832017907}. Best is trial 34 with value: 0.5770126051495345.\n",
      "[I 2025-07-13 12:25:12,590] Trial 137 finished with value: 0.10192592592592592 and parameters: {'classifier': 'et', 'et_max_depth': 15, 'et_min_samples_split': 10}. Best is trial 34 with value: 0.5770126051495345.\n",
      "[W 2025-07-13 12:25:21,811] Use `RandomSampler` for ridge_alpha due to dynamic search space.\n",
      "[I 2025-07-13 12:25:22,120] Trial 140 finished with value: 0.44371507386589526 and parameters: {'classifier': 'ridge', 'ridge_alpha': 0.005172335254951576}. Best is trial 34 with value: 0.5770126051495345.\n",
      "[W 2025-07-13 12:25:22,241] Use `RandomSampler` for svc_C due to dynamic search space.\n",
      "[W 2025-07-13 12:25:22,243] Use `RandomSampler` for svc_kernel due to dynamic search space.\n",
      "[W 2025-07-13 12:25:22,243] Use `RandomSampler` for svc_gamma due to dynamic search space.\n",
      "[I 2025-07-13 12:25:22,362] Trial 138 finished with value: 0.4713264595295064 and parameters: {'classifier': 'svc', 'svc_C': 3.566441866750982, 'svc_kernel': 'rbf', 'svc_gamma': 'auto'}. Best is trial 34 with value: 0.5770126051495345.\n",
      "[W 2025-07-13 12:25:25,614] Use `RandomSampler` for svc_C due to dynamic search space.\n",
      "[W 2025-07-13 12:25:25,615] Use `RandomSampler` for svc_kernel due to dynamic search space.\n",
      "[W 2025-07-13 12:25:25,616] Use `RandomSampler` for svc_gamma due to dynamic search space.\n",
      "[I 2025-07-13 12:25:25,674] Trial 139 finished with value: 0.01742482142787849 and parameters: {'classifier': 'svc', 'svc_C': 4.26450845557329, 'svc_kernel': 'linear', 'svc_gamma': 'scale'}. Best is trial 34 with value: 0.5770126051495345.\n",
      "[W 2025-07-13 12:25:28,559] Use `RandomSampler` for sgd_loss due to dynamic search space.\n",
      "[W 2025-07-13 12:25:28,560] Use `RandomSampler` for sgd_alpha due to dynamic search space.\n",
      "[I 2025-07-13 12:25:28,656] Trial 141 finished with value: 0.3923391139450813 and parameters: {'classifier': 'sgd', 'sgd_loss': 'hinge', 'sgd_alpha': 0.014888102889093745}. Best is trial 34 with value: 0.5770126051495345.\n",
      "[I 2025-07-13 12:25:29,456] Trial 143 finished with value: 0.4944894103729456 and parameters: {'classifier': 'dt', 'dt_max_depth': 4, 'dt_min_samples_split': 4}. Best is trial 34 with value: 0.5770126051495345.\n",
      "[I 2025-07-13 12:25:30,134] Trial 142 finished with value: 0.5593577525008956 and parameters: {'classifier': 'dt', 'dt_max_depth': 20, 'dt_min_samples_split': 3}. Best is trial 34 with value: 0.5770126051495345.\n",
      "[W 2025-07-13 12:25:33,146] Use `RandomSampler` for sgd_loss due to dynamic search space.\n",
      "[W 2025-07-13 12:25:33,149] Use `RandomSampler` for sgd_alpha due to dynamic search space.\n",
      "[I 2025-07-13 12:25:33,229] Trial 146 finished with value: 0.34099005375072905 and parameters: {'classifier': 'sgd', 'sgd_loss': 'hinge', 'sgd_alpha': 0.032201316571117265}. Best is trial 34 with value: 0.5770126051495345.\n",
      "[W 2025-07-13 12:25:35,138] Use `RandomSampler` for sgd_loss due to dynamic search space.\n",
      "[W 2025-07-13 12:25:35,140] Use `RandomSampler` for sgd_alpha due to dynamic search space.\n",
      "[I 2025-07-13 12:25:35,230] Trial 144 finished with value: 0.41908492645869133 and parameters: {'classifier': 'sgd', 'sgd_loss': 'hinge', 'sgd_alpha': 0.04438838405959266}. Best is trial 34 with value: 0.5770126051495345.\n",
      "[W 2025-07-13 12:25:35,530] Use `RandomSampler` for sgd_loss due to dynamic search space.\n",
      "[W 2025-07-13 12:25:35,532] Use `RandomSampler` for sgd_alpha due to dynamic search space.\n",
      "[I 2025-07-13 12:25:35,862] Trial 145 finished with value: 0.4380383116340733 and parameters: {'classifier': 'sgd', 'sgd_loss': 'hinge', 'sgd_alpha': 0.0038061927323867063}. Best is trial 34 with value: 0.5770126051495345.\n",
      "[W 2025-07-13 12:25:49,847] Use `RandomSampler` for rf_n_estimators due to dynamic search space.\n",
      "[W 2025-07-13 12:25:49,849] Use `RandomSampler` for rf_max_depth due to dynamic search space.\n",
      "[W 2025-07-13 12:25:49,851] Use `RandomSampler` for rf_min_samples_split due to dynamic search space.\n",
      "[W 2025-07-13 12:25:51,039] Use `RandomSampler` for rf_n_estimators due to dynamic search space.\n",
      "[W 2025-07-13 12:25:51,041] Use `RandomSampler` for rf_max_depth due to dynamic search space.\n",
      "[W 2025-07-13 12:25:51,041] Use `RandomSampler` for rf_min_samples_split due to dynamic search space.\n",
      "[I 2025-07-13 12:25:51,063] Trial 148 finished with value: 0.42757513066202096 and parameters: {'classifier': 'rf', 'rf_n_estimators': 107, 'rf_max_depth': 10, 'rf_min_samples_split': 8}. Best is trial 34 with value: 0.5770126051495345.\n",
      "[W 2025-07-13 12:25:51,153] Use `RandomSampler` for rf_n_estimators due to dynamic search space.\n",
      "[W 2025-07-13 12:25:51,153] Use `RandomSampler` for rf_max_depth due to dynamic search space.\n",
      "[W 2025-07-13 12:25:51,155] Use `RandomSampler` for rf_min_samples_split due to dynamic search space.\n",
      "[W 2025-07-13 12:25:51,950] Use `RandomSampler` for rf_n_estimators due to dynamic search space.\n",
      "[W 2025-07-13 12:25:51,951] Use `RandomSampler` for rf_max_depth due to dynamic search space.\n",
      "[W 2025-07-13 12:25:51,951] Use `RandomSampler` for rf_min_samples_split due to dynamic search space.\n",
      "[W 2025-07-13 12:25:52,038] Use `RandomSampler` for sgd_loss due to dynamic search space.\n",
      "[W 2025-07-13 12:25:52,040] Use `RandomSampler` for sgd_alpha due to dynamic search space.\n",
      "[W 2025-07-13 12:25:52,122] Use `RandomSampler` for sgd_loss due to dynamic search space.\n",
      "[W 2025-07-13 12:25:52,124] Use `RandomSampler` for sgd_alpha due to dynamic search space.\n",
      "[W 2025-07-13 12:25:52,236] Use `RandomSampler` for rf_n_estimators due to dynamic search space.\n",
      "[W 2025-07-13 12:25:52,237] Use `RandomSampler` for rf_max_depth due to dynamic search space.\n",
      "[W 2025-07-13 12:25:52,237] Use `RandomSampler` for rf_min_samples_split due to dynamic search space.\n",
      "[W 2025-07-13 12:25:52,354] Use `RandomSampler` for rf_n_estimators due to dynamic search space.\n",
      "[W 2025-07-13 12:25:52,355] Use `RandomSampler` for rf_max_depth due to dynamic search space.\n",
      "[W 2025-07-13 12:25:52,356] Use `RandomSampler` for rf_min_samples_split due to dynamic search space.\n",
      "[W 2025-07-13 12:25:52,552] Use `RandomSampler` for rf_n_estimators due to dynamic search space.\n",
      "[W 2025-07-13 12:25:52,554] Use `RandomSampler` for rf_max_depth due to dynamic search space.\n",
      "[W 2025-07-13 12:25:52,555] Use `RandomSampler` for rf_min_samples_split due to dynamic search space.\n",
      "[I 2025-07-13 12:25:52,995] Trial 151 finished with value: 0.454876310699379 and parameters: {'classifier': 'rf', 'rf_n_estimators': 171, 'rf_max_depth': 10, 'rf_min_samples_split': 3}. Best is trial 34 with value: 0.5770126051495345.\n",
      "[W 2025-07-13 12:25:53,042] Use `RandomSampler` for rf_n_estimators due to dynamic search space.\n",
      "[W 2025-07-13 12:25:53,045] Use `RandomSampler` for rf_max_depth due to dynamic search space.\n",
      "[W 2025-07-13 12:25:53,046] Use `RandomSampler` for rf_min_samples_split due to dynamic search space.\n",
      "[W 2025-07-13 12:25:53,288] Use `RandomSampler` for sgd_loss due to dynamic search space.\n",
      "[W 2025-07-13 12:25:53,288] Use `RandomSampler` for sgd_alpha due to dynamic search space.\n",
      "[I 2025-07-13 12:25:54,972] Trial 147 finished with value: 0.4530313345846421 and parameters: {'classifier': 'rf', 'rf_n_estimators': 143, 'rf_max_depth': 14, 'rf_min_samples_split': 2}. Best is trial 34 with value: 0.5770126051495345.\n",
      "[I 2025-07-13 12:25:54,975] Trial 155 finished with value: 0.5145491042922906 and parameters: {'classifier': 'rf', 'rf_n_estimators': 60, 'rf_max_depth': 2, 'rf_min_samples_split': 9}. Best is trial 34 with value: 0.5770126051495345.\n",
      "[W 2025-07-13 12:25:54,990] Use `RandomSampler` for rf_n_estimators due to dynamic search space.\n",
      "[W 2025-07-13 12:25:54,991] Use `RandomSampler` for rf_max_depth due to dynamic search space.\n",
      "[W 2025-07-13 12:25:54,992] Use `RandomSampler` for rf_min_samples_split due to dynamic search space.\n",
      "[I 2025-07-13 12:25:55,088] Trial 159 finished with value: 0.30045651317547584 and parameters: {'classifier': 'sgd', 'sgd_loss': 'log_loss', 'sgd_alpha': 2.7902187295161136e-05}. Best is trial 34 with value: 0.5770126051495345.\n",
      "[I 2025-07-13 12:25:55,133] Trial 154 finished with value: 0.32811891736841026 and parameters: {'classifier': 'sgd', 'sgd_loss': 'hinge', 'sgd_alpha': 0.02396042894258382}. Best is trial 34 with value: 0.5770126051495345.\n",
      "[W 2025-07-13 12:25:55,425] Use `RandomSampler` for etrees_n_estimators due to dynamic search space.\n",
      "[W 2025-07-13 12:25:55,428] Use `RandomSampler` for etrees_max_depth due to dynamic search space.\n",
      "[W 2025-07-13 12:25:55,428] Use `RandomSampler` for etrees_min_samples_split due to dynamic search space.\n",
      "[W 2025-07-13 12:25:55,477] Use `RandomSampler` for rf_n_estimators due to dynamic search space.\n",
      "[W 2025-07-13 12:25:55,478] Use `RandomSampler` for rf_max_depth due to dynamic search space.\n",
      "[W 2025-07-13 12:25:55,481] Use `RandomSampler` for rf_min_samples_split due to dynamic search space.\n",
      "[W 2025-07-13 12:25:55,959] Use `RandomSampler` for lr_C due to dynamic search space.\n",
      "[W 2025-07-13 12:25:56,382] Use `RandomSampler` for rf_n_estimators due to dynamic search space.\n",
      "[W 2025-07-13 12:25:56,383] Use `RandomSampler` for rf_max_depth due to dynamic search space.\n",
      "[W 2025-07-13 12:25:56,384] Use `RandomSampler` for rf_min_samples_split due to dynamic search space.\n",
      "[I 2025-07-13 12:25:56,433] Trial 153 finished with value: 0.38205816615732596 and parameters: {'classifier': 'rf', 'rf_n_estimators': 132, 'rf_max_depth': 6, 'rf_min_samples_split': 5}. Best is trial 34 with value: 0.5770126051495345.\n",
      "[W 2025-07-13 12:25:57,272] Use `RandomSampler` for etrees_n_estimators due to dynamic search space.\n",
      "[W 2025-07-13 12:25:57,275] Use `RandomSampler` for etrees_max_depth due to dynamic search space.\n",
      "[W 2025-07-13 12:25:57,275] Use `RandomSampler` for etrees_min_samples_split due to dynamic search space.\n",
      "[I 2025-07-13 12:25:57,932] Trial 149 finished with value: 0.37885355950364924 and parameters: {'classifier': 'rf', 'rf_n_estimators': 157, 'rf_max_depth': 6, 'rf_min_samples_split': 3}. Best is trial 34 with value: 0.5770126051495345.\n",
      "[W 2025-07-13 12:25:58,082] Use `RandomSampler` for etrees_n_estimators due to dynamic search space.\n",
      "[W 2025-07-13 12:25:58,085] Use `RandomSampler` for etrees_max_depth due to dynamic search space.\n",
      "[W 2025-07-13 12:25:58,085] Use `RandomSampler` for etrees_min_samples_split due to dynamic search space.\n",
      "[W 2025-07-13 12:25:58,122] Use `RandomSampler` for etrees_n_estimators due to dynamic search space.\n",
      "[W 2025-07-13 12:25:58,125] Use `RandomSampler` for etrees_max_depth due to dynamic search space.\n",
      "[W 2025-07-13 12:25:58,125] Use `RandomSampler` for etrees_min_samples_split due to dynamic search space.\n",
      "[W 2025-07-13 12:25:58,352] Use `RandomSampler` for rf_n_estimators due to dynamic search space.\n",
      "[W 2025-07-13 12:25:58,352] Use `RandomSampler` for rf_max_depth due to dynamic search space.\n",
      "[W 2025-07-13 12:25:58,354] Use `RandomSampler` for rf_min_samples_split due to dynamic search space.\n",
      "[I 2025-07-13 12:25:58,879] Trial 150 finished with value: 0.4398683706334987 and parameters: {'classifier': 'rf', 'rf_n_estimators': 87, 'rf_max_depth': 7, 'rf_min_samples_split': 10}. Best is trial 34 with value: 0.5770126051495345.\n",
      "[W 2025-07-13 12:25:59,039] Use `RandomSampler` for lr_C due to dynamic search space.\n",
      "[W 2025-07-13 12:25:59,443] Use `RandomSampler` for etrees_n_estimators due to dynamic search space.\n",
      "[W 2025-07-13 12:25:59,444] Use `RandomSampler` for etrees_max_depth due to dynamic search space.\n",
      "[W 2025-07-13 12:25:59,445] Use `RandomSampler` for etrees_min_samples_split due to dynamic search space.\n",
      "[W 2025-07-13 12:25:59,477] Use `RandomSampler` for rf_n_estimators due to dynamic search space.\n",
      "[W 2025-07-13 12:25:59,478] Use `RandomSampler` for rf_max_depth due to dynamic search space.\n",
      "[W 2025-07-13 12:25:59,478] Use `RandomSampler` for rf_min_samples_split due to dynamic search space.\n",
      "[W 2025-07-13 12:25:59,936] Use `RandomSampler` for lr_C due to dynamic search space.\n",
      "[W 2025-07-13 12:26:00,038] Use `RandomSampler` for etrees_n_estimators due to dynamic search space.\n",
      "[W 2025-07-13 12:26:00,039] Use `RandomSampler` for etrees_max_depth due to dynamic search space.\n",
      "[W 2025-07-13 12:26:00,041] Use `RandomSampler` for etrees_min_samples_split due to dynamic search space.\n",
      "[W 2025-07-13 12:26:00,070] Use `RandomSampler` for rf_n_estimators due to dynamic search space.\n",
      "[W 2025-07-13 12:26:00,072] Use `RandomSampler` for rf_max_depth due to dynamic search space.\n",
      "[W 2025-07-13 12:26:00,072] Use `RandomSampler` for rf_min_samples_split due to dynamic search space.\n",
      "[W 2025-07-13 12:26:00,240] Use `RandomSampler` for etrees_n_estimators due to dynamic search space.\n",
      "[W 2025-07-13 12:26:00,242] Use `RandomSampler` for etrees_max_depth due to dynamic search space.\n",
      "[W 2025-07-13 12:26:00,243] Use `RandomSampler` for etrees_min_samples_split due to dynamic search space.\n",
      "[I 2025-07-13 12:26:00,773] Trial 152 finished with value: 0.5162537674826654 and parameters: {'classifier': 'rf', 'rf_n_estimators': 144, 'rf_max_depth': 11, 'rf_min_samples_split': 2}. Best is trial 34 with value: 0.5770126051495345.\n",
      "[I 2025-07-13 12:26:00,881] Trial 157 finished with value: 0.3412724236216649 and parameters: {'classifier': 'sgd', 'sgd_loss': 'log_loss', 'sgd_alpha': 0.05203833281654864}. Best is trial 34 with value: 0.5770126051495345.\n",
      "[W 2025-07-13 12:26:01,134] Use `RandomSampler` for lsvc_C due to dynamic search space.\n",
      "[W 2025-07-13 12:26:01,148] Use `RandomSampler` for etrees_n_estimators due to dynamic search space.\n",
      "[W 2025-07-13 12:26:01,149] Use `RandomSampler` for etrees_max_depth due to dynamic search space.\n",
      "[W 2025-07-13 12:26:01,151] Use `RandomSampler` for etrees_min_samples_split due to dynamic search space.\n",
      "[W 2025-07-13 12:26:01,163] Use `RandomSampler` for rf_n_estimators due to dynamic search space.\n",
      "[W 2025-07-13 12:26:01,164] Use `RandomSampler` for rf_max_depth due to dynamic search space.\n",
      "[W 2025-07-13 12:26:01,165] Use `RandomSampler` for rf_min_samples_split due to dynamic search space.\n",
      "[W 2025-07-13 12:26:01,222] Use `RandomSampler` for lr_C due to dynamic search space.\n",
      "[W 2025-07-13 12:26:01,227] Use `RandomSampler` for etrees_n_estimators due to dynamic search space.\n",
      "[W 2025-07-13 12:26:01,229] Use `RandomSampler` for etrees_max_depth due to dynamic search space.\n",
      "[W 2025-07-13 12:26:01,229] Use `RandomSampler` for etrees_min_samples_split due to dynamic search space.\n",
      "[W 2025-07-13 12:26:01,243] Use `RandomSampler` for etrees_n_estimators due to dynamic search space.\n",
      "[W 2025-07-13 12:26:01,245] Use `RandomSampler` for etrees_max_depth due to dynamic search space.\n",
      "[W 2025-07-13 12:26:01,247] Use `RandomSampler` for etrees_min_samples_split due to dynamic search space.\n",
      "[W 2025-07-13 12:26:01,354] Use `RandomSampler` for rf_n_estimators due to dynamic search space.\n",
      "[W 2025-07-13 12:26:01,355] Use `RandomSampler` for rf_max_depth due to dynamic search space.\n",
      "[W 2025-07-13 12:26:01,356] Use `RandomSampler` for rf_min_samples_split due to dynamic search space.\n",
      "[W 2025-07-13 12:26:01,379] Use `RandomSampler` for rf_n_estimators due to dynamic search space.\n",
      "[W 2025-07-13 12:26:01,381] Use `RandomSampler` for rf_max_depth due to dynamic search space.\n",
      "[W 2025-07-13 12:26:01,382] Use `RandomSampler` for rf_min_samples_split due to dynamic search space.\n",
      "[W 2025-07-13 12:26:01,388] Use `RandomSampler` for rf_n_estimators due to dynamic search space.\n",
      "[W 2025-07-13 12:26:01,422] Use `RandomSampler` for rf_max_depth due to dynamic search space.\n",
      "[W 2025-07-13 12:26:01,423] Use `RandomSampler` for rf_min_samples_split due to dynamic search space.\n",
      "[I 2025-07-13 12:26:01,841] Trial 158 finished with value: 0.5125745894550846 and parameters: {'classifier': 'rf', 'rf_n_estimators': 80, 'rf_max_depth': 17, 'rf_min_samples_split': 5}. Best is trial 34 with value: 0.5770126051495345.\n",
      "[W 2025-07-13 12:26:01,842] Use `RandomSampler` for etrees_n_estimators due to dynamic search space.\n",
      "[W 2025-07-13 12:26:01,845] Use `RandomSampler` for etrees_max_depth due to dynamic search space.\n",
      "[W 2025-07-13 12:26:01,846] Use `RandomSampler` for etrees_min_samples_split due to dynamic search space.\n",
      "[W 2025-07-13 12:26:01,850] Use `RandomSampler` for etrees_n_estimators due to dynamic search space.\n",
      "[W 2025-07-13 12:26:01,851] Use `RandomSampler` for etrees_max_depth due to dynamic search space.\n",
      "[W 2025-07-13 12:26:01,852] Use `RandomSampler` for etrees_min_samples_split due to dynamic search space.\n",
      "[W 2025-07-13 12:26:01,863] Use `RandomSampler` for etrees_n_estimators due to dynamic search space.\n",
      "[W 2025-07-13 12:26:01,864] Use `RandomSampler` for etrees_max_depth due to dynamic search space.\n",
      "[W 2025-07-13 12:26:01,864] Use `RandomSampler` for etrees_min_samples_split due to dynamic search space.\n",
      "[W 2025-07-13 12:26:01,875] Use `RandomSampler` for etrees_n_estimators due to dynamic search space.\n",
      "[W 2025-07-13 12:26:01,878] Use `RandomSampler` for etrees_max_depth due to dynamic search space.\n",
      "[W 2025-07-13 12:26:01,879] Use `RandomSampler` for etrees_min_samples_split due to dynamic search space.\n",
      "[W 2025-07-13 12:26:01,883] Use `RandomSampler` for rf_n_estimators due to dynamic search space.\n",
      "[W 2025-07-13 12:26:01,884] Use `RandomSampler` for rf_max_depth due to dynamic search space.\n",
      "[W 2025-07-13 12:26:01,884] Use `RandomSampler` for rf_min_samples_split due to dynamic search space.\n",
      "[I 2025-07-13 12:26:02,067] Trial 163 finished with value: 0.45675810283418056 and parameters: {'classifier': 'etrees', 'etrees_n_estimators': 105, 'etrees_max_depth': 19, 'etrees_min_samples_split': 5}. Best is trial 34 with value: 0.5770126051495345.\n",
      "[W 2025-07-13 12:26:02,124] Use `RandomSampler` for rf_n_estimators due to dynamic search space.\n",
      "[W 2025-07-13 12:26:02,125] Use `RandomSampler` for rf_max_depth due to dynamic search space.\n",
      "[W 2025-07-13 12:26:02,126] Use `RandomSampler` for rf_min_samples_split due to dynamic search space.\n",
      "[W 2025-07-13 12:26:02,165] Use `RandomSampler` for etrees_n_estimators due to dynamic search space.\n",
      "[W 2025-07-13 12:26:02,167] Use `RandomSampler` for rf_n_estimators due to dynamic search space.\n",
      "[W 2025-07-13 12:26:02,167] Use `RandomSampler` for etrees_max_depth due to dynamic search space.\n",
      "[W 2025-07-13 12:26:02,168] Use `RandomSampler` for rf_max_depth due to dynamic search space.\n",
      "[W 2025-07-13 12:26:02,169] Use `RandomSampler` for etrees_min_samples_split due to dynamic search space.\n",
      "[W 2025-07-13 12:26:02,170] Use `RandomSampler` for rf_min_samples_split due to dynamic search space.\n",
      "[W 2025-07-13 12:26:02,248] Use `RandomSampler` for etrees_n_estimators due to dynamic search space.\n",
      "[W 2025-07-13 12:26:02,249] Use `RandomSampler` for etrees_max_depth due to dynamic search space.\n",
      "[W 2025-07-13 12:26:02,249] Use `RandomSampler` for etrees_min_samples_split due to dynamic search space.\n",
      "[W 2025-07-13 12:26:02,442] Use `RandomSampler` for rf_n_estimators due to dynamic search space.\n",
      "[W 2025-07-13 12:26:02,444] Use `RandomSampler` for rf_max_depth due to dynamic search space.\n",
      "[W 2025-07-13 12:26:02,445] Use `RandomSampler` for rf_min_samples_split due to dynamic search space.\n",
      "[W 2025-07-13 12:26:02,445] Use `RandomSampler` for etrees_n_estimators due to dynamic search space.\n",
      "[W 2025-07-13 12:26:02,448] Use `RandomSampler` for etrees_max_depth due to dynamic search space.\n",
      "[W 2025-07-13 12:26:02,449] Use `RandomSampler` for etrees_min_samples_split due to dynamic search space.\n",
      "[W 2025-07-13 12:26:02,632] Use `RandomSampler` for etrees_n_estimators due to dynamic search space.\n",
      "[W 2025-07-13 12:26:02,633] Use `RandomSampler` for etrees_max_depth due to dynamic search space.\n",
      "[W 2025-07-13 12:26:02,633] Use `RandomSampler` for etrees_min_samples_split due to dynamic search space.\n",
      "[W 2025-07-13 12:26:02,642] Use `RandomSampler` for etrees_n_estimators due to dynamic search space.\n",
      "[W 2025-07-13 12:26:02,644] Use `RandomSampler` for etrees_max_depth due to dynamic search space.\n",
      "[W 2025-07-13 12:26:02,645] Use `RandomSampler` for etrees_min_samples_split due to dynamic search space.\n",
      "[W 2025-07-13 12:26:02,972] Use `RandomSampler` for etrees_n_estimators due to dynamic search space.\n",
      "[W 2025-07-13 12:26:02,976] Use `RandomSampler` for etrees_max_depth due to dynamic search space.\n",
      "[W 2025-07-13 12:26:02,977] Use `RandomSampler` for etrees_min_samples_split due to dynamic search space.\n",
      "[W 2025-07-13 12:26:03,026] Use `RandomSampler` for etrees_n_estimators due to dynamic search space.\n",
      "[W 2025-07-13 12:26:03,027] Use `RandomSampler` for etrees_max_depth due to dynamic search space.\n",
      "[W 2025-07-13 12:26:03,030] Use `RandomSampler` for etrees_min_samples_split due to dynamic search space.\n",
      "[W 2025-07-13 12:26:03,069] Use `RandomSampler` for rf_n_estimators due to dynamic search space.\n",
      "[W 2025-07-13 12:26:03,071] Use `RandomSampler` for rf_max_depth due to dynamic search space.\n",
      "[W 2025-07-13 12:26:03,074] Use `RandomSampler` for rf_min_samples_split due to dynamic search space.\n",
      "[I 2025-07-13 12:26:03,076] Trial 160 finished with value: 0.45551237952081935 and parameters: {'classifier': 'rf', 'rf_n_estimators': 85, 'rf_max_depth': 17, 'rf_min_samples_split': 9}. Best is trial 34 with value: 0.5770126051495345.\n",
      "[I 2025-07-13 12:26:03,088] Trial 156 finished with value: 0.3181523531700045 and parameters: {'classifier': 'lr', 'lr_C': 0.0028515304493904664}. Best is trial 34 with value: 0.5770126051495345.\n",
      "[W 2025-07-13 12:26:03,123] Use `RandomSampler` for rf_n_estimators due to dynamic search space.\n",
      "[W 2025-07-13 12:26:03,123] Use `RandomSampler` for rf_max_depth due to dynamic search space.\n",
      "[W 2025-07-13 12:26:03,124] Use `RandomSampler` for rf_min_samples_split due to dynamic search space.\n",
      "[W 2025-07-13 12:26:03,152] Use `RandomSampler` for etrees_n_estimators due to dynamic search space.\n",
      "[W 2025-07-13 12:26:03,153] Use `RandomSampler` for etrees_max_depth due to dynamic search space.\n",
      "[W 2025-07-13 12:26:03,153] Use `RandomSampler` for etrees_min_samples_split due to dynamic search space.\n",
      "[W 2025-07-13 12:26:03,228] Use `RandomSampler` for etrees_n_estimators due to dynamic search space.\n",
      "[W 2025-07-13 12:26:03,231] Use `RandomSampler` for etrees_max_depth due to dynamic search space.\n",
      "[W 2025-07-13 12:26:03,232] Use `RandomSampler` for rf_n_estimators due to dynamic search space.\n",
      "[W 2025-07-13 12:26:03,233] Use `RandomSampler` for etrees_min_samples_split due to dynamic search space.\n",
      "[W 2025-07-13 12:26:03,237] Use `RandomSampler` for rf_max_depth due to dynamic search space.\n",
      "[W 2025-07-13 12:26:03,242] Use `RandomSampler` for rf_min_samples_split due to dynamic search space.\n",
      "[W 2025-07-13 12:26:03,357] Use `RandomSampler` for rf_n_estimators due to dynamic search space.\n",
      "[W 2025-07-13 12:26:03,358] Use `RandomSampler` for rf_max_depth due to dynamic search space.\n",
      "[W 2025-07-13 12:26:03,359] Use `RandomSampler` for rf_min_samples_split due to dynamic search space.\n",
      "[W 2025-07-13 12:26:03,362] Use `RandomSampler` for rf_n_estimators due to dynamic search space.\n",
      "[W 2025-07-13 12:26:03,364] Use `RandomSampler` for rf_max_depth due to dynamic search space.\n",
      "[W 2025-07-13 12:26:03,365] Use `RandomSampler` for rf_min_samples_split due to dynamic search space.\n",
      "[W 2025-07-13 12:26:03,368] Use `RandomSampler` for rf_n_estimators due to dynamic search space.\n",
      "[W 2025-07-13 12:26:03,368] Use `RandomSampler` for rf_max_depth due to dynamic search space.\n",
      "[W 2025-07-13 12:26:03,370] Use `RandomSampler` for rf_min_samples_split due to dynamic search space.\n",
      "[W 2025-07-13 12:26:03,433] Use `RandomSampler` for etrees_n_estimators due to dynamic search space.\n",
      "[W 2025-07-13 12:26:03,434] Use `RandomSampler` for etrees_max_depth due to dynamic search space.\n",
      "[W 2025-07-13 12:26:03,435] Use `RandomSampler` for etrees_min_samples_split due to dynamic search space.\n",
      "[W 2025-07-13 12:26:03,445] Use `RandomSampler` for etrees_n_estimators due to dynamic search space.\n",
      "[W 2025-07-13 12:26:03,447] Use `RandomSampler` for etrees_max_depth due to dynamic search space.\n",
      "[W 2025-07-13 12:26:03,448] Use `RandomSampler` for etrees_min_samples_split due to dynamic search space.\n",
      "[W 2025-07-13 12:26:03,453] Use `RandomSampler` for rf_n_estimators due to dynamic search space.\n",
      "[W 2025-07-13 12:26:03,455] Use `RandomSampler` for rf_max_depth due to dynamic search space.\n",
      "[W 2025-07-13 12:26:03,455] Use `RandomSampler` for rf_min_samples_split due to dynamic search space.\n",
      "[W 2025-07-13 12:26:03,470] Use `RandomSampler` for etrees_n_estimators due to dynamic search space.\n",
      "[W 2025-07-13 12:26:03,471] Use `RandomSampler` for etrees_max_depth due to dynamic search space.\n",
      "[W 2025-07-13 12:26:03,472] Use `RandomSampler` for etrees_min_samples_split due to dynamic search space.\n",
      "[W 2025-07-13 12:26:03,533] Use `RandomSampler` for etrees_n_estimators due to dynamic search space.\n",
      "[W 2025-07-13 12:26:03,534] Use `RandomSampler` for etrees_max_depth due to dynamic search space.\n",
      "[W 2025-07-13 12:26:03,536] Use `RandomSampler` for etrees_min_samples_split due to dynamic search space.\n",
      "[W 2025-07-13 12:26:03,555] Use `RandomSampler` for rf_n_estimators due to dynamic search space.\n",
      "[W 2025-07-13 12:26:03,556] Use `RandomSampler` for rf_max_depth due to dynamic search space.\n",
      "[W 2025-07-13 12:26:03,557] Use `RandomSampler` for rf_min_samples_split due to dynamic search space.\n",
      "[W 2025-07-13 12:26:03,630] Use `RandomSampler` for rf_n_estimators due to dynamic search space.\n",
      "[W 2025-07-13 12:26:03,630] Use `RandomSampler` for rf_max_depth due to dynamic search space.\n",
      "[W 2025-07-13 12:26:03,632] Use `RandomSampler` for rf_min_samples_split due to dynamic search space.\n",
      "[W 2025-07-13 12:26:03,649] Use `RandomSampler` for lr_C due to dynamic search space.\n",
      "[W 2025-07-13 12:26:03,665] Use `RandomSampler` for lsvc_C due to dynamic search space.\n",
      "[W 2025-07-13 12:26:03,677] Use `RandomSampler` for etrees_n_estimators due to dynamic search space.\n",
      "[W 2025-07-13 12:26:03,678] Use `RandomSampler` for etrees_max_depth due to dynamic search space.\n",
      "[W 2025-07-13 12:26:03,682] Use `RandomSampler` for etrees_min_samples_split due to dynamic search space.\n",
      "[W 2025-07-13 12:26:03,752] Use `RandomSampler` for lr_C due to dynamic search space.\n",
      "[W 2025-07-13 12:26:03,865] Use `RandomSampler` for lr_C due to dynamic search space.\n",
      "[W 2025-07-13 12:26:03,880] Use `RandomSampler` for rf_n_estimators due to dynamic search space.\n",
      "[W 2025-07-13 12:26:03,881] Use `RandomSampler` for rf_max_depth due to dynamic search space.\n",
      "[W 2025-07-13 12:26:03,883] Use `RandomSampler` for rf_min_samples_split due to dynamic search space.\n",
      "[W 2025-07-13 12:26:03,884] Use `RandomSampler` for etrees_n_estimators due to dynamic search space.\n",
      "[W 2025-07-13 12:26:03,885] Use `RandomSampler` for etrees_max_depth due to dynamic search space.\n",
      "[W 2025-07-13 12:26:03,885] Use `RandomSampler` for etrees_min_samples_split due to dynamic search space.\n",
      "[W 2025-07-13 12:26:03,956] Use `RandomSampler` for rf_n_estimators due to dynamic search space.\n",
      "[W 2025-07-13 12:26:03,958] Use `RandomSampler` for rf_max_depth due to dynamic search space.\n",
      "[W 2025-07-13 12:26:03,961] Use `RandomSampler` for rf_min_samples_split due to dynamic search space.\n",
      "[W 2025-07-13 12:26:03,982] Use `RandomSampler` for etrees_n_estimators due to dynamic search space.\n",
      "[W 2025-07-13 12:26:03,983] Use `RandomSampler` for etrees_max_depth due to dynamic search space.\n",
      "[W 2025-07-13 12:26:03,983] Use `RandomSampler` for etrees_min_samples_split due to dynamic search space.\n",
      "[W 2025-07-13 12:26:04,037] Use `RandomSampler` for lr_C due to dynamic search space.\n",
      "[W 2025-07-13 12:26:04,038] Use `RandomSampler` for etrees_n_estimators due to dynamic search space.\n",
      "[W 2025-07-13 12:26:04,043] Use `RandomSampler` for etrees_max_depth due to dynamic search space.\n",
      "[W 2025-07-13 12:26:04,044] Use `RandomSampler` for etrees_min_samples_split due to dynamic search space.\n",
      "[W 2025-07-13 12:26:04,062] Use `RandomSampler` for rf_n_estimators due to dynamic search space.\n",
      "[W 2025-07-13 12:26:04,062] Use `RandomSampler` for rf_n_estimators due to dynamic search space.\n",
      "[W 2025-07-13 12:26:04,063] Use `RandomSampler` for rf_max_depth due to dynamic search space.\n",
      "[W 2025-07-13 12:26:04,064] Use `RandomSampler` for rf_max_depth due to dynamic search space.\n",
      "[W 2025-07-13 12:26:04,065] Use `RandomSampler` for rf_min_samples_split due to dynamic search space.\n",
      "[W 2025-07-13 12:26:04,068] Use `RandomSampler` for rf_min_samples_split due to dynamic search space.\n",
      "[W 2025-07-13 12:26:04,088] Use `RandomSampler` for rf_n_estimators due to dynamic search space.\n",
      "[W 2025-07-13 12:26:04,124] Use `RandomSampler` for rf_max_depth due to dynamic search space.\n",
      "[W 2025-07-13 12:26:04,125] Use `RandomSampler` for rf_min_samples_split due to dynamic search space.\n",
      "[W 2025-07-13 12:26:04,137] Use `RandomSampler` for rf_n_estimators due to dynamic search space.\n",
      "[W 2025-07-13 12:26:04,137] Use `RandomSampler` for rf_max_depth due to dynamic search space.\n",
      "[W 2025-07-13 12:26:04,138] Use `RandomSampler` for rf_min_samples_split due to dynamic search space.\n",
      "[W 2025-07-13 12:26:04,145] Use `RandomSampler` for rf_n_estimators due to dynamic search space.\n",
      "[W 2025-07-13 12:26:04,148] Use `RandomSampler` for rf_max_depth due to dynamic search space.\n",
      "[W 2025-07-13 12:26:04,150] Use `RandomSampler` for rf_min_samples_split due to dynamic search space.\n",
      "[W 2025-07-13 12:26:04,178] Use `RandomSampler` for rf_n_estimators due to dynamic search space.\n",
      "[W 2025-07-13 12:26:04,179] Use `RandomSampler` for rf_max_depth due to dynamic search space.\n",
      "[W 2025-07-13 12:26:04,182] Use `RandomSampler` for rf_min_samples_split due to dynamic search space.\n",
      "[W 2025-07-13 12:26:04,248] Use `RandomSampler` for rf_n_estimators due to dynamic search space.\n",
      "[W 2025-07-13 12:26:04,250] Use `RandomSampler` for rf_max_depth due to dynamic search space.\n",
      "[W 2025-07-13 12:26:04,251] Use `RandomSampler` for rf_min_samples_split due to dynamic search space.\n",
      "[W 2025-07-13 12:26:04,263] Use `RandomSampler` for rf_n_estimators due to dynamic search space.\n",
      "[W 2025-07-13 12:26:04,268] Use `RandomSampler` for rf_max_depth due to dynamic search space.\n",
      "[W 2025-07-13 12:26:04,269] Use `RandomSampler` for rf_n_estimators due to dynamic search space.\n",
      "[W 2025-07-13 12:26:04,270] Use `RandomSampler` for rf_min_samples_split due to dynamic search space.\n",
      "[W 2025-07-13 12:26:04,271] Use `RandomSampler` for rf_max_depth due to dynamic search space.\n",
      "[W 2025-07-13 12:26:04,598] Use `RandomSampler` for rf_min_samples_split due to dynamic search space.\n",
      "[I 2025-07-13 12:26:04,604] Trial 161 finished with value: 0.5493451383774538 and parameters: {'classifier': 'rf', 'rf_n_estimators': 120, 'rf_max_depth': 11, 'rf_min_samples_split': 5}. Best is trial 34 with value: 0.5770126051495345.\n",
      "[W 2025-07-13 12:26:04,625] Use `RandomSampler` for etrees_n_estimators due to dynamic search space.\n",
      "[W 2025-07-13 12:26:04,626] Use `RandomSampler` for etrees_max_depth due to dynamic search space.\n",
      "[W 2025-07-13 12:26:04,627] Use `RandomSampler` for etrees_min_samples_split due to dynamic search space.\n",
      "[W 2025-07-13 12:26:04,645] Use `RandomSampler` for rf_n_estimators due to dynamic search space.\n",
      "[W 2025-07-13 12:26:04,647] Use `RandomSampler` for rf_max_depth due to dynamic search space.\n",
      "[W 2025-07-13 12:26:04,650] Use `RandomSampler` for rf_min_samples_split due to dynamic search space.\n",
      "[W 2025-07-13 12:26:04,652] Use `RandomSampler` for etrees_n_estimators due to dynamic search space.\n",
      "[W 2025-07-13 12:26:04,653] Use `RandomSampler` for etrees_max_depth due to dynamic search space.\n",
      "[W 2025-07-13 12:26:04,654] Use `RandomSampler` for etrees_min_samples_split due to dynamic search space.\n",
      "[W 2025-07-13 12:26:04,655] Use `RandomSampler` for rf_n_estimators due to dynamic search space.\n",
      "[W 2025-07-13 12:26:04,656] Use `RandomSampler` for rf_max_depth due to dynamic search space.\n",
      "[W 2025-07-13 12:26:04,657] Use `RandomSampler` for rf_min_samples_split due to dynamic search space.\n",
      "[W 2025-07-13 12:26:04,728] Use `RandomSampler` for rf_n_estimators due to dynamic search space.\n",
      "[W 2025-07-13 12:26:04,729] Use `RandomSampler` for rf_max_depth due to dynamic search space.\n",
      "[W 2025-07-13 12:26:04,731] Use `RandomSampler` for rf_min_samples_split due to dynamic search space.\n",
      "[W 2025-07-13 12:26:04,833] Use `RandomSampler` for etrees_n_estimators due to dynamic search space.\n",
      "[W 2025-07-13 12:26:04,834] Use `RandomSampler` for etrees_max_depth due to dynamic search space.\n",
      "[W 2025-07-13 12:26:04,835] Use `RandomSampler` for etrees_min_samples_split due to dynamic search space.\n",
      "[I 2025-07-13 12:26:04,857] Trial 172 finished with value: 0.47907878904301104 and parameters: {'classifier': 'etrees', 'etrees_n_estimators': 101, 'etrees_max_depth': 13, 'etrees_min_samples_split': 2}. Best is trial 34 with value: 0.5770126051495345.\n",
      "[W 2025-07-13 12:26:04,863] Use `RandomSampler` for etrees_n_estimators due to dynamic search space.\n",
      "[W 2025-07-13 12:26:04,868] Use `RandomSampler` for etrees_max_depth due to dynamic search space.\n",
      "[W 2025-07-13 12:26:04,872] Use `RandomSampler` for etrees_min_samples_split due to dynamic search space.\n",
      "[W 2025-07-13 12:26:04,878] Use `RandomSampler` for rf_n_estimators due to dynamic search space.\n",
      "[W 2025-07-13 12:26:04,880] Use `RandomSampler` for rf_max_depth due to dynamic search space.\n",
      "[W 2025-07-13 12:26:04,881] Use `RandomSampler` for rf_min_samples_split due to dynamic search space.\n",
      "[W 2025-07-13 12:26:04,888] Use `RandomSampler` for lr_C due to dynamic search space.\n",
      "[W 2025-07-13 12:26:04,928] Use `RandomSampler` for etrees_n_estimators due to dynamic search space.\n",
      "[W 2025-07-13 12:26:04,929] Use `RandomSampler` for etrees_max_depth due to dynamic search space.\n",
      "[W 2025-07-13 12:26:04,929] Use `RandomSampler` for etrees_min_samples_split due to dynamic search space.\n",
      "[W 2025-07-13 12:26:04,988] Use `RandomSampler` for rf_n_estimators due to dynamic search space.\n",
      "[W 2025-07-13 12:26:04,989] Use `RandomSampler` for etrees_n_estimators due to dynamic search space.\n",
      "[W 2025-07-13 12:26:04,990] Use `RandomSampler` for rf_max_depth due to dynamic search space.\n",
      "[W 2025-07-13 12:26:05,025] Use `RandomSampler` for etrees_max_depth due to dynamic search space.\n",
      "[W 2025-07-13 12:26:05,026] Use `RandomSampler` for rf_n_estimators due to dynamic search space.\n",
      "[W 2025-07-13 12:26:05,026] Use `RandomSampler` for rf_min_samples_split due to dynamic search space.\n",
      "[W 2025-07-13 12:26:05,027] Use `RandomSampler` for etrees_min_samples_split due to dynamic search space.\n",
      "[W 2025-07-13 12:26:05,029] Use `RandomSampler` for rf_max_depth due to dynamic search space.\n",
      "[I 2025-07-13 12:26:05,051] Trial 165 finished with value: 0.4304464057484633 and parameters: {'classifier': 'etrees', 'etrees_n_estimators': 80, 'etrees_max_depth': 10, 'etrees_min_samples_split': 6}. Best is trial 34 with value: 0.5770126051495345.\n",
      "[W 2025-07-13 12:26:05,073] Use `RandomSampler` for rf_min_samples_split due to dynamic search space.\n",
      "[W 2025-07-13 12:26:05,166] Use `RandomSampler` for sgd_loss due to dynamic search space.\n",
      "[W 2025-07-13 12:26:05,167] Use `RandomSampler` for sgd_alpha due to dynamic search space.\n",
      "[W 2025-07-13 12:26:05,171] Use `RandomSampler` for rf_n_estimators due to dynamic search space.\n",
      "[W 2025-07-13 12:26:05,173] Use `RandomSampler` for rf_max_depth due to dynamic search space.\n",
      "[W 2025-07-13 12:26:05,176] Use `RandomSampler` for rf_n_estimators due to dynamic search space.\n",
      "[W 2025-07-13 12:26:05,178] Use `RandomSampler` for rf_min_samples_split due to dynamic search space.\n",
      "[W 2025-07-13 12:26:05,184] Use `RandomSampler` for rf_max_depth due to dynamic search space.\n",
      "[W 2025-07-13 12:26:05,189] Use `RandomSampler` for rf_min_samples_split due to dynamic search space.\n",
      "[W 2025-07-13 12:26:05,229] Use `RandomSampler` for rf_n_estimators due to dynamic search space.\n",
      "[W 2025-07-13 12:26:05,231] Use `RandomSampler` for rf_max_depth due to dynamic search space.\n",
      "[W 2025-07-13 12:26:05,232] Use `RandomSampler` for rf_min_samples_split due to dynamic search space.\n",
      "[W 2025-07-13 12:26:05,236] Use `RandomSampler` for etrees_n_estimators due to dynamic search space.\n",
      "[W 2025-07-13 12:26:05,239] Use `RandomSampler` for etrees_max_depth due to dynamic search space.\n",
      "[W 2025-07-13 12:26:05,241] Use `RandomSampler` for etrees_min_samples_split due to dynamic search space.\n",
      "[W 2025-07-13 12:26:05,242] Use `RandomSampler` for rf_n_estimators due to dynamic search space.\n",
      "[W 2025-07-13 12:26:05,244] Use `RandomSampler` for rf_max_depth due to dynamic search space.\n",
      "[W 2025-07-13 12:26:05,245] Use `RandomSampler` for rf_min_samples_split due to dynamic search space.\n",
      "[W 2025-07-13 12:26:05,246] Use `RandomSampler` for etrees_n_estimators due to dynamic search space.\n",
      "[W 2025-07-13 12:26:05,248] Use `RandomSampler` for etrees_max_depth due to dynamic search space.\n",
      "[W 2025-07-13 12:26:05,249] Use `RandomSampler` for etrees_min_samples_split due to dynamic search space.\n",
      "[W 2025-07-13 12:26:05,250] Use `RandomSampler` for etrees_n_estimators due to dynamic search space.\n",
      "[W 2025-07-13 12:26:05,252] Use `RandomSampler` for etrees_max_depth due to dynamic search space.\n",
      "[I 2025-07-13 12:26:05,256] Trial 175 finished with value: 0.46109231685102464 and parameters: {'classifier': 'etrees', 'etrees_n_estimators': 147, 'etrees_max_depth': 4, 'etrees_min_samples_split': 5}. Best is trial 34 with value: 0.5770126051495345.\n",
      "[W 2025-07-13 12:26:05,257] Use `RandomSampler` for etrees_min_samples_split due to dynamic search space.\n",
      "[W 2025-07-13 12:26:05,258] Use `RandomSampler` for rf_n_estimators due to dynamic search space.\n",
      "[W 2025-07-13 12:26:05,264] Use `RandomSampler` for rf_max_depth due to dynamic search space.\n",
      "[W 2025-07-13 12:26:05,266] Use `RandomSampler` for rf_min_samples_split due to dynamic search space.\n",
      "[W 2025-07-13 12:26:05,278] Use `RandomSampler` for etrees_n_estimators due to dynamic search space.\n",
      "[W 2025-07-13 12:26:05,279] Use `RandomSampler` for etrees_max_depth due to dynamic search space.\n",
      "[W 2025-07-13 12:26:05,280] Use `RandomSampler` for etrees_min_samples_split due to dynamic search space.\n",
      "[W 2025-07-13 12:26:05,285] Use `RandomSampler` for etrees_n_estimators due to dynamic search space.\n",
      "[W 2025-07-13 12:26:05,286] Use `RandomSampler` for etrees_max_depth due to dynamic search space.\n",
      "[W 2025-07-13 12:26:05,286] Use `RandomSampler` for etrees_min_samples_split due to dynamic search space.\n",
      "[W 2025-07-13 12:26:05,288] Use `RandomSampler` for rf_n_estimators due to dynamic search space.\n",
      "[W 2025-07-13 12:26:05,323] Use `RandomSampler` for rf_max_depth due to dynamic search space.\n",
      "[W 2025-07-13 12:26:05,324] Use `RandomSampler` for rf_min_samples_split due to dynamic search space.\n",
      "[W 2025-07-13 12:26:05,329] Use `RandomSampler` for etrees_n_estimators due to dynamic search space.\n",
      "[W 2025-07-13 12:26:05,329] Use `RandomSampler` for etrees_max_depth due to dynamic search space.\n",
      "[W 2025-07-13 12:26:05,330] Use `RandomSampler` for etrees_min_samples_split due to dynamic search space.\n",
      "[W 2025-07-13 12:26:05,331] Use `RandomSampler` for rf_n_estimators due to dynamic search space.\n",
      "[W 2025-07-13 12:26:05,332] Use `RandomSampler` for rf_max_depth due to dynamic search space.\n",
      "[W 2025-07-13 12:26:05,333] Use `RandomSampler` for rf_min_samples_split due to dynamic search space.\n",
      "[W 2025-07-13 12:26:05,338] Use `RandomSampler` for etrees_n_estimators due to dynamic search space.\n",
      "[W 2025-07-13 12:26:05,338] Use `RandomSampler` for etrees_max_depth due to dynamic search space.\n",
      "[W 2025-07-13 12:26:05,339] Use `RandomSampler` for etrees_min_samples_split due to dynamic search space.\n",
      "[I 2025-07-13 12:26:06,782] Trial 171 finished with value: 0.4221856319611492 and parameters: {'classifier': 'rf', 'rf_n_estimators': 175, 'rf_max_depth': 12, 'rf_min_samples_split': 2}. Best is trial 34 with value: 0.5770126051495345.\n",
      "[I 2025-07-13 12:26:06,885] Trial 162 finished with value: 0.5531081731947821 and parameters: {'classifier': 'lr', 'lr_C': 0.05947428390797413}. Best is trial 34 with value: 0.5770126051495345.\n",
      "[I 2025-07-13 12:26:07,078] Trial 173 finished with value: 0.47100285856557383 and parameters: {'classifier': 'etrees', 'etrees_n_estimators': 123, 'etrees_max_depth': 20, 'etrees_min_samples_split': 5}. Best is trial 34 with value: 0.5770126051495345.\n",
      "[I 2025-07-13 12:26:08,174] Trial 191 finished with value: 0.529759775049999 and parameters: {'classifier': 'rf', 'rf_n_estimators': 132, 'rf_max_depth': 9, 'rf_min_samples_split': 9}. Best is trial 34 with value: 0.5770126051495345.\n",
      "[I 2025-07-13 12:26:08,305] Trial 164 finished with value: 0.3391193624874414 and parameters: {'classifier': 'lr', 'lr_C': 0.34602188567436976}. Best is trial 34 with value: 0.5770126051495345.\n",
      "[I 2025-07-13 12:26:08,518] Trial 177 finished with value: 0.399251859959268 and parameters: {'classifier': 'etrees', 'etrees_n_estimators': 180, 'etrees_max_depth': 6, 'etrees_min_samples_split': 5}. Best is trial 34 with value: 0.5770126051495345.\n",
      "[I 2025-07-13 12:26:09,119] Trial 214 finished with value: 0.4321716902614878 and parameters: {'classifier': 'rf', 'rf_n_estimators': 82, 'rf_max_depth': 6, 'rf_min_samples_split': 2}. Best is trial 34 with value: 0.5770126051495345.\n",
      "[I 2025-07-13 12:26:09,198] Trial 176 finished with value: 0.43924275269914137 and parameters: {'classifier': 'etrees', 'etrees_n_estimators': 58, 'etrees_max_depth': 6, 'etrees_min_samples_split': 7}. Best is trial 34 with value: 0.5770126051495345.\n",
      "[I 2025-07-13 12:26:09,358] Trial 170 finished with value: 0.3132170061955128 and parameters: {'classifier': 'lsvc', 'lsvc_C': 0.6496624789485449}. Best is trial 34 with value: 0.5770126051495345.\n",
      "[I 2025-07-13 12:26:09,657] Trial 193 finished with value: 0.5862595036833488 and parameters: {'classifier': 'etrees', 'etrees_n_estimators': 189, 'etrees_max_depth': 16, 'etrees_min_samples_split': 3}. Best is trial 193 with value: 0.5862595036833488.\n",
      "[I 2025-07-13 12:26:10,130] Trial 179 finished with value: 0.4506466424752424 and parameters: {'classifier': 'rf', 'rf_n_estimators': 56, 'rf_max_depth': 8, 'rf_min_samples_split': 4}. Best is trial 193 with value: 0.5862595036833488.\n",
      "[I 2025-07-13 12:26:10,362] Trial 208 finished with value: 0.30226882549556683 and parameters: {'classifier': 'etrees', 'etrees_n_estimators': 78, 'etrees_max_depth': 2, 'etrees_min_samples_split': 5}. Best is trial 193 with value: 0.5862595036833488.\n",
      "[I 2025-07-13 12:26:10,394] Trial 229 finished with value: 0.3770885983086307 and parameters: {'classifier': 'lr', 'lr_C': 19.86119996405593}. Best is trial 193 with value: 0.5862595036833488.\n",
      "[I 2025-07-13 12:26:10,634] Trial 174 finished with value: 0.27635594233638494 and parameters: {'classifier': 'etrees', 'etrees_n_estimators': 153, 'etrees_max_depth': 17, 'etrees_min_samples_split': 4}. Best is trial 193 with value: 0.5862595036833488.\n",
      "[I 2025-07-13 12:26:11,825] Trial 169 finished with value: 0.42350387355338537 and parameters: {'classifier': 'rf', 'rf_n_estimators': 154, 'rf_max_depth': 7, 'rf_min_samples_split': 7}. Best is trial 193 with value: 0.5862595036833488.\n",
      "[I 2025-07-13 12:26:13,070] Trial 167 finished with value: 0.5418404550895574 and parameters: {'classifier': 'rf', 'rf_n_estimators': 150, 'rf_max_depth': 14, 'rf_min_samples_split': 3}. Best is trial 193 with value: 0.5862595036833488.\n",
      "[I 2025-07-13 12:26:13,500] Trial 221 finished with value: 0.44725853118627557 and parameters: {'classifier': 'rf', 'rf_n_estimators': 94, 'rf_max_depth': 3, 'rf_min_samples_split': 8}. Best is trial 193 with value: 0.5862595036833488.\n",
      "[I 2025-07-13 12:26:13,684] Trial 212 finished with value: 0.2947922091884046 and parameters: {'classifier': 'etrees', 'etrees_n_estimators': 155, 'etrees_max_depth': 7, 'etrees_min_samples_split': 5}. Best is trial 193 with value: 0.5862595036833488.\n",
      "[I 2025-07-13 12:26:13,822] Trial 168 finished with value: 0.44747676399827424 and parameters: {'classifier': 'etrees', 'etrees_n_estimators': 146, 'etrees_max_depth': 4, 'etrees_min_samples_split': 4}. Best is trial 193 with value: 0.5862595036833488.\n",
      "[I 2025-07-13 12:26:13,974] Trial 206 finished with value: 0.5959425430414714 and parameters: {'classifier': 'etrees', 'etrees_n_estimators': 94, 'etrees_max_depth': 14, 'etrees_min_samples_split': 9}. Best is trial 206 with value: 0.5959425430414714.\n",
      "[I 2025-07-13 12:26:14,186] Trial 246 finished with value: 0.2861473208171938 and parameters: {'classifier': 'etrees', 'etrees_n_estimators': 138, 'etrees_max_depth': 15, 'etrees_min_samples_split': 9}. Best is trial 206 with value: 0.5959425430414714.\n",
      "[I 2025-07-13 12:26:14,591] Trial 204 finished with value: 0.48743093954594124 and parameters: {'classifier': 'rf', 'rf_n_estimators': 91, 'rf_max_depth': 3, 'rf_min_samples_split': 10}. Best is trial 206 with value: 0.5959425430414714.\n",
      "[I 2025-07-13 12:26:15,132] Trial 218 finished with value: 0.4422508503321157 and parameters: {'classifier': 'rf', 'rf_n_estimators': 64, 'rf_max_depth': 10, 'rf_min_samples_split': 7}. Best is trial 206 with value: 0.5959425430414714.\n",
      "[I 2025-07-13 12:26:15,355] Trial 189 finished with value: 0.5570956017102152 and parameters: {'classifier': 'etrees', 'etrees_n_estimators': 139, 'etrees_max_depth': 18, 'etrees_min_samples_split': 6}. Best is trial 206 with value: 0.5959425430414714.\n",
      "[I 2025-07-13 12:26:16,824] Trial 219 finished with value: 0.4182311262421253 and parameters: {'classifier': 'rf', 'rf_n_estimators': 174, 'rf_max_depth': 10, 'rf_min_samples_split': 2}. Best is trial 206 with value: 0.5959425430414714.\n",
      "[I 2025-07-13 12:26:16,908] Trial 252 finished with value: 0.44686782717411466 and parameters: {'classifier': 'etrees', 'etrees_n_estimators': 73, 'etrees_max_depth': 12, 'etrees_min_samples_split': 6}. Best is trial 206 with value: 0.5959425430414714.\n",
      "[I 2025-07-13 12:26:18,476] Trial 231 finished with value: 0.4366324158323032 and parameters: {'classifier': 'rf', 'rf_n_estimators': 185, 'rf_max_depth': 20, 'rf_min_samples_split': 2}. Best is trial 206 with value: 0.5959425430414714.\n",
      "[I 2025-07-13 12:26:18,675] Trial 181 finished with value: 0.47984417078463676 and parameters: {'classifier': 'etrees', 'etrees_n_estimators': 148, 'etrees_max_depth': 12, 'etrees_min_samples_split': 6}. Best is trial 206 with value: 0.5959425430414714.\n",
      "[I 2025-07-13 12:26:18,870] Trial 202 finished with value: 0.4733129340944087 and parameters: {'classifier': 'etrees', 'etrees_n_estimators': 130, 'etrees_max_depth': 12, 'etrees_min_samples_split': 6}. Best is trial 206 with value: 0.5959425430414714.\n",
      "[I 2025-07-13 12:26:19,022] Trial 166 finished with value: 0.1465774370575175 and parameters: {'classifier': 'etrees', 'etrees_n_estimators': 95, 'etrees_max_depth': 18, 'etrees_min_samples_split': 6}. Best is trial 206 with value: 0.5959425430414714.\n",
      "[I 2025-07-13 12:26:19,289] Trial 185 finished with value: 0.4784422736234723 and parameters: {'classifier': 'etrees', 'etrees_n_estimators': 170, 'etrees_max_depth': 12, 'etrees_min_samples_split': 7}. Best is trial 206 with value: 0.5959425430414714.\n",
      "[I 2025-07-13 12:26:19,462] Trial 195 finished with value: 0.5113864632481454 and parameters: {'classifier': 'etrees', 'etrees_n_estimators': 99, 'etrees_max_depth': 20, 'etrees_min_samples_split': 7}. Best is trial 206 with value: 0.5959425430414714.\n",
      "[I 2025-07-13 12:26:20,488] Trial 260 finished with value: 0.5422770291548572 and parameters: {'classifier': 'rf', 'rf_n_estimators': 179, 'rf_max_depth': 4, 'rf_min_samples_split': 7}. Best is trial 206 with value: 0.5959425430414714.\n",
      "[I 2025-07-13 12:26:22,028] Trial 207 finished with value: 0.4161556638137514 and parameters: {'classifier': 'rf', 'rf_n_estimators': 177, 'rf_max_depth': 15, 'rf_min_samples_split': 2}. Best is trial 206 with value: 0.5959425430414714.\n",
      "[I 2025-07-13 12:26:22,232] Trial 197 finished with value: 0.29606550278897653 and parameters: {'classifier': 'etrees', 'etrees_n_estimators': 149, 'etrees_max_depth': 14, 'etrees_min_samples_split': 10}. Best is trial 206 with value: 0.5959425430414714.\n",
      "[I 2025-07-13 12:26:22,522] Trial 211 finished with value: 0.4792144048609898 and parameters: {'classifier': 'etrees', 'etrees_n_estimators': 165, 'etrees_max_depth': 20, 'etrees_min_samples_split': 7}. Best is trial 206 with value: 0.5959425430414714.\n",
      "[I 2025-07-13 12:26:22,810] Trial 199 finished with value: 0.291460508085903 and parameters: {'classifier': 'rf', 'rf_n_estimators': 77, 'rf_max_depth': 2, 'rf_min_samples_split': 6}. Best is trial 206 with value: 0.5959425430414714.\n",
      "[I 2025-07-13 12:26:23,390] Trial 201 finished with value: 0.4021117556828213 and parameters: {'classifier': 'rf', 'rf_n_estimators': 72, 'rf_max_depth': 7, 'rf_min_samples_split': 3}. Best is trial 206 with value: 0.5959425430414714.\n",
      "[I 2025-07-13 12:26:23,756] Trial 216 finished with value: 0.5005647004922105 and parameters: {'classifier': 'rf', 'rf_n_estimators': 105, 'rf_max_depth': 2, 'rf_min_samples_split': 3}. Best is trial 206 with value: 0.5959425430414714.\n",
      "[I 2025-07-13 12:26:25,014] Trial 222 finished with value: 0.41468375025422005 and parameters: {'classifier': 'etrees', 'etrees_n_estimators': 91, 'etrees_max_depth': 4, 'etrees_min_samples_split': 2}. Best is trial 206 with value: 0.5959425430414714.\n",
      "[I 2025-07-13 12:26:25,211] Trial 220 finished with value: 0.44529399018907867 and parameters: {'classifier': 'rf', 'rf_n_estimators': 171, 'rf_max_depth': 11, 'rf_min_samples_split': 9}. Best is trial 206 with value: 0.5959425430414714.\n",
      "[I 2025-07-13 12:26:25,275] Trial 232 finished with value: 0.33154745437155664 and parameters: {'classifier': 'etrees', 'etrees_n_estimators': 89, 'etrees_max_depth': 9, 'etrees_min_samples_split': 10}. Best is trial 206 with value: 0.5959425430414714.\n",
      "[I 2025-07-13 12:26:25,976] Trial 210 finished with value: 0.4333399168658753 and parameters: {'classifier': 'rf', 'rf_n_estimators': 85, 'rf_max_depth': 15, 'rf_min_samples_split': 2}. Best is trial 206 with value: 0.5959425430414714.\n",
      "[I 2025-07-13 12:26:26,145] Trial 183 finished with value: 0.41054126458021684 and parameters: {'classifier': 'etrees', 'etrees_n_estimators': 143, 'etrees_max_depth': 6, 'etrees_min_samples_split': 6}. Best is trial 206 with value: 0.5959425430414714.\n",
      "[I 2025-07-13 12:26:26,325] Trial 236 finished with value: 0.4751212433650284 and parameters: {'classifier': 'etrees', 'etrees_n_estimators': 121, 'etrees_max_depth': 9, 'etrees_min_samples_split': 4}. Best is trial 206 with value: 0.5959425430414714.\n",
      "[I 2025-07-13 12:26:27,024] Trial 180 finished with value: 0.5224373281689593 and parameters: {'classifier': 'rf', 'rf_n_estimators': 80, 'rf_max_depth': 17, 'rf_min_samples_split': 3}. Best is trial 206 with value: 0.5959425430414714.\n",
      "[I 2025-07-13 12:26:27,445] Trial 188 finished with value: 0.42967923330410857 and parameters: {'classifier': 'rf', 'rf_n_estimators': 59, 'rf_max_depth': 6, 'rf_min_samples_split': 8}. Best is trial 206 with value: 0.5959425430414714.\n",
      "[I 2025-07-13 12:26:27,650] Trial 256 finished with value: 0.5572856617621555 and parameters: {'classifier': 'lr', 'lr_C': 32.92095519610386}. Best is trial 206 with value: 0.5959425430414714.\n",
      "[I 2025-07-13 12:26:27,878] Trial 190 finished with value: 0.38227399369760945 and parameters: {'classifier': 'lsvc', 'lsvc_C': 12.31986326046605}. Best is trial 206 with value: 0.5959425430414714.\n",
      "[I 2025-07-13 12:26:28,003] Trial 254 finished with value: 0.2900919305413688 and parameters: {'classifier': 'etrees', 'etrees_n_estimators': 77, 'etrees_max_depth': 13, 'etrees_min_samples_split': 8}. Best is trial 206 with value: 0.5959425430414714.\n",
      "[I 2025-07-13 12:26:28,165] Trial 248 finished with value: 0.3612513842746401 and parameters: {'classifier': 'lr', 'lr_C': 0.4344626447362107}. Best is trial 206 with value: 0.5959425430414714.\n",
      "[I 2025-07-13 12:26:28,205] Trial 241 finished with value: 0.5357378253929977 and parameters: {'classifier': 'lr', 'lr_C': 0.009095539113524597}. Best is trial 206 with value: 0.5959425430414714.\n",
      "[I 2025-07-13 12:26:28,306] Trial 226 finished with value: 0.4662540615021998 and parameters: {'classifier': 'etrees', 'etrees_n_estimators': 54, 'etrees_max_depth': 11, 'etrees_min_samples_split': 6}. Best is trial 206 with value: 0.5959425430414714.\n",
      "[I 2025-07-13 12:26:28,629] Trial 237 finished with value: 0.4986116551333943 and parameters: {'classifier': 'rf', 'rf_n_estimators': 74, 'rf_max_depth': 3, 'rf_min_samples_split': 3}. Best is trial 206 with value: 0.5959425430414714.\n",
      "[I 2025-07-13 12:26:30,134] Trial 196 finished with value: 0.4499158875495297 and parameters: {'classifier': 'rf', 'rf_n_estimators': 192, 'rf_max_depth': 7, 'rf_min_samples_split': 2}. Best is trial 206 with value: 0.5959425430414714.\n",
      "[I 2025-07-13 12:26:30,325] Trial 192 finished with value: 0.2642902740058142 and parameters: {'classifier': 'etrees', 'etrees_n_estimators': 116, 'etrees_max_depth': 18, 'etrees_min_samples_split': 10}. Best is trial 206 with value: 0.5959425430414714.\n",
      "[I 2025-07-13 12:26:30,527] Trial 223 finished with value: 0.37234759988266575 and parameters: {'classifier': 'lr', 'lr_C': 5.6193915861709005}. Best is trial 206 with value: 0.5959425430414714.\n",
      "[I 2025-07-13 12:26:30,768] Trial 253 finished with value: 0.5717797785609865 and parameters: {'classifier': 'etrees', 'etrees_n_estimators': 144, 'etrees_max_depth': 17, 'etrees_min_samples_split': 8}. Best is trial 206 with value: 0.5959425430414714.\n",
      "[I 2025-07-13 12:26:32,298] Trial 225 finished with value: 0.4279468574114194 and parameters: {'classifier': 'rf', 'rf_n_estimators': 181, 'rf_max_depth': 18, 'rf_min_samples_split': 6}. Best is trial 206 with value: 0.5959425430414714.\n",
      "[I 2025-07-13 12:26:32,785] Trial 228 finished with value: 0.5223255333436644 and parameters: {'classifier': 'rf', 'rf_n_estimators': 54, 'rf_max_depth': 20, 'rf_min_samples_split': 4}. Best is trial 206 with value: 0.5959425430414714.\n",
      "[I 2025-07-13 12:26:33,459] Trial 186 finished with value: 0.4258209076878443 and parameters: {'classifier': 'rf', 'rf_n_estimators': 82, 'rf_max_depth': 11, 'rf_min_samples_split': 9}. Best is trial 206 with value: 0.5959425430414714.\n",
      "[I 2025-07-13 12:26:34,490] Trial 215 finished with value: 0.49465824529317093 and parameters: {'classifier': 'rf', 'rf_n_estimators': 191, 'rf_max_depth': 4, 'rf_min_samples_split': 5}. Best is trial 206 with value: 0.5959425430414714.\n",
      "[I 2025-07-13 12:26:35,054] Trial 234 finished with value: 0.4134024703176313 and parameters: {'classifier': 'rf', 'rf_n_estimators': 76, 'rf_max_depth': 9, 'rf_min_samples_split': 10}. Best is trial 206 with value: 0.5959425430414714.\n",
      "[I 2025-07-13 12:26:36,486] Trial 178 finished with value: 0.4663315406658369 and parameters: {'classifier': 'rf', 'rf_n_estimators': 188, 'rf_max_depth': 6, 'rf_min_samples_split': 2}. Best is trial 206 with value: 0.5959425430414714.\n",
      "[I 2025-07-13 12:26:37,391] Trial 245 finished with value: 0.5071335995393843 and parameters: {'classifier': 'rf', 'rf_n_estimators': 108, 'rf_max_depth': 8, 'rf_min_samples_split': 8}. Best is trial 206 with value: 0.5959425430414714.\n",
      "[I 2025-07-13 12:26:37,994] Trial 255 finished with value: 0.5396928205977898 and parameters: {'classifier': 'rf', 'rf_n_estimators': 74, 'rf_max_depth': 8, 'rf_min_samples_split': 8}. Best is trial 206 with value: 0.5959425430414714.\n",
      "[I 2025-07-13 12:26:38,557] Trial 230 finished with value: 0.4645933061892444 and parameters: {'classifier': 'etrees', 'etrees_n_estimators': 79, 'etrees_max_depth': 9, 'etrees_min_samples_split': 9}. Best is trial 206 with value: 0.5959425430414714.\n",
      "[I 2025-07-13 12:26:38,670] Trial 209 finished with value: 0.5133115808388896 and parameters: {'classifier': 'rf', 'rf_n_estimators': 76, 'rf_max_depth': 17, 'rf_min_samples_split': 6}. Best is trial 206 with value: 0.5959425430414714.\n",
      "[I 2025-07-13 12:26:39,473] Trial 205 finished with value: 0.31591457052754857 and parameters: {'classifier': 'etrees', 'etrees_n_estimators': 71, 'etrees_max_depth': 3, 'etrees_min_samples_split': 4}. Best is trial 206 with value: 0.5959425430414714.\n",
      "[I 2025-07-13 12:26:39,546] Trial 184 finished with value: 0.4342163296041308 and parameters: {'classifier': 'rf', 'rf_n_estimators': 98, 'rf_max_depth': 20, 'rf_min_samples_split': 7}. Best is trial 206 with value: 0.5959425430414714.\n",
      "[I 2025-07-13 12:26:40,610] Trial 235 finished with value: 0.4681239496793728 and parameters: {'classifier': 'rf', 'rf_n_estimators': 135, 'rf_max_depth': 9, 'rf_min_samples_split': 2}. Best is trial 206 with value: 0.5959425430414714.\n",
      "[I 2025-07-13 12:26:41,890] Trial 244 finished with value: 0.43826397328974753 and parameters: {'classifier': 'rf', 'rf_n_estimators': 147, 'rf_max_depth': 18, 'rf_min_samples_split': 3}. Best is trial 206 with value: 0.5959425430414714.\n",
      "[I 2025-07-13 12:26:41,911] Trial 203 finished with value: 0.4949652584931557 and parameters: {'classifier': 'etrees', 'etrees_n_estimators': 58, 'etrees_max_depth': 16, 'etrees_min_samples_split': 6}. Best is trial 206 with value: 0.5959425430414714.\n",
      "[I 2025-07-13 12:26:42,196] Trial 233 finished with value: 0.4808329961726449 and parameters: {'classifier': 'etrees', 'etrees_n_estimators': 195, 'etrees_max_depth': 10, 'etrees_min_samples_split': 9}. Best is trial 206 with value: 0.5959425430414714.\n",
      "[I 2025-07-13 12:26:42,987] Trial 239 finished with value: 0.4241984835840576 and parameters: {'classifier': 'rf', 'rf_n_estimators': 90, 'rf_max_depth': 20, 'rf_min_samples_split': 6}. Best is trial 206 with value: 0.5959425430414714.\n",
      "[I 2025-07-13 12:26:43,135] Trial 247 finished with value: 0.5645185391769012 and parameters: {'classifier': 'lr', 'lr_C': 0.6059148406466353}. Best is trial 206 with value: 0.5959425430414714.\n",
      "[I 2025-07-13 12:26:43,279] Trial 213 finished with value: 0.30641354152203276 and parameters: {'classifier': 'etrees', 'etrees_n_estimators': 136, 'etrees_max_depth': 5, 'etrees_min_samples_split': 4}. Best is trial 206 with value: 0.5959425430414714.\n",
      "[I 2025-07-13 12:26:44,636] Trial 238 finished with value: 0.4503649267849918 and parameters: {'classifier': 'rf', 'rf_n_estimators': 162, 'rf_max_depth': 14, 'rf_min_samples_split': 5}. Best is trial 206 with value: 0.5959425430414714.\n",
      "[I 2025-07-13 12:26:44,730] Trial 182 finished with value: 0.49713252973714955 and parameters: {'classifier': 'etrees', 'etrees_n_estimators': 88, 'etrees_max_depth': 15, 'etrees_min_samples_split': 7}. Best is trial 206 with value: 0.5959425430414714.\n",
      "[I 2025-07-13 12:26:46,144] Trial 251 finished with value: 0.434833362360391 and parameters: {'classifier': 'rf', 'rf_n_estimators': 173, 'rf_max_depth': 17, 'rf_min_samples_split': 10}. Best is trial 206 with value: 0.5959425430414714.\n",
      "[I 2025-07-13 12:26:46,235] Trial 240 finished with value: 0.3981109341540958 and parameters: {'classifier': 'sgd', 'sgd_loss': 'log_loss', 'sgd_alpha': 0.0048766693084794}. Best is trial 206 with value: 0.5959425430414714.\n",
      "[I 2025-07-13 12:26:46,680] Trial 258 finished with value: 0.42395246012993454 and parameters: {'classifier': 'rf', 'rf_n_estimators': 57, 'rf_max_depth': 7, 'rf_min_samples_split': 9}. Best is trial 206 with value: 0.5959425430414714.\n",
      "[I 2025-07-13 12:26:48,193] Trial 200 finished with value: 0.42737717494427874 and parameters: {'classifier': 'rf', 'rf_n_estimators': 176, 'rf_max_depth': 20, 'rf_min_samples_split': 3}. Best is trial 206 with value: 0.5959425430414714.\n",
      "[I 2025-07-13 12:26:48,949] Trial 187 finished with value: 0.43106443418321877 and parameters: {'classifier': 'rf', 'rf_n_estimators': 89, 'rf_max_depth': 19, 'rf_min_samples_split': 3}. Best is trial 206 with value: 0.5959425430414714.\n",
      "[I 2025-07-13 12:26:48,989] Trial 198 finished with value: 0.28252801268271605 and parameters: {'classifier': 'etrees', 'etrees_n_estimators': 85, 'etrees_max_depth': 15, 'etrees_min_samples_split': 6}. Best is trial 206 with value: 0.5959425430414714.\n",
      "[I 2025-07-13 12:26:49,657] Trial 259 finished with value: 0.49402010919412714 and parameters: {'classifier': 'rf', 'rf_n_estimators': 145, 'rf_max_depth': 3, 'rf_min_samples_split': 3}. Best is trial 206 with value: 0.5959425430414714.\n",
      "[I 2025-07-13 12:26:49,854] Trial 249 finished with value: 0.45947442759288587 and parameters: {'classifier': 'etrees', 'etrees_n_estimators': 127, 'etrees_max_depth': 10, 'etrees_min_samples_split': 3}. Best is trial 206 with value: 0.5959425430414714.\n",
      "[I 2025-07-13 12:26:50,016] Trial 194 finished with value: 0.5524268251441642 and parameters: {'classifier': 'etrees', 'etrees_n_estimators': 97, 'etrees_max_depth': 16, 'etrees_min_samples_split': 9}. Best is trial 206 with value: 0.5959425430414714.\n",
      "[I 2025-07-13 12:26:51,057] Trial 250 finished with value: 0.46974209409499235 and parameters: {'classifier': 'etrees', 'etrees_n_estimators': 84, 'etrees_max_depth': 8, 'etrees_min_samples_split': 4}. Best is trial 206 with value: 0.5959425430414714.\n",
      "[I 2025-07-13 12:26:51,079] Trial 227 finished with value: 0.4271650606015931 and parameters: {'classifier': 'rf', 'rf_n_estimators': 122, 'rf_max_depth': 20, 'rf_min_samples_split': 10}. Best is trial 206 with value: 0.5959425430414714.\n",
      "[I 2025-07-13 12:26:51,283] Trial 224 finished with value: 0.48201210424316737 and parameters: {'classifier': 'etrees', 'etrees_n_estimators': 159, 'etrees_max_depth': 7, 'etrees_min_samples_split': 2}. Best is trial 206 with value: 0.5959425430414714.\n",
      "[I 2025-07-13 12:26:51,613] Trial 257 finished with value: 0.5031308457755856 and parameters: {'classifier': 'rf', 'rf_n_estimators': 100, 'rf_max_depth': 2, 'rf_min_samples_split': 5}. Best is trial 206 with value: 0.5959425430414714.\n",
      "[I 2025-07-13 12:26:51,707] Trial 242 finished with value: 0.5463498540825299 and parameters: {'classifier': 'etrees', 'etrees_n_estimators': 50, 'etrees_max_depth': 16, 'etrees_min_samples_split': 2}. Best is trial 206 with value: 0.5959425430414714.\n",
      "[I 2025-07-13 12:26:52,864] Trial 217 finished with value: 0.5152285724750288 and parameters: {'classifier': 'rf', 'rf_n_estimators': 134, 'rf_max_depth': 14, 'rf_min_samples_split': 2}. Best is trial 206 with value: 0.5959425430414714.\n",
      "[I 2025-07-13 12:26:53,015] Trial 243 finished with value: 0.40916598710270896 and parameters: {'classifier': 'etrees', 'etrees_n_estimators': 93, 'etrees_max_depth': 16, 'etrees_min_samples_split': 10}. Best is trial 206 with value: 0.5959425430414714.\n"
     ]
    }
   ],
   "source": [
    "import optuna\n",
    "import optunahub\n",
    "from sklearn.model_selection import cross_val_score\n",
    "from sklearn.metrics import f1_score\n",
    "from sklearn.pipeline import make_pipeline\n",
    "from sklearn.preprocessing import RobustScaler\n",
    "from sklearn.linear_model import (\n",
    "    LogisticRegression, RidgeClassifier, SGDClassifier, PassiveAggressiveClassifier, Perceptron\n",
    ")\n",
    "from sklearn.svm import SVC, LinearSVC\n",
    "from sklearn.tree import DecisionTreeClassifier, ExtraTreeClassifier\n",
    "from sklearn.ensemble import RandomForestClassifier, ExtraTreesClassifier\n",
    "from sklearn.utils import all_estimators\n",
    "import timeout_decorator\n",
    "import random\n",
    "\n",
    "\n",
    "\n",
    "\n",
    "#@timeout_decorator.timeout(30, timeout_exception=optuna.TrialPruned, use_signals=True)\n",
    "def cross_val_score_to(clf,X,y,cv=None, groups=None, scoring=None):\n",
    "    cross_val_score(clf,X,y,cv=cv, groups=groups, scoring=scoring)\n",
    "\n",
    "clfs={\n",
    "        \"lr\": LogisticRegression,\n",
    "        \"ridge\": RidgeClassifier,\n",
    "        \"sgd\": SGDClassifier,\n",
    "        \"lsvc\": LinearSVC,\n",
    "        \"svc\": SVC,\n",
    "        \"pac\": PassiveAggressiveClassifier,\n",
    "        \"perc\": Perceptron,\n",
    "        \"dt\": DecisionTreeClassifier,\n",
    "        \"et\": ExtraTreeClassifier,\n",
    "        \"rf\":RandomForestClassifier,\n",
    "        \"etrees\":ExtraTreesClassifier,\n",
    "     }\n",
    "\n",
    "def objective(trial):\n",
    "    from sklearn.datasets import load_iris  # replace with your data\n",
    "\n",
    "    model_name = trial.suggest_categorical(\"classifier\", clfs.keys())\n",
    "\n",
    "    if model_name == \"lr\":\n",
    "        clf = LogisticRegression(\n",
    "            C=trial.suggest_float(\"lr_C\", 1e-3, 100, log=True),\n",
    "            solver=\"liblinear\"\n",
    "        )\n",
    "    elif model_name == \"ridge\":\n",
    "        clf = RidgeClassifier(\n",
    "            alpha=trial.suggest_float(\"ridge_alpha\", 1e-3, 10, log=True)\n",
    "        )\n",
    "    elif model_name == \"sgd\":\n",
    "        clf = SGDClassifier(\n",
    "            loss=trial.suggest_categorical(\"sgd_loss\", [\"hinge\", \"log_loss\"]),\n",
    "            alpha=trial.suggest_float(\"sgd_alpha\", 1e-5, 1e-1, log=True),\n",
    "            max_iter=1000,\n",
    "            tol=1e-3\n",
    "        )\n",
    "    elif model_name == \"lsvc\":\n",
    "        clf = LinearSVC(\n",
    "            C=trial.suggest_float(\"lsvc_C\", 1e-3, 100, log=True),\n",
    "            max_iter=100\n",
    "        )\n",
    "    elif model_name == \"svc\":\n",
    "        clf = SVC(\n",
    "            C=trial.suggest_float(\"svc_C\", 1e-3, 100, log=True),\n",
    "            kernel=trial.suggest_categorical(\"svc_kernel\", [\"linear\", \"rbf\"]),\n",
    "            gamma=trial.suggest_categorical(\"svc_gamma\", [\"scale\", \"auto\"]),\n",
    "            max_iter=100\n",
    "        )\n",
    "    elif model_name == \"pac\":\n",
    "        clf = PassiveAggressiveClassifier(\n",
    "            C=trial.suggest_float(\"pac_C\", 1e-3, 10, log=True)\n",
    "        )\n",
    "    elif model_name == \"perc\":\n",
    "        clf = Perceptron(\n",
    "            alpha=trial.suggest_float(\"perc_alpha\", 1e-5, 1e-1, log=True),\n",
    "            max_iter=1000\n",
    "        )\n",
    "    elif model_name == \"dt\":\n",
    "        clf = DecisionTreeClassifier(\n",
    "            max_depth=trial.suggest_int(\"dt_max_depth\", 2, 20),\n",
    "            min_samples_split=trial.suggest_int(\"dt_min_samples_split\", 2, 10)\n",
    "        )\n",
    "    elif model_name == \"et\":\n",
    "        clf = ExtraTreeClassifier(\n",
    "            max_depth=trial.suggest_int(\"et_max_depth\", 2, 20),\n",
    "            min_samples_split=trial.suggest_int(\"et_min_samples_split\", 2, 10)\n",
    "        )\n",
    "    elif model_name == \"rf\":\n",
    "        clf = RandomForestClassifier(\n",
    "            n_estimators=trial.suggest_int(\"rf_n_estimators\", 50, 200),\n",
    "            max_depth=trial.suggest_int(\"rf_max_depth\", 2, 20),\n",
    "            min_samples_split=trial.suggest_int(\"rf_min_samples_split\", 2, 10)\n",
    "        )\n",
    "    elif model_name == \"etrees\":\n",
    "        clf = ExtraTreesClassifier(\n",
    "            n_estimators=trial.suggest_int(\"etrees_n_estimators\", 50, 200),\n",
    "            max_depth=trial.suggest_int(\"etrees_max_depth\", 2, 20),\n",
    "            min_samples_split=trial.suggest_int(\"etrees_min_samples_split\", 2, 10)\n",
    "        )\n",
    "    else:\n",
    "        raise ValueError(f\"Unsupported model: {model_name}\")\n",
    "\n",
    "    # Pipeline with scaling (important for linear models and SVMs)\n",
    "    pipeline = make_pipeline(RobustScaler(), clf)\n",
    "    #return cross_val_score(clf,X,y,cv=cv, groups=groups, scoring=\"f1_macro\").mean()\n",
    "\n",
    "    def evaluate_model(split):\n",
    "        train_idx, test_idx = split\n",
    "        pipeline.fit(X.iloc[train_idx], y.iloc[train_idx])\n",
    "        y_pred = pipeline.predict(X.iloc[test_idx])\n",
    "        return f1_score(y.iloc[test_idx], y_pred, average='macro')\n",
    "    \n",
    "    ssplits = random.sample(splits, 3)\n",
    "    # Run the evaluation 3 times in parallel\n",
    "    return np.median(Parallel(n_jobs=3)(delayed(evaluate_model)(split) for split in ssplits))\n",
    "\n",
    "module = optunahub.load_module(\"samplers/hebo\")\n",
    "sampler = module.HEBOSampler()\n",
    "\n",
    "study= optuna.study.create_study(sampler= sampler, direction=\"maximize\")\n",
    "study.optimize(objective,n_trials=500, n_jobs=-1, timeout=60, show_progress_bar=True)"
   ]
  },
  {
   "cell_type": "code",
   "execution_count": 50,
   "id": "4a0dc633-cc58-4be5-a12f-ae444c8b0efd",
   "metadata": {},
   "outputs": [
    {
     "name": "stderr",
     "output_type": "stream",
     "text": [
      "[W 2025-07-13 12:30:19,514] Use `RandomSampler` for dt_max_depth due to dynamic search space.\n",
      "[W 2025-07-13 12:30:19,514] Use `RandomSampler` for dt_min_samples_split due to dynamic search space.\n"
     ]
    },
    {
     "data": {
      "text/plain": [
       "(0.5532564364242776,\n",
       " {'classifier': 'dt', 'dt_max_depth': 2, 'dt_min_samples_split': 7})"
      ]
     },
     "execution_count": 50,
     "metadata": {},
     "output_type": "execute_result"
    }
   ],
   "source": [
    "trial=study.ask()\n",
    "\n",
    "(objective(trial),trial.params)"
   ]
  },
  {
   "cell_type": "code",
   "execution_count": 51,
   "id": "0f353e2d-ec8f-40dd-8bcb-92e5058d9282",
   "metadata": {},
   "outputs": [
    {
     "data": {
      "text/html": [
       "        <script type=\"text/javascript\">\n",
       "        window.PlotlyConfig = {MathJaxConfig: 'local'};\n",
       "        if (window.MathJax && window.MathJax.Hub && window.MathJax.Hub.Config) {window.MathJax.Hub.Config({SVG: {font: \"STIX-Web\"}});}\n",
       "        </script>\n",
       "        <script type=\"module\">import \"https://cdn.plot.ly/plotly-3.0.1.min\"</script>\n",
       "        "
      ]
     },
     "metadata": {},
     "output_type": "display_data"
    }
   ],
   "source": [
    "from plotly.offline import init_notebook_mode\n",
    "\n",
    "init_notebook_mode(connected=True)  \n"
   ]
  },
  {
   "cell_type": "code",
   "execution_count": 52,
   "id": "d216ef4d-abba-40e1-9c6a-9ac4168b9f6a",
   "metadata": {},
   "outputs": [
    {
     "data": {
      "application/vnd.plotly.v1+json": {
       "config": {
        "plotlyServerURL": "https://plot.ly"
       },
       "data": [
        {
         "mode": "markers",
         "name": "Objective Value",
         "type": "scatter",
         "x": [
          0,
          1,
          2,
          3,
          4,
          5,
          6,
          7,
          8,
          9,
          10,
          11,
          12,
          13,
          14,
          15,
          16,
          17,
          18,
          19,
          20,
          21,
          22,
          23,
          24,
          25,
          26,
          27,
          28,
          29,
          30,
          31,
          32,
          33,
          34,
          35,
          36,
          37,
          38,
          39,
          40,
          41,
          42,
          43,
          44,
          45,
          46,
          47,
          48,
          49,
          50,
          51,
          52,
          53,
          54,
          55,
          56,
          57,
          58,
          59,
          60,
          61,
          62,
          63,
          64,
          65,
          66,
          67,
          68,
          69,
          70,
          71,
          72,
          73,
          74,
          75,
          76,
          77,
          78,
          79,
          80,
          81,
          82,
          83,
          84,
          85,
          86,
          87,
          88,
          89,
          90,
          91,
          92,
          93,
          94,
          95,
          96,
          97,
          98,
          99,
          100,
          101,
          102,
          103,
          104,
          105,
          106,
          107,
          108,
          109,
          110,
          111,
          112,
          113,
          114,
          115,
          116,
          117,
          118,
          119,
          120,
          121,
          122,
          123,
          124,
          125,
          126,
          127,
          128,
          129,
          130,
          131,
          132,
          133,
          134,
          135,
          136,
          137,
          138,
          139,
          140,
          141,
          142,
          143,
          144,
          145,
          146,
          147,
          148,
          149,
          150,
          151,
          152,
          153,
          154,
          155,
          156,
          157,
          158,
          159,
          160,
          161,
          162,
          163,
          164,
          165,
          166,
          167,
          168,
          169,
          170,
          171,
          172,
          173,
          174,
          175,
          176,
          177,
          178,
          179,
          180,
          181,
          182,
          183,
          184,
          185,
          186,
          187,
          188,
          189,
          190,
          191,
          192,
          193,
          194,
          195,
          196,
          197,
          198,
          199,
          200,
          201,
          202,
          203,
          204,
          205,
          206,
          207,
          208,
          209,
          210,
          211,
          212,
          213,
          214,
          215,
          216,
          217,
          218,
          219,
          220,
          221,
          222,
          223,
          224,
          225,
          226,
          227,
          228,
          229,
          230,
          231,
          232,
          233,
          234,
          235,
          236,
          237,
          238,
          239,
          240,
          241,
          242,
          243,
          244,
          245,
          246,
          247,
          248,
          249,
          250,
          251,
          252,
          253,
          254,
          255,
          256,
          257,
          258,
          259,
          260
         ],
         "y": [
          0.44549891080091747,
          0.35031385504658946,
          0.49396005931974357,
          0.29920526959819943,
          0.4030942291464748,
          0.42927132822649666,
          0.2871287685972645,
          0.3754183922754027,
          0.40696826252968793,
          0.44349857432409223,
          0.27844311508216957,
          0.3760624757302498,
          0.44371507386589526,
          0.5372205358262888,
          0.4344301084807678,
          0.4661278797558235,
          0.3994760337943208,
          0.4070902070902071,
          0.3228407808592811,
          0.21933143354119208,
          0.3760624757302498,
          0.12762499856948306,
          0.5361292649888375,
          0.30736750844559557,
          0.46797395379702206,
          0.5642738351908542,
          0.5155909484212534,
          0.4160304627629174,
          0.3876198723698761,
          0.3776033900519471,
          0.5649667166538633,
          0.44614865798711884,
          0.35325684380808103,
          0.5250775926964296,
          0.5770126051495345,
          0.4685798864277733,
          0.35326930965775905,
          0.2871287685972645,
          0.19507680918008516,
          0.5207773839392558,
          0.3450963595312837,
          0.2871287685972645,
          0.43794946578135313,
          0.3942182517722086,
          0.2871287685972645,
          0.37668804839274,
          0.4591306749923271,
          0.3775771151633729,
          0.22188003166167858,
          0.47750471812118506,
          0.5766433499397876,
          0.5573455084304538,
          0.36176719078273484,
          0.39930631371189057,
          0.4070902070902071,
          0.44078488264819127,
          0.4660478304795803,
          0.5280030015073942,
          0.4070902070902071,
          0.2871287685972645,
          0.5250273025118312,
          0.3760624757302498,
          0.4240184793854829,
          0.3702731516824595,
          0.43761600395558736,
          0.01742482142787849,
          0.33087160105470637,
          0.3510344627076684,
          0.5076396050401243,
          0.5205362641828098,
          0.5170672239637757,
          0.3994760337943208,
          0.38544079621676136,
          0.4417316175568306,
          0.2871287685972645,
          0.41226956799941966,
          0.3442058009713434,
          0.5423755049646997,
          0.4333399168658753,
          0.4302778677695638,
          0.4110292547512278,
          0.30712306184570054,
          0.26958532781664707,
          0.3250636005876336,
          0.3760624757302498,
          0.39635098662650936,
          0.3760624757302498,
          0.39727632467128265,
          0.545996874436497,
          0.500986203448241,
          0.059045008066071776,
          0.31259834508821543,
          0.4070902070902071,
          0.3682115931281671,
          0.4315535977812332,
          0.33626803677830325,
          0.3770091660579067,
          0.5586263512189439,
          0.47354619156077815,
          0.2871287685972645,
          0.2871287685972645,
          0.3167748238634314,
          0.3172168894221689,
          0.11649831649831649,
          0.44000602694907226,
          0.5484976809840694,
          0.4040785146182119,
          0.46290169729077785,
          0.39760734284802624,
          0.37489345944876024,
          0.4629767662713398,
          0.4909205222884758,
          0.4070902070902071,
          0.2871287685972645,
          0.4042937340474188,
          0.3896340617032313,
          0.4773826752923392,
          0.4312083903328774,
          0.4001597250103562,
          0.4223196881091618,
          0.3095019427764041,
          0.2949640287769784,
          0.004224440374849906,
          0.38927882282992093,
          0.5539859640366088,
          0.4765839693186648,
          0.43740296587978705,
          0.5149969598552594,
          0.4070902070902071,
          0.2949640287769784,
          0.4089294756318054,
          0.3579371217946068,
          0.3928132586088051,
          0.3332376133374262,
          0.49034541655551855,
          0.35831347476508774,
          0.5335852248485763,
          0.10192592592592592,
          0.4713264595295064,
          0.01742482142787849,
          0.44371507386589526,
          0.3923391139450813,
          0.5593577525008956,
          0.4944894103729456,
          0.41908492645869133,
          0.4380383116340733,
          0.34099005375072905,
          0.4530313345846421,
          0.42757513066202096,
          0.37885355950364924,
          0.4398683706334987,
          0.454876310699379,
          0.5162537674826654,
          0.38205816615732596,
          0.32811891736841026,
          0.5145491042922906,
          0.3181523531700045,
          0.3412724236216649,
          0.5125745894550846,
          0.30045651317547584,
          0.45551237952081935,
          0.5493451383774538,
          0.5531081731947821,
          0.45675810283418056,
          0.3391193624874414,
          0.4304464057484633,
          0.1465774370575175,
          0.5418404550895574,
          0.44747676399827424,
          0.42350387355338537,
          0.3132170061955128,
          0.4221856319611492,
          0.47907878904301104,
          0.47100285856557383,
          0.27635594233638494,
          0.46109231685102464,
          0.43924275269914137,
          0.399251859959268,
          0.4663315406658369,
          0.4506466424752424,
          0.5224373281689593,
          0.47984417078463676,
          0.49713252973714955,
          0.41054126458021684,
          0.4342163296041308,
          0.4784422736234723,
          0.4258209076878443,
          0.43106443418321877,
          0.42967923330410857,
          0.5570956017102152,
          0.38227399369760945,
          0.529759775049999,
          0.2642902740058142,
          0.5862595036833488,
          0.5524268251441642,
          0.5113864632481454,
          0.4499158875495297,
          0.29606550278897653,
          0.28252801268271605,
          0.291460508085903,
          0.42737717494427874,
          0.4021117556828213,
          0.4733129340944087,
          0.4949652584931557,
          0.48743093954594124,
          0.31591457052754857,
          0.5959425430414714,
          0.4161556638137514,
          0.30226882549556683,
          0.5133115808388896,
          0.4333399168658753,
          0.4792144048609898,
          0.2947922091884046,
          0.30641354152203276,
          0.4321716902614878,
          0.49465824529317093,
          0.5005647004922105,
          0.5152285724750288,
          0.4422508503321157,
          0.4182311262421253,
          0.44529399018907867,
          0.44725853118627557,
          0.41468375025422005,
          0.37234759988266575,
          0.48201210424316737,
          0.4279468574114194,
          0.4662540615021998,
          0.4271650606015931,
          0.5223255333436644,
          0.3770885983086307,
          0.4645933061892444,
          0.4366324158323032,
          0.33154745437155664,
          0.4808329961726449,
          0.4134024703176313,
          0.4681239496793728,
          0.4751212433650284,
          0.4986116551333943,
          0.4503649267849918,
          0.4241984835840576,
          0.3981109341540958,
          0.5357378253929977,
          0.5463498540825299,
          0.40916598710270896,
          0.43826397328974753,
          0.5071335995393843,
          0.2861473208171938,
          0.5645185391769012,
          0.3612513842746401,
          0.45947442759288587,
          0.46974209409499235,
          0.434833362360391,
          0.44686782717411466,
          0.5717797785609865,
          0.2900919305413688,
          0.5396928205977898,
          0.5572856617621555,
          0.5031308457755856,
          0.42395246012993454,
          0.49402010919412714,
          0.5422770291548572
         ]
        },
        {
         "mode": "lines",
         "name": "Best Value",
         "type": "scatter",
         "x": [
          0,
          1,
          2,
          3,
          4,
          5,
          6,
          7,
          8,
          9,
          10,
          11,
          12,
          13,
          14,
          15,
          16,
          17,
          18,
          19,
          20,
          21,
          22,
          23,
          24,
          25,
          26,
          27,
          28,
          29,
          30,
          31,
          32,
          33,
          34,
          35,
          36,
          37,
          38,
          39,
          40,
          41,
          42,
          43,
          44,
          45,
          46,
          47,
          48,
          49,
          50,
          51,
          52,
          53,
          54,
          55,
          56,
          57,
          58,
          59,
          60,
          61,
          62,
          63,
          64,
          65,
          66,
          67,
          68,
          69,
          70,
          71,
          72,
          73,
          74,
          75,
          76,
          77,
          78,
          79,
          80,
          81,
          82,
          83,
          84,
          85,
          86,
          87,
          88,
          89,
          90,
          91,
          92,
          93,
          94,
          95,
          96,
          97,
          98,
          99,
          100,
          101,
          102,
          103,
          104,
          105,
          106,
          107,
          108,
          109,
          110,
          111,
          112,
          113,
          114,
          115,
          116,
          117,
          118,
          119,
          120,
          121,
          122,
          123,
          124,
          125,
          126,
          127,
          128,
          129,
          130,
          131,
          132,
          133,
          134,
          135,
          136,
          137,
          138,
          139,
          140,
          141,
          142,
          143,
          144,
          145,
          146,
          147,
          148,
          149,
          150,
          151,
          152,
          153,
          154,
          155,
          156,
          157,
          158,
          159,
          160,
          161,
          162,
          163,
          164,
          165,
          166,
          167,
          168,
          169,
          170,
          171,
          172,
          173,
          174,
          175,
          176,
          177,
          178,
          179,
          180,
          181,
          182,
          183,
          184,
          185,
          186,
          187,
          188,
          189,
          190,
          191,
          192,
          193,
          194,
          195,
          196,
          197,
          198,
          199,
          200,
          201,
          202,
          203,
          204,
          205,
          206,
          207,
          208,
          209,
          210,
          211,
          212,
          213,
          214,
          215,
          216,
          217,
          218,
          219,
          220,
          221,
          222,
          223,
          224,
          225,
          226,
          227,
          228,
          229,
          230,
          231,
          232,
          233,
          234,
          235,
          236,
          237,
          238,
          239,
          240,
          241,
          242,
          243,
          244,
          245,
          246,
          247,
          248,
          249,
          250,
          251,
          252,
          253,
          254,
          255,
          256,
          257,
          258,
          259,
          260,
          261,
          262,
          263,
          264,
          265,
          266,
          267,
          268,
          269,
          270,
          271,
          272,
          273,
          274,
          275,
          276
         ],
         "y": [
          0.44549891080091747,
          0.44549891080091747,
          0.49396005931974357,
          0.49396005931974357,
          0.49396005931974357,
          0.49396005931974357,
          0.49396005931974357,
          0.49396005931974357,
          0.49396005931974357,
          0.49396005931974357,
          0.49396005931974357,
          0.49396005931974357,
          0.49396005931974357,
          0.5372205358262888,
          0.5372205358262888,
          0.5372205358262888,
          0.5372205358262888,
          0.5372205358262888,
          0.5372205358262888,
          0.5372205358262888,
          0.5372205358262888,
          0.5372205358262888,
          0.5372205358262888,
          0.5372205358262888,
          0.5372205358262888,
          0.5642738351908542,
          0.5642738351908542,
          0.5642738351908542,
          0.5642738351908542,
          0.5642738351908542,
          0.5649667166538633,
          0.5649667166538633,
          0.5649667166538633,
          0.5649667166538633,
          0.5770126051495345,
          0.5770126051495345,
          0.5770126051495345,
          0.5770126051495345,
          0.5770126051495345,
          0.5770126051495345,
          0.5770126051495345,
          0.5770126051495345,
          0.5770126051495345,
          0.5770126051495345,
          0.5770126051495345,
          0.5770126051495345,
          0.5770126051495345,
          0.5770126051495345,
          0.5770126051495345,
          0.5770126051495345,
          0.5770126051495345,
          0.5770126051495345,
          0.5770126051495345,
          0.5770126051495345,
          0.5770126051495345,
          0.5770126051495345,
          0.5770126051495345,
          0.5770126051495345,
          0.5770126051495345,
          0.5770126051495345,
          0.5770126051495345,
          0.5770126051495345,
          0.5770126051495345,
          0.5770126051495345,
          0.5770126051495345,
          0.5770126051495345,
          0.5770126051495345,
          0.5770126051495345,
          0.5770126051495345,
          0.5770126051495345,
          0.5770126051495345,
          0.5770126051495345,
          0.5770126051495345,
          0.5770126051495345,
          0.5770126051495345,
          0.5770126051495345,
          0.5770126051495345,
          0.5770126051495345,
          0.5770126051495345,
          0.5770126051495345,
          0.5770126051495345,
          0.5770126051495345,
          0.5770126051495345,
          0.5770126051495345,
          0.5770126051495345,
          0.5770126051495345,
          0.5770126051495345,
          0.5770126051495345,
          0.5770126051495345,
          0.5770126051495345,
          0.5770126051495345,
          0.5770126051495345,
          0.5770126051495345,
          0.5770126051495345,
          0.5770126051495345,
          0.5770126051495345,
          0.5770126051495345,
          0.5770126051495345,
          0.5770126051495345,
          0.5770126051495345,
          0.5770126051495345,
          0.5770126051495345,
          0.5770126051495345,
          0.5770126051495345,
          0.5770126051495345,
          0.5770126051495345,
          0.5770126051495345,
          0.5770126051495345,
          0.5770126051495345,
          0.5770126051495345,
          0.5770126051495345,
          0.5770126051495345,
          0.5770126051495345,
          0.5770126051495345,
          0.5770126051495345,
          0.5770126051495345,
          0.5770126051495345,
          0.5770126051495345,
          0.5770126051495345,
          0.5770126051495345,
          0.5770126051495345,
          0.5770126051495345,
          0.5770126051495345,
          0.5770126051495345,
          0.5770126051495345,
          0.5770126051495345,
          0.5770126051495345,
          0.5770126051495345,
          0.5770126051495345,
          0.5770126051495345,
          0.5770126051495345,
          0.5770126051495345,
          0.5770126051495345,
          0.5770126051495345,
          0.5770126051495345,
          0.5770126051495345,
          0.5770126051495345,
          0.5770126051495345,
          0.5770126051495345,
          0.5770126051495345,
          0.5770126051495345,
          0.5770126051495345,
          0.5770126051495345,
          0.5770126051495345,
          0.5770126051495345,
          0.5770126051495345,
          0.5770126051495345,
          0.5770126051495345,
          0.5770126051495345,
          0.5770126051495345,
          0.5770126051495345,
          0.5770126051495345,
          0.5770126051495345,
          0.5770126051495345,
          0.5770126051495345,
          0.5770126051495345,
          0.5770126051495345,
          0.5770126051495345,
          0.5770126051495345,
          0.5770126051495345,
          0.5770126051495345,
          0.5770126051495345,
          0.5770126051495345,
          0.5770126051495345,
          0.5770126051495345,
          0.5770126051495345,
          0.5770126051495345,
          0.5770126051495345,
          0.5770126051495345,
          0.5770126051495345,
          0.5770126051495345,
          0.5770126051495345,
          0.5770126051495345,
          0.5770126051495345,
          0.5770126051495345,
          0.5770126051495345,
          0.5770126051495345,
          0.5770126051495345,
          0.5770126051495345,
          0.5770126051495345,
          0.5770126051495345,
          0.5770126051495345,
          0.5770126051495345,
          0.5770126051495345,
          0.5770126051495345,
          0.5770126051495345,
          0.5770126051495345,
          0.5770126051495345,
          0.5770126051495345,
          0.5770126051495345,
          0.5770126051495345,
          0.5770126051495345,
          0.5770126051495345,
          0.5862595036833488,
          0.5862595036833488,
          0.5862595036833488,
          0.5862595036833488,
          0.5862595036833488,
          0.5862595036833488,
          0.5862595036833488,
          0.5862595036833488,
          0.5862595036833488,
          0.5862595036833488,
          0.5862595036833488,
          0.5862595036833488,
          0.5862595036833488,
          0.5959425430414714,
          0.5959425430414714,
          0.5959425430414714,
          0.5959425430414714,
          0.5959425430414714,
          0.5959425430414714,
          0.5959425430414714,
          0.5959425430414714,
          0.5959425430414714,
          0.5959425430414714,
          0.5959425430414714,
          0.5959425430414714,
          0.5959425430414714,
          0.5959425430414714,
          0.5959425430414714,
          0.5959425430414714,
          0.5959425430414714,
          0.5959425430414714,
          0.5959425430414714,
          0.5959425430414714,
          0.5959425430414714,
          0.5959425430414714,
          0.5959425430414714,
          0.5959425430414714,
          0.5959425430414714,
          0.5959425430414714,
          0.5959425430414714,
          0.5959425430414714,
          0.5959425430414714,
          0.5959425430414714,
          0.5959425430414714,
          0.5959425430414714,
          0.5959425430414714,
          0.5959425430414714,
          0.5959425430414714,
          0.5959425430414714,
          0.5959425430414714,
          0.5959425430414714,
          0.5959425430414714,
          0.5959425430414714,
          0.5959425430414714,
          0.5959425430414714,
          0.5959425430414714,
          0.5959425430414714,
          0.5959425430414714,
          0.5959425430414714,
          0.5959425430414714,
          0.5959425430414714,
          0.5959425430414714,
          0.5959425430414714,
          0.5959425430414714,
          0.5959425430414714,
          0.5959425430414714,
          0.5959425430414714,
          0.5959425430414714,
          0.5959425430414714,
          0.5959425430414714,
          0.5959425430414714,
          0.5959425430414714,
          0.5959425430414714,
          0.5959425430414714,
          0.5959425430414714,
          0.5959425430414714,
          0.5959425430414714,
          0.5959425430414714,
          0.5959425430414714,
          0.5959425430414714,
          0.5959425430414714,
          0.5959425430414714,
          0.5959425430414714,
          0.5959425430414714
         ]
        },
        {
         "marker": {
          "color": "#cccccc"
         },
         "mode": "markers",
         "name": "Infeasible Trial",
         "showlegend": false,
         "type": "scatter",
         "x": [],
         "y": []
        }
       ],
       "layout": {
        "template": {
         "data": {
          "bar": [
           {
            "error_x": {
             "color": "#2a3f5f"
            },
            "error_y": {
             "color": "#2a3f5f"
            },
            "marker": {
             "line": {
              "color": "#E5ECF6",
              "width": 0.5
             },
             "pattern": {
              "fillmode": "overlay",
              "size": 10,
              "solidity": 0.2
             }
            },
            "type": "bar"
           }
          ],
          "barpolar": [
           {
            "marker": {
             "line": {
              "color": "#E5ECF6",
              "width": 0.5
             },
             "pattern": {
              "fillmode": "overlay",
              "size": 10,
              "solidity": 0.2
             }
            },
            "type": "barpolar"
           }
          ],
          "carpet": [
           {
            "aaxis": {
             "endlinecolor": "#2a3f5f",
             "gridcolor": "white",
             "linecolor": "white",
             "minorgridcolor": "white",
             "startlinecolor": "#2a3f5f"
            },
            "baxis": {
             "endlinecolor": "#2a3f5f",
             "gridcolor": "white",
             "linecolor": "white",
             "minorgridcolor": "white",
             "startlinecolor": "#2a3f5f"
            },
            "type": "carpet"
           }
          ],
          "choropleth": [
           {
            "colorbar": {
             "outlinewidth": 0,
             "ticks": ""
            },
            "type": "choropleth"
           }
          ],
          "contour": [
           {
            "colorbar": {
             "outlinewidth": 0,
             "ticks": ""
            },
            "colorscale": [
             [
              0,
              "#0d0887"
             ],
             [
              0.1111111111111111,
              "#46039f"
             ],
             [
              0.2222222222222222,
              "#7201a8"
             ],
             [
              0.3333333333333333,
              "#9c179e"
             ],
             [
              0.4444444444444444,
              "#bd3786"
             ],
             [
              0.5555555555555556,
              "#d8576b"
             ],
             [
              0.6666666666666666,
              "#ed7953"
             ],
             [
              0.7777777777777778,
              "#fb9f3a"
             ],
             [
              0.8888888888888888,
              "#fdca26"
             ],
             [
              1,
              "#f0f921"
             ]
            ],
            "type": "contour"
           }
          ],
          "contourcarpet": [
           {
            "colorbar": {
             "outlinewidth": 0,
             "ticks": ""
            },
            "type": "contourcarpet"
           }
          ],
          "heatmap": [
           {
            "colorbar": {
             "outlinewidth": 0,
             "ticks": ""
            },
            "colorscale": [
             [
              0,
              "#0d0887"
             ],
             [
              0.1111111111111111,
              "#46039f"
             ],
             [
              0.2222222222222222,
              "#7201a8"
             ],
             [
              0.3333333333333333,
              "#9c179e"
             ],
             [
              0.4444444444444444,
              "#bd3786"
             ],
             [
              0.5555555555555556,
              "#d8576b"
             ],
             [
              0.6666666666666666,
              "#ed7953"
             ],
             [
              0.7777777777777778,
              "#fb9f3a"
             ],
             [
              0.8888888888888888,
              "#fdca26"
             ],
             [
              1,
              "#f0f921"
             ]
            ],
            "type": "heatmap"
           }
          ],
          "histogram": [
           {
            "marker": {
             "pattern": {
              "fillmode": "overlay",
              "size": 10,
              "solidity": 0.2
             }
            },
            "type": "histogram"
           }
          ],
          "histogram2d": [
           {
            "colorbar": {
             "outlinewidth": 0,
             "ticks": ""
            },
            "colorscale": [
             [
              0,
              "#0d0887"
             ],
             [
              0.1111111111111111,
              "#46039f"
             ],
             [
              0.2222222222222222,
              "#7201a8"
             ],
             [
              0.3333333333333333,
              "#9c179e"
             ],
             [
              0.4444444444444444,
              "#bd3786"
             ],
             [
              0.5555555555555556,
              "#d8576b"
             ],
             [
              0.6666666666666666,
              "#ed7953"
             ],
             [
              0.7777777777777778,
              "#fb9f3a"
             ],
             [
              0.8888888888888888,
              "#fdca26"
             ],
             [
              1,
              "#f0f921"
             ]
            ],
            "type": "histogram2d"
           }
          ],
          "histogram2dcontour": [
           {
            "colorbar": {
             "outlinewidth": 0,
             "ticks": ""
            },
            "colorscale": [
             [
              0,
              "#0d0887"
             ],
             [
              0.1111111111111111,
              "#46039f"
             ],
             [
              0.2222222222222222,
              "#7201a8"
             ],
             [
              0.3333333333333333,
              "#9c179e"
             ],
             [
              0.4444444444444444,
              "#bd3786"
             ],
             [
              0.5555555555555556,
              "#d8576b"
             ],
             [
              0.6666666666666666,
              "#ed7953"
             ],
             [
              0.7777777777777778,
              "#fb9f3a"
             ],
             [
              0.8888888888888888,
              "#fdca26"
             ],
             [
              1,
              "#f0f921"
             ]
            ],
            "type": "histogram2dcontour"
           }
          ],
          "mesh3d": [
           {
            "colorbar": {
             "outlinewidth": 0,
             "ticks": ""
            },
            "type": "mesh3d"
           }
          ],
          "parcoords": [
           {
            "line": {
             "colorbar": {
              "outlinewidth": 0,
              "ticks": ""
             }
            },
            "type": "parcoords"
           }
          ],
          "pie": [
           {
            "automargin": true,
            "type": "pie"
           }
          ],
          "scatter": [
           {
            "fillpattern": {
             "fillmode": "overlay",
             "size": 10,
             "solidity": 0.2
            },
            "type": "scatter"
           }
          ],
          "scatter3d": [
           {
            "line": {
             "colorbar": {
              "outlinewidth": 0,
              "ticks": ""
             }
            },
            "marker": {
             "colorbar": {
              "outlinewidth": 0,
              "ticks": ""
             }
            },
            "type": "scatter3d"
           }
          ],
          "scattercarpet": [
           {
            "marker": {
             "colorbar": {
              "outlinewidth": 0,
              "ticks": ""
             }
            },
            "type": "scattercarpet"
           }
          ],
          "scattergeo": [
           {
            "marker": {
             "colorbar": {
              "outlinewidth": 0,
              "ticks": ""
             }
            },
            "type": "scattergeo"
           }
          ],
          "scattergl": [
           {
            "marker": {
             "colorbar": {
              "outlinewidth": 0,
              "ticks": ""
             }
            },
            "type": "scattergl"
           }
          ],
          "scattermap": [
           {
            "marker": {
             "colorbar": {
              "outlinewidth": 0,
              "ticks": ""
             }
            },
            "type": "scattermap"
           }
          ],
          "scattermapbox": [
           {
            "marker": {
             "colorbar": {
              "outlinewidth": 0,
              "ticks": ""
             }
            },
            "type": "scattermapbox"
           }
          ],
          "scatterpolar": [
           {
            "marker": {
             "colorbar": {
              "outlinewidth": 0,
              "ticks": ""
             }
            },
            "type": "scatterpolar"
           }
          ],
          "scatterpolargl": [
           {
            "marker": {
             "colorbar": {
              "outlinewidth": 0,
              "ticks": ""
             }
            },
            "type": "scatterpolargl"
           }
          ],
          "scatterternary": [
           {
            "marker": {
             "colorbar": {
              "outlinewidth": 0,
              "ticks": ""
             }
            },
            "type": "scatterternary"
           }
          ],
          "surface": [
           {
            "colorbar": {
             "outlinewidth": 0,
             "ticks": ""
            },
            "colorscale": [
             [
              0,
              "#0d0887"
             ],
             [
              0.1111111111111111,
              "#46039f"
             ],
             [
              0.2222222222222222,
              "#7201a8"
             ],
             [
              0.3333333333333333,
              "#9c179e"
             ],
             [
              0.4444444444444444,
              "#bd3786"
             ],
             [
              0.5555555555555556,
              "#d8576b"
             ],
             [
              0.6666666666666666,
              "#ed7953"
             ],
             [
              0.7777777777777778,
              "#fb9f3a"
             ],
             [
              0.8888888888888888,
              "#fdca26"
             ],
             [
              1,
              "#f0f921"
             ]
            ],
            "type": "surface"
           }
          ],
          "table": [
           {
            "cells": {
             "fill": {
              "color": "#EBF0F8"
             },
             "line": {
              "color": "white"
             }
            },
            "header": {
             "fill": {
              "color": "#C8D4E3"
             },
             "line": {
              "color": "white"
             }
            },
            "type": "table"
           }
          ]
         },
         "layout": {
          "annotationdefaults": {
           "arrowcolor": "#2a3f5f",
           "arrowhead": 0,
           "arrowwidth": 1
          },
          "autotypenumbers": "strict",
          "coloraxis": {
           "colorbar": {
            "outlinewidth": 0,
            "ticks": ""
           }
          },
          "colorscale": {
           "diverging": [
            [
             0,
             "#8e0152"
            ],
            [
             0.1,
             "#c51b7d"
            ],
            [
             0.2,
             "#de77ae"
            ],
            [
             0.3,
             "#f1b6da"
            ],
            [
             0.4,
             "#fde0ef"
            ],
            [
             0.5,
             "#f7f7f7"
            ],
            [
             0.6,
             "#e6f5d0"
            ],
            [
             0.7,
             "#b8e186"
            ],
            [
             0.8,
             "#7fbc41"
            ],
            [
             0.9,
             "#4d9221"
            ],
            [
             1,
             "#276419"
            ]
           ],
           "sequential": [
            [
             0,
             "#0d0887"
            ],
            [
             0.1111111111111111,
             "#46039f"
            ],
            [
             0.2222222222222222,
             "#7201a8"
            ],
            [
             0.3333333333333333,
             "#9c179e"
            ],
            [
             0.4444444444444444,
             "#bd3786"
            ],
            [
             0.5555555555555556,
             "#d8576b"
            ],
            [
             0.6666666666666666,
             "#ed7953"
            ],
            [
             0.7777777777777778,
             "#fb9f3a"
            ],
            [
             0.8888888888888888,
             "#fdca26"
            ],
            [
             1,
             "#f0f921"
            ]
           ],
           "sequentialminus": [
            [
             0,
             "#0d0887"
            ],
            [
             0.1111111111111111,
             "#46039f"
            ],
            [
             0.2222222222222222,
             "#7201a8"
            ],
            [
             0.3333333333333333,
             "#9c179e"
            ],
            [
             0.4444444444444444,
             "#bd3786"
            ],
            [
             0.5555555555555556,
             "#d8576b"
            ],
            [
             0.6666666666666666,
             "#ed7953"
            ],
            [
             0.7777777777777778,
             "#fb9f3a"
            ],
            [
             0.8888888888888888,
             "#fdca26"
            ],
            [
             1,
             "#f0f921"
            ]
           ]
          },
          "colorway": [
           "#636efa",
           "#EF553B",
           "#00cc96",
           "#ab63fa",
           "#FFA15A",
           "#19d3f3",
           "#FF6692",
           "#B6E880",
           "#FF97FF",
           "#FECB52"
          ],
          "font": {
           "color": "#2a3f5f"
          },
          "geo": {
           "bgcolor": "white",
           "lakecolor": "white",
           "landcolor": "#E5ECF6",
           "showlakes": true,
           "showland": true,
           "subunitcolor": "white"
          },
          "hoverlabel": {
           "align": "left"
          },
          "hovermode": "closest",
          "mapbox": {
           "style": "light"
          },
          "paper_bgcolor": "white",
          "plot_bgcolor": "#E5ECF6",
          "polar": {
           "angularaxis": {
            "gridcolor": "white",
            "linecolor": "white",
            "ticks": ""
           },
           "bgcolor": "#E5ECF6",
           "radialaxis": {
            "gridcolor": "white",
            "linecolor": "white",
            "ticks": ""
           }
          },
          "scene": {
           "xaxis": {
            "backgroundcolor": "#E5ECF6",
            "gridcolor": "white",
            "gridwidth": 2,
            "linecolor": "white",
            "showbackground": true,
            "ticks": "",
            "zerolinecolor": "white"
           },
           "yaxis": {
            "backgroundcolor": "#E5ECF6",
            "gridcolor": "white",
            "gridwidth": 2,
            "linecolor": "white",
            "showbackground": true,
            "ticks": "",
            "zerolinecolor": "white"
           },
           "zaxis": {
            "backgroundcolor": "#E5ECF6",
            "gridcolor": "white",
            "gridwidth": 2,
            "linecolor": "white",
            "showbackground": true,
            "ticks": "",
            "zerolinecolor": "white"
           }
          },
          "shapedefaults": {
           "line": {
            "color": "#2a3f5f"
           }
          },
          "ternary": {
           "aaxis": {
            "gridcolor": "white",
            "linecolor": "white",
            "ticks": ""
           },
           "baxis": {
            "gridcolor": "white",
            "linecolor": "white",
            "ticks": ""
           },
           "bgcolor": "#E5ECF6",
           "caxis": {
            "gridcolor": "white",
            "linecolor": "white",
            "ticks": ""
           }
          },
          "title": {
           "x": 0.05
          },
          "xaxis": {
           "automargin": true,
           "gridcolor": "white",
           "linecolor": "white",
           "ticks": "",
           "title": {
            "standoff": 15
           },
           "zerolinecolor": "white",
           "zerolinewidth": 2
          },
          "yaxis": {
           "automargin": true,
           "gridcolor": "white",
           "linecolor": "white",
           "ticks": "",
           "title": {
            "standoff": 15
           },
           "zerolinecolor": "white",
           "zerolinewidth": 2
          }
         }
        },
        "title": {
         "text": "Optimization History Plot"
        },
        "xaxis": {
         "title": {
          "text": "Trial"
         }
        },
        "yaxis": {
         "title": {
          "text": "Objective Value"
         }
        }
       }
      },
      "text/html": [
       "<div>            <script src=\"https://cdnjs.cloudflare.com/ajax/libs/mathjax/2.7.5/MathJax.js?config=TeX-AMS-MML_SVG\"></script><script type=\"text/javascript\">if (window.MathJax && window.MathJax.Hub && window.MathJax.Hub.Config) {window.MathJax.Hub.Config({SVG: {font: \"STIX-Web\"}});}</script>                <script type=\"text/javascript\">window.PlotlyConfig = {MathJaxConfig: 'local'};</script>\n",
       "        <script charset=\"utf-8\" src=\"https://cdn.plot.ly/plotly-3.0.1.min.js\" integrity=\"sha256-oy6Be7Eh6eiQFs5M7oXuPxxm9qbJXEtTpfSI93dW16Q=\" crossorigin=\"anonymous\"></script>                <div id=\"e1a06378-338b-406f-98ad-e77cfba3db8a\" class=\"plotly-graph-div\" style=\"height:525px; width:100%;\"></div>            <script type=\"text/javascript\">                window.PLOTLYENV=window.PLOTLYENV || {};                                if (document.getElementById(\"e1a06378-338b-406f-98ad-e77cfba3db8a\")) {                    Plotly.newPlot(                        \"e1a06378-338b-406f-98ad-e77cfba3db8a\",                        [{\"mode\":\"markers\",\"name\":\"Objective Value\",\"x\":[0,1,2,3,4,5,6,7,8,9,10,11,12,13,14,15,16,17,18,19,20,21,22,23,24,25,26,27,28,29,30,31,32,33,34,35,36,37,38,39,40,41,42,43,44,45,46,47,48,49,50,51,52,53,54,55,56,57,58,59,60,61,62,63,64,65,66,67,68,69,70,71,72,73,74,75,76,77,78,79,80,81,82,83,84,85,86,87,88,89,90,91,92,93,94,95,96,97,98,99,100,101,102,103,104,105,106,107,108,109,110,111,112,113,114,115,116,117,118,119,120,121,122,123,124,125,126,127,128,129,130,131,132,133,134,135,136,137,138,139,140,141,142,143,144,145,146,147,148,149,150,151,152,153,154,155,156,157,158,159,160,161,162,163,164,165,166,167,168,169,170,171,172,173,174,175,176,177,178,179,180,181,182,183,184,185,186,187,188,189,190,191,192,193,194,195,196,197,198,199,200,201,202,203,204,205,206,207,208,209,210,211,212,213,214,215,216,217,218,219,220,221,222,223,224,225,226,227,228,229,230,231,232,233,234,235,236,237,238,239,240,241,242,243,244,245,246,247,248,249,250,251,252,253,254,255,256,257,258,259,260],\"y\":[0.44549891080091747,0.35031385504658946,0.49396005931974357,0.29920526959819943,0.4030942291464748,0.42927132822649666,0.2871287685972645,0.3754183922754027,0.40696826252968793,0.44349857432409223,0.27844311508216957,0.3760624757302498,0.44371507386589526,0.5372205358262888,0.4344301084807678,0.4661278797558235,0.3994760337943208,0.4070902070902071,0.3228407808592811,0.21933143354119208,0.3760624757302498,0.12762499856948306,0.5361292649888375,0.30736750844559557,0.46797395379702206,0.5642738351908542,0.5155909484212534,0.4160304627629174,0.3876198723698761,0.3776033900519471,0.5649667166538633,0.44614865798711884,0.35325684380808103,0.5250775926964296,0.5770126051495345,0.4685798864277733,0.35326930965775905,0.2871287685972645,0.19507680918008516,0.5207773839392558,0.3450963595312837,0.2871287685972645,0.43794946578135313,0.3942182517722086,0.2871287685972645,0.37668804839274,0.4591306749923271,0.3775771151633729,0.22188003166167858,0.47750471812118506,0.5766433499397876,0.5573455084304538,0.36176719078273484,0.39930631371189057,0.4070902070902071,0.44078488264819127,0.4660478304795803,0.5280030015073942,0.4070902070902071,0.2871287685972645,0.5250273025118312,0.3760624757302498,0.4240184793854829,0.3702731516824595,0.43761600395558736,0.01742482142787849,0.33087160105470637,0.3510344627076684,0.5076396050401243,0.5205362641828098,0.5170672239637757,0.3994760337943208,0.38544079621676136,0.4417316175568306,0.2871287685972645,0.41226956799941966,0.3442058009713434,0.5423755049646997,0.4333399168658753,0.4302778677695638,0.4110292547512278,0.30712306184570054,0.26958532781664707,0.3250636005876336,0.3760624757302498,0.39635098662650936,0.3760624757302498,0.39727632467128265,0.545996874436497,0.500986203448241,0.059045008066071776,0.31259834508821543,0.4070902070902071,0.3682115931281671,0.4315535977812332,0.33626803677830325,0.3770091660579067,0.5586263512189439,0.47354619156077815,0.2871287685972645,0.2871287685972645,0.3167748238634314,0.3172168894221689,0.11649831649831649,0.44000602694907226,0.5484976809840694,0.4040785146182119,0.46290169729077785,0.39760734284802624,0.37489345944876024,0.4629767662713398,0.4909205222884758,0.4070902070902071,0.2871287685972645,0.4042937340474188,0.3896340617032313,0.4773826752923392,0.4312083903328774,0.4001597250103562,0.4223196881091618,0.3095019427764041,0.2949640287769784,0.004224440374849906,0.38927882282992093,0.5539859640366088,0.4765839693186648,0.43740296587978705,0.5149969598552594,0.4070902070902071,0.2949640287769784,0.4089294756318054,0.3579371217946068,0.3928132586088051,0.3332376133374262,0.49034541655551855,0.35831347476508774,0.5335852248485763,0.10192592592592592,0.4713264595295064,0.01742482142787849,0.44371507386589526,0.3923391139450813,0.5593577525008956,0.4944894103729456,0.41908492645869133,0.4380383116340733,0.34099005375072905,0.4530313345846421,0.42757513066202096,0.37885355950364924,0.4398683706334987,0.454876310699379,0.5162537674826654,0.38205816615732596,0.32811891736841026,0.5145491042922906,0.3181523531700045,0.3412724236216649,0.5125745894550846,0.30045651317547584,0.45551237952081935,0.5493451383774538,0.5531081731947821,0.45675810283418056,0.3391193624874414,0.4304464057484633,0.1465774370575175,0.5418404550895574,0.44747676399827424,0.42350387355338537,0.3132170061955128,0.4221856319611492,0.47907878904301104,0.47100285856557383,0.27635594233638494,0.46109231685102464,0.43924275269914137,0.399251859959268,0.4663315406658369,0.4506466424752424,0.5224373281689593,0.47984417078463676,0.49713252973714955,0.41054126458021684,0.4342163296041308,0.4784422736234723,0.4258209076878443,0.43106443418321877,0.42967923330410857,0.5570956017102152,0.38227399369760945,0.529759775049999,0.2642902740058142,0.5862595036833488,0.5524268251441642,0.5113864632481454,0.4499158875495297,0.29606550278897653,0.28252801268271605,0.291460508085903,0.42737717494427874,0.4021117556828213,0.4733129340944087,0.4949652584931557,0.48743093954594124,0.31591457052754857,0.5959425430414714,0.4161556638137514,0.30226882549556683,0.5133115808388896,0.4333399168658753,0.4792144048609898,0.2947922091884046,0.30641354152203276,0.4321716902614878,0.49465824529317093,0.5005647004922105,0.5152285724750288,0.4422508503321157,0.4182311262421253,0.44529399018907867,0.44725853118627557,0.41468375025422005,0.37234759988266575,0.48201210424316737,0.4279468574114194,0.4662540615021998,0.4271650606015931,0.5223255333436644,0.3770885983086307,0.4645933061892444,0.4366324158323032,0.33154745437155664,0.4808329961726449,0.4134024703176313,0.4681239496793728,0.4751212433650284,0.4986116551333943,0.4503649267849918,0.4241984835840576,0.3981109341540958,0.5357378253929977,0.5463498540825299,0.40916598710270896,0.43826397328974753,0.5071335995393843,0.2861473208171938,0.5645185391769012,0.3612513842746401,0.45947442759288587,0.46974209409499235,0.434833362360391,0.44686782717411466,0.5717797785609865,0.2900919305413688,0.5396928205977898,0.5572856617621555,0.5031308457755856,0.42395246012993454,0.49402010919412714,0.5422770291548572],\"type\":\"scatter\"},{\"mode\":\"lines\",\"name\":\"Best Value\",\"x\":[0,1,2,3,4,5,6,7,8,9,10,11,12,13,14,15,16,17,18,19,20,21,22,23,24,25,26,27,28,29,30,31,32,33,34,35,36,37,38,39,40,41,42,43,44,45,46,47,48,49,50,51,52,53,54,55,56,57,58,59,60,61,62,63,64,65,66,67,68,69,70,71,72,73,74,75,76,77,78,79,80,81,82,83,84,85,86,87,88,89,90,91,92,93,94,95,96,97,98,99,100,101,102,103,104,105,106,107,108,109,110,111,112,113,114,115,116,117,118,119,120,121,122,123,124,125,126,127,128,129,130,131,132,133,134,135,136,137,138,139,140,141,142,143,144,145,146,147,148,149,150,151,152,153,154,155,156,157,158,159,160,161,162,163,164,165,166,167,168,169,170,171,172,173,174,175,176,177,178,179,180,181,182,183,184,185,186,187,188,189,190,191,192,193,194,195,196,197,198,199,200,201,202,203,204,205,206,207,208,209,210,211,212,213,214,215,216,217,218,219,220,221,222,223,224,225,226,227,228,229,230,231,232,233,234,235,236,237,238,239,240,241,242,243,244,245,246,247,248,249,250,251,252,253,254,255,256,257,258,259,260,261,262,263,264,265,266,267,268,269,270,271,272,273,274,275,276],\"y\":[0.44549891080091747,0.44549891080091747,0.49396005931974357,0.49396005931974357,0.49396005931974357,0.49396005931974357,0.49396005931974357,0.49396005931974357,0.49396005931974357,0.49396005931974357,0.49396005931974357,0.49396005931974357,0.49396005931974357,0.5372205358262888,0.5372205358262888,0.5372205358262888,0.5372205358262888,0.5372205358262888,0.5372205358262888,0.5372205358262888,0.5372205358262888,0.5372205358262888,0.5372205358262888,0.5372205358262888,0.5372205358262888,0.5642738351908542,0.5642738351908542,0.5642738351908542,0.5642738351908542,0.5642738351908542,0.5649667166538633,0.5649667166538633,0.5649667166538633,0.5649667166538633,0.5770126051495345,0.5770126051495345,0.5770126051495345,0.5770126051495345,0.5770126051495345,0.5770126051495345,0.5770126051495345,0.5770126051495345,0.5770126051495345,0.5770126051495345,0.5770126051495345,0.5770126051495345,0.5770126051495345,0.5770126051495345,0.5770126051495345,0.5770126051495345,0.5770126051495345,0.5770126051495345,0.5770126051495345,0.5770126051495345,0.5770126051495345,0.5770126051495345,0.5770126051495345,0.5770126051495345,0.5770126051495345,0.5770126051495345,0.5770126051495345,0.5770126051495345,0.5770126051495345,0.5770126051495345,0.5770126051495345,0.5770126051495345,0.5770126051495345,0.5770126051495345,0.5770126051495345,0.5770126051495345,0.5770126051495345,0.5770126051495345,0.5770126051495345,0.5770126051495345,0.5770126051495345,0.5770126051495345,0.5770126051495345,0.5770126051495345,0.5770126051495345,0.5770126051495345,0.5770126051495345,0.5770126051495345,0.5770126051495345,0.5770126051495345,0.5770126051495345,0.5770126051495345,0.5770126051495345,0.5770126051495345,0.5770126051495345,0.5770126051495345,0.5770126051495345,0.5770126051495345,0.5770126051495345,0.5770126051495345,0.5770126051495345,0.5770126051495345,0.5770126051495345,0.5770126051495345,0.5770126051495345,0.5770126051495345,0.5770126051495345,0.5770126051495345,0.5770126051495345,0.5770126051495345,0.5770126051495345,0.5770126051495345,0.5770126051495345,0.5770126051495345,0.5770126051495345,0.5770126051495345,0.5770126051495345,0.5770126051495345,0.5770126051495345,0.5770126051495345,0.5770126051495345,0.5770126051495345,0.5770126051495345,0.5770126051495345,0.5770126051495345,0.5770126051495345,0.5770126051495345,0.5770126051495345,0.5770126051495345,0.5770126051495345,0.5770126051495345,0.5770126051495345,0.5770126051495345,0.5770126051495345,0.5770126051495345,0.5770126051495345,0.5770126051495345,0.5770126051495345,0.5770126051495345,0.5770126051495345,0.5770126051495345,0.5770126051495345,0.5770126051495345,0.5770126051495345,0.5770126051495345,0.5770126051495345,0.5770126051495345,0.5770126051495345,0.5770126051495345,0.5770126051495345,0.5770126051495345,0.5770126051495345,0.5770126051495345,0.5770126051495345,0.5770126051495345,0.5770126051495345,0.5770126051495345,0.5770126051495345,0.5770126051495345,0.5770126051495345,0.5770126051495345,0.5770126051495345,0.5770126051495345,0.5770126051495345,0.5770126051495345,0.5770126051495345,0.5770126051495345,0.5770126051495345,0.5770126051495345,0.5770126051495345,0.5770126051495345,0.5770126051495345,0.5770126051495345,0.5770126051495345,0.5770126051495345,0.5770126051495345,0.5770126051495345,0.5770126051495345,0.5770126051495345,0.5770126051495345,0.5770126051495345,0.5770126051495345,0.5770126051495345,0.5770126051495345,0.5770126051495345,0.5770126051495345,0.5770126051495345,0.5770126051495345,0.5770126051495345,0.5770126051495345,0.5770126051495345,0.5770126051495345,0.5770126051495345,0.5770126051495345,0.5770126051495345,0.5770126051495345,0.5770126051495345,0.5770126051495345,0.5770126051495345,0.5862595036833488,0.5862595036833488,0.5862595036833488,0.5862595036833488,0.5862595036833488,0.5862595036833488,0.5862595036833488,0.5862595036833488,0.5862595036833488,0.5862595036833488,0.5862595036833488,0.5862595036833488,0.5862595036833488,0.5959425430414714,0.5959425430414714,0.5959425430414714,0.5959425430414714,0.5959425430414714,0.5959425430414714,0.5959425430414714,0.5959425430414714,0.5959425430414714,0.5959425430414714,0.5959425430414714,0.5959425430414714,0.5959425430414714,0.5959425430414714,0.5959425430414714,0.5959425430414714,0.5959425430414714,0.5959425430414714,0.5959425430414714,0.5959425430414714,0.5959425430414714,0.5959425430414714,0.5959425430414714,0.5959425430414714,0.5959425430414714,0.5959425430414714,0.5959425430414714,0.5959425430414714,0.5959425430414714,0.5959425430414714,0.5959425430414714,0.5959425430414714,0.5959425430414714,0.5959425430414714,0.5959425430414714,0.5959425430414714,0.5959425430414714,0.5959425430414714,0.5959425430414714,0.5959425430414714,0.5959425430414714,0.5959425430414714,0.5959425430414714,0.5959425430414714,0.5959425430414714,0.5959425430414714,0.5959425430414714,0.5959425430414714,0.5959425430414714,0.5959425430414714,0.5959425430414714,0.5959425430414714,0.5959425430414714,0.5959425430414714,0.5959425430414714,0.5959425430414714,0.5959425430414714,0.5959425430414714,0.5959425430414714,0.5959425430414714,0.5959425430414714,0.5959425430414714,0.5959425430414714,0.5959425430414714,0.5959425430414714,0.5959425430414714,0.5959425430414714,0.5959425430414714,0.5959425430414714,0.5959425430414714,0.5959425430414714],\"type\":\"scatter\"},{\"marker\":{\"color\":\"#cccccc\"},\"mode\":\"markers\",\"name\":\"Infeasible Trial\",\"showlegend\":false,\"x\":[],\"y\":[],\"type\":\"scatter\"}],                        {\"title\":{\"text\":\"Optimization History Plot\"},\"xaxis\":{\"title\":{\"text\":\"Trial\"}},\"yaxis\":{\"title\":{\"text\":\"Objective Value\"}},\"template\":{\"data\":{\"histogram2dcontour\":[{\"type\":\"histogram2dcontour\",\"colorbar\":{\"outlinewidth\":0,\"ticks\":\"\"},\"colorscale\":[[0.0,\"#0d0887\"],[0.1111111111111111,\"#46039f\"],[0.2222222222222222,\"#7201a8\"],[0.3333333333333333,\"#9c179e\"],[0.4444444444444444,\"#bd3786\"],[0.5555555555555556,\"#d8576b\"],[0.6666666666666666,\"#ed7953\"],[0.7777777777777778,\"#fb9f3a\"],[0.8888888888888888,\"#fdca26\"],[1.0,\"#f0f921\"]]}],\"choropleth\":[{\"type\":\"choropleth\",\"colorbar\":{\"outlinewidth\":0,\"ticks\":\"\"}}],\"histogram2d\":[{\"type\":\"histogram2d\",\"colorbar\":{\"outlinewidth\":0,\"ticks\":\"\"},\"colorscale\":[[0.0,\"#0d0887\"],[0.1111111111111111,\"#46039f\"],[0.2222222222222222,\"#7201a8\"],[0.3333333333333333,\"#9c179e\"],[0.4444444444444444,\"#bd3786\"],[0.5555555555555556,\"#d8576b\"],[0.6666666666666666,\"#ed7953\"],[0.7777777777777778,\"#fb9f3a\"],[0.8888888888888888,\"#fdca26\"],[1.0,\"#f0f921\"]]}],\"heatmap\":[{\"type\":\"heatmap\",\"colorbar\":{\"outlinewidth\":0,\"ticks\":\"\"},\"colorscale\":[[0.0,\"#0d0887\"],[0.1111111111111111,\"#46039f\"],[0.2222222222222222,\"#7201a8\"],[0.3333333333333333,\"#9c179e\"],[0.4444444444444444,\"#bd3786\"],[0.5555555555555556,\"#d8576b\"],[0.6666666666666666,\"#ed7953\"],[0.7777777777777778,\"#fb9f3a\"],[0.8888888888888888,\"#fdca26\"],[1.0,\"#f0f921\"]]}],\"contourcarpet\":[{\"type\":\"contourcarpet\",\"colorbar\":{\"outlinewidth\":0,\"ticks\":\"\"}}],\"contour\":[{\"type\":\"contour\",\"colorbar\":{\"outlinewidth\":0,\"ticks\":\"\"},\"colorscale\":[[0.0,\"#0d0887\"],[0.1111111111111111,\"#46039f\"],[0.2222222222222222,\"#7201a8\"],[0.3333333333333333,\"#9c179e\"],[0.4444444444444444,\"#bd3786\"],[0.5555555555555556,\"#d8576b\"],[0.6666666666666666,\"#ed7953\"],[0.7777777777777778,\"#fb9f3a\"],[0.8888888888888888,\"#fdca26\"],[1.0,\"#f0f921\"]]}],\"surface\":[{\"type\":\"surface\",\"colorbar\":{\"outlinewidth\":0,\"ticks\":\"\"},\"colorscale\":[[0.0,\"#0d0887\"],[0.1111111111111111,\"#46039f\"],[0.2222222222222222,\"#7201a8\"],[0.3333333333333333,\"#9c179e\"],[0.4444444444444444,\"#bd3786\"],[0.5555555555555556,\"#d8576b\"],[0.6666666666666666,\"#ed7953\"],[0.7777777777777778,\"#fb9f3a\"],[0.8888888888888888,\"#fdca26\"],[1.0,\"#f0f921\"]]}],\"mesh3d\":[{\"type\":\"mesh3d\",\"colorbar\":{\"outlinewidth\":0,\"ticks\":\"\"}}],\"scatter\":[{\"fillpattern\":{\"fillmode\":\"overlay\",\"size\":10,\"solidity\":0.2},\"type\":\"scatter\"}],\"parcoords\":[{\"type\":\"parcoords\",\"line\":{\"colorbar\":{\"outlinewidth\":0,\"ticks\":\"\"}}}],\"scatterpolargl\":[{\"type\":\"scatterpolargl\",\"marker\":{\"colorbar\":{\"outlinewidth\":0,\"ticks\":\"\"}}}],\"bar\":[{\"error_x\":{\"color\":\"#2a3f5f\"},\"error_y\":{\"color\":\"#2a3f5f\"},\"marker\":{\"line\":{\"color\":\"#E5ECF6\",\"width\":0.5},\"pattern\":{\"fillmode\":\"overlay\",\"size\":10,\"solidity\":0.2}},\"type\":\"bar\"}],\"scattergeo\":[{\"type\":\"scattergeo\",\"marker\":{\"colorbar\":{\"outlinewidth\":0,\"ticks\":\"\"}}}],\"scatterpolar\":[{\"type\":\"scatterpolar\",\"marker\":{\"colorbar\":{\"outlinewidth\":0,\"ticks\":\"\"}}}],\"histogram\":[{\"marker\":{\"pattern\":{\"fillmode\":\"overlay\",\"size\":10,\"solidity\":0.2}},\"type\":\"histogram\"}],\"scattergl\":[{\"type\":\"scattergl\",\"marker\":{\"colorbar\":{\"outlinewidth\":0,\"ticks\":\"\"}}}],\"scatter3d\":[{\"type\":\"scatter3d\",\"line\":{\"colorbar\":{\"outlinewidth\":0,\"ticks\":\"\"}},\"marker\":{\"colorbar\":{\"outlinewidth\":0,\"ticks\":\"\"}}}],\"scattermap\":[{\"type\":\"scattermap\",\"marker\":{\"colorbar\":{\"outlinewidth\":0,\"ticks\":\"\"}}}],\"scattermapbox\":[{\"type\":\"scattermapbox\",\"marker\":{\"colorbar\":{\"outlinewidth\":0,\"ticks\":\"\"}}}],\"scatterternary\":[{\"type\":\"scatterternary\",\"marker\":{\"colorbar\":{\"outlinewidth\":0,\"ticks\":\"\"}}}],\"scattercarpet\":[{\"type\":\"scattercarpet\",\"marker\":{\"colorbar\":{\"outlinewidth\":0,\"ticks\":\"\"}}}],\"carpet\":[{\"aaxis\":{\"endlinecolor\":\"#2a3f5f\",\"gridcolor\":\"white\",\"linecolor\":\"white\",\"minorgridcolor\":\"white\",\"startlinecolor\":\"#2a3f5f\"},\"baxis\":{\"endlinecolor\":\"#2a3f5f\",\"gridcolor\":\"white\",\"linecolor\":\"white\",\"minorgridcolor\":\"white\",\"startlinecolor\":\"#2a3f5f\"},\"type\":\"carpet\"}],\"table\":[{\"cells\":{\"fill\":{\"color\":\"#EBF0F8\"},\"line\":{\"color\":\"white\"}},\"header\":{\"fill\":{\"color\":\"#C8D4E3\"},\"line\":{\"color\":\"white\"}},\"type\":\"table\"}],\"barpolar\":[{\"marker\":{\"line\":{\"color\":\"#E5ECF6\",\"width\":0.5},\"pattern\":{\"fillmode\":\"overlay\",\"size\":10,\"solidity\":0.2}},\"type\":\"barpolar\"}],\"pie\":[{\"automargin\":true,\"type\":\"pie\"}]},\"layout\":{\"autotypenumbers\":\"strict\",\"colorway\":[\"#636efa\",\"#EF553B\",\"#00cc96\",\"#ab63fa\",\"#FFA15A\",\"#19d3f3\",\"#FF6692\",\"#B6E880\",\"#FF97FF\",\"#FECB52\"],\"font\":{\"color\":\"#2a3f5f\"},\"hovermode\":\"closest\",\"hoverlabel\":{\"align\":\"left\"},\"paper_bgcolor\":\"white\",\"plot_bgcolor\":\"#E5ECF6\",\"polar\":{\"bgcolor\":\"#E5ECF6\",\"angularaxis\":{\"gridcolor\":\"white\",\"linecolor\":\"white\",\"ticks\":\"\"},\"radialaxis\":{\"gridcolor\":\"white\",\"linecolor\":\"white\",\"ticks\":\"\"}},\"ternary\":{\"bgcolor\":\"#E5ECF6\",\"aaxis\":{\"gridcolor\":\"white\",\"linecolor\":\"white\",\"ticks\":\"\"},\"baxis\":{\"gridcolor\":\"white\",\"linecolor\":\"white\",\"ticks\":\"\"},\"caxis\":{\"gridcolor\":\"white\",\"linecolor\":\"white\",\"ticks\":\"\"}},\"coloraxis\":{\"colorbar\":{\"outlinewidth\":0,\"ticks\":\"\"}},\"colorscale\":{\"sequential\":[[0.0,\"#0d0887\"],[0.1111111111111111,\"#46039f\"],[0.2222222222222222,\"#7201a8\"],[0.3333333333333333,\"#9c179e\"],[0.4444444444444444,\"#bd3786\"],[0.5555555555555556,\"#d8576b\"],[0.6666666666666666,\"#ed7953\"],[0.7777777777777778,\"#fb9f3a\"],[0.8888888888888888,\"#fdca26\"],[1.0,\"#f0f921\"]],\"sequentialminus\":[[0.0,\"#0d0887\"],[0.1111111111111111,\"#46039f\"],[0.2222222222222222,\"#7201a8\"],[0.3333333333333333,\"#9c179e\"],[0.4444444444444444,\"#bd3786\"],[0.5555555555555556,\"#d8576b\"],[0.6666666666666666,\"#ed7953\"],[0.7777777777777778,\"#fb9f3a\"],[0.8888888888888888,\"#fdca26\"],[1.0,\"#f0f921\"]],\"diverging\":[[0,\"#8e0152\"],[0.1,\"#c51b7d\"],[0.2,\"#de77ae\"],[0.3,\"#f1b6da\"],[0.4,\"#fde0ef\"],[0.5,\"#f7f7f7\"],[0.6,\"#e6f5d0\"],[0.7,\"#b8e186\"],[0.8,\"#7fbc41\"],[0.9,\"#4d9221\"],[1,\"#276419\"]]},\"xaxis\":{\"gridcolor\":\"white\",\"linecolor\":\"white\",\"ticks\":\"\",\"title\":{\"standoff\":15},\"zerolinecolor\":\"white\",\"automargin\":true,\"zerolinewidth\":2},\"yaxis\":{\"gridcolor\":\"white\",\"linecolor\":\"white\",\"ticks\":\"\",\"title\":{\"standoff\":15},\"zerolinecolor\":\"white\",\"automargin\":true,\"zerolinewidth\":2},\"scene\":{\"xaxis\":{\"backgroundcolor\":\"#E5ECF6\",\"gridcolor\":\"white\",\"linecolor\":\"white\",\"showbackground\":true,\"ticks\":\"\",\"zerolinecolor\":\"white\",\"gridwidth\":2},\"yaxis\":{\"backgroundcolor\":\"#E5ECF6\",\"gridcolor\":\"white\",\"linecolor\":\"white\",\"showbackground\":true,\"ticks\":\"\",\"zerolinecolor\":\"white\",\"gridwidth\":2},\"zaxis\":{\"backgroundcolor\":\"#E5ECF6\",\"gridcolor\":\"white\",\"linecolor\":\"white\",\"showbackground\":true,\"ticks\":\"\",\"zerolinecolor\":\"white\",\"gridwidth\":2}},\"shapedefaults\":{\"line\":{\"color\":\"#2a3f5f\"}},\"annotationdefaults\":{\"arrowcolor\":\"#2a3f5f\",\"arrowhead\":0,\"arrowwidth\":1},\"geo\":{\"bgcolor\":\"white\",\"landcolor\":\"#E5ECF6\",\"subunitcolor\":\"white\",\"showland\":true,\"showlakes\":true,\"lakecolor\":\"white\"},\"title\":{\"x\":0.05},\"mapbox\":{\"style\":\"light\"}}}},                        {\"responsive\": true}                    ).then(function(){\n",
       "                            \n",
       "var gd = document.getElementById('e1a06378-338b-406f-98ad-e77cfba3db8a');\n",
       "var x = new MutationObserver(function (mutations, observer) {{\n",
       "        var display = window.getComputedStyle(gd).display;\n",
       "        if (!display || display === 'none') {{\n",
       "            console.log([gd, 'removed!']);\n",
       "            Plotly.purge(gd);\n",
       "            observer.disconnect();\n",
       "        }}\n",
       "}});\n",
       "\n",
       "// Listen for the removal of the full notebook cells\n",
       "var notebookContainer = gd.closest('#notebook-container');\n",
       "if (notebookContainer) {{\n",
       "    x.observe(notebookContainer, {childList: true});\n",
       "}}\n",
       "\n",
       "// Listen for the clearing of the current output cell\n",
       "var outputEl = gd.closest('.output');\n",
       "if (outputEl) {{\n",
       "    x.observe(outputEl, {childList: true});\n",
       "}}\n",
       "\n",
       "                        })                };            </script>        </div>"
      ]
     },
     "metadata": {},
     "output_type": "display_data"
    }
   ],
   "source": [
    "optuna.visualization.plot_optimization_history(study)"
   ]
  },
  {
   "cell_type": "code",
   "execution_count": 53,
   "id": "028d4720-93f2-4a66-9f69-cbe5d1867086",
   "metadata": {},
   "outputs": [
    {
     "data": {
      "application/vnd.plotly.v1+json": {
       "config": {
        "plotlyServerURL": "https://plot.ly"
       },
       "data": [
        {
         "colorbar": {
          "title": {
           "text": "Objective Value"
          }
         },
         "colorscale": [
          [
           0,
           "rgb(247,251,255)"
          ],
          [
           0.125,
           "rgb(222,235,247)"
          ],
          [
           0.25,
           "rgb(198,219,239)"
          ],
          [
           0.375,
           "rgb(158,202,225)"
          ],
          [
           0.5,
           "rgb(107,174,214)"
          ],
          [
           0.625,
           "rgb(66,146,198)"
          ],
          [
           0.75,
           "rgb(33,113,181)"
          ],
          [
           0.875,
           "rgb(8,81,156)"
          ],
          [
           1,
           "rgb(8,48,107)"
          ]
         ],
         "connectgaps": true,
         "contours": {
          "coloring": "heatmap"
         },
         "hoverinfo": "none",
         "line": {
          "smoothing": 1.3
         },
         "reversescale": false,
         "type": "contour",
         "x": [
          3.2,
          4,
          5,
          7,
          11,
          12,
          13,
          14,
          16,
          17,
          19,
          20,
          20.8
         ],
         "y": [
          1.6,
          2,
          3,
          4,
          5,
          6,
          7,
          8,
          9,
          10,
          10.4
         ],
         "z": {
          "bdata": "AAAAAAAA+H8AAAAAAAD4fwAAAAAAAPh/AAAAAAAA+H8AAAAAAAD4fwAAAAAAAPh/AAAAAAAA+H8AAAAAAAD4fwAAAAAAAPh/AAAAAAAA+H8AAAAAAAD4fwAAAAAAAPh/AAAAAAAA+H8AAAAAAAD4fwAAAAAAAPh/AAAAAAAA+H8AAAAAAAD4fwAAAAAAAPh/AAAAAAAA+H8AAAAAAAD4fwAAAAAAAPh/AAAAAAAA+H8AAAAAAAD4f4o1aY/XzdQ/AAAAAAAA+H8AAAAAAAD4fwAAAAAAAPh/AAAAAAAA+H8AAAAAAAD4fwAAAAAAAPh/AAAAAAAA+H8AAAAAAAD4fwAAAAAAAPh/AAAAAAAA+H8AAAAAAAD4fwAAAAAAAPh/AAAAAAAA+H9PLLg6QubhPwAAAAAAAPh/AAAAAAAA+H+4SXHptqXfPwAAAAAAAPh/AAAAAAAA+H8AAAAAAAD4f1cAaT/G1eE/AAAAAAAA+H8AAAAAAAD4fwAAAAAAAPh/AAAAAAAA+H8AAAAAAAD4fwAAAAAAAPh/AAAAAAAA+H8AAAAAAAD4fwAAAAAAAPh/AAAAAAAA+H8AAAAAAAD4fwAAAAAAAPh/AAAAAAAA+H8AAAAAAAD4fwAAAAAAAPh/AAAAAAAA+H8AAAAAAAD4fwAAAAAAAPh/B3S5DgbN4D8AAAAAAAD4fwAAAAAAAPh/AAAAAAAA+H/VUvF9Nv3dPwAAAAAAAPh/AAAAAAAA+H8AAAAAAAD4f/+I7W/OeOE/AAAAAAAA+H8AAAAAAAD4fwAAAAAAAPh/AAAAAAAA+H8AAAAAAAD4fwAAAAAAAPh/AAAAAAAA+H8AAAAAAAD4fwAAAAAAAPh/AAAAAAAA+H8AAAAAAAD4fwAAAAAAAPh/AAAAAAAA+H8AAAAAAAD4fwAAAAAAAPh/SED1jGbl4D8AAAAAAAD4fwAAAAAAAPh/AAAAAAAA+H8AAAAAAAD4fwAAAAAAAPh/AAAAAAAA+H/rqAVrDRPMPwAAAAAAAPh/AAAAAAAA+H/nNu07PqDaPwAAAAAAAPh/GB4oxeir0z8AAAAAAAD4fwAAAAAAAPh/AAAAAAAA+H8AAAAAAAD4fwAAAAAAAPh/AAAAAAAA+H8AAAAAAAD4fwAAAAAAAPh/AAAAAAAA+H8AAAAAAAD4fwAAAAAAAPh/vCBtFAAt1T8AAAAAAAD4fwAAAAAAAPh/AAAAAAAA+H8AAAAAAAD4fwAAAAAAAPh/AAAAAAAA+H8AAAAAAAD4fwAAAAAAAPh/AAAAAAAA+H8JxOZgbKnUPwAAAAAAAPh/AAAAAAAA+H8AAAAAAAD4fwAAAAAAAPh/AAAAAAAA+H8AAAAAAAD4fwAAAAAAAPh/AAAAAAAA+H8AAAAAAAD4fwAAAAAAAPh/AAAAAAAA+H8AAAAAAAD4fwAAAAAAAPh/AAAAAAAA+H8AAAAAAAD4fwAAAAAAAPh/AAAAAAAA+H8AAAAAAAD4fwAAAAAAAPh/AAAAAAAA+H8AAAAAAAD4fw==",
          "dtype": "f8",
          "shape": "11, 13"
         }
        },
        {
         "marker": {
          "color": "black",
          "line": {
           "color": "Gray",
           "width": 2
          }
         },
         "mode": "markers",
         "name": "Feasible Trial",
         "showlegend": false,
         "type": "scatter",
         "x": [
          19,
          11,
          7,
          16,
          13,
          5,
          12,
          17,
          20,
          14,
          19,
          13,
          20,
          4
         ],
         "y": [
          2,
          10,
          8,
          8,
          8,
          6,
          4,
          7,
          5,
          9,
          2,
          6,
          3,
          4
         ]
        },
        {
         "marker": {
          "color": "#cccccc",
          "line": {
           "color": "Gray",
           "width": 2
          }
         },
         "mode": "markers",
         "name": "Infeasible Trial",
         "showlegend": false,
         "type": "scatter",
         "x": [],
         "y": []
        }
       ],
       "layout": {
        "template": {
         "data": {
          "bar": [
           {
            "error_x": {
             "color": "#2a3f5f"
            },
            "error_y": {
             "color": "#2a3f5f"
            },
            "marker": {
             "line": {
              "color": "#E5ECF6",
              "width": 0.5
             },
             "pattern": {
              "fillmode": "overlay",
              "size": 10,
              "solidity": 0.2
             }
            },
            "type": "bar"
           }
          ],
          "barpolar": [
           {
            "marker": {
             "line": {
              "color": "#E5ECF6",
              "width": 0.5
             },
             "pattern": {
              "fillmode": "overlay",
              "size": 10,
              "solidity": 0.2
             }
            },
            "type": "barpolar"
           }
          ],
          "carpet": [
           {
            "aaxis": {
             "endlinecolor": "#2a3f5f",
             "gridcolor": "white",
             "linecolor": "white",
             "minorgridcolor": "white",
             "startlinecolor": "#2a3f5f"
            },
            "baxis": {
             "endlinecolor": "#2a3f5f",
             "gridcolor": "white",
             "linecolor": "white",
             "minorgridcolor": "white",
             "startlinecolor": "#2a3f5f"
            },
            "type": "carpet"
           }
          ],
          "choropleth": [
           {
            "colorbar": {
             "outlinewidth": 0,
             "ticks": ""
            },
            "type": "choropleth"
           }
          ],
          "contour": [
           {
            "colorbar": {
             "outlinewidth": 0,
             "ticks": ""
            },
            "colorscale": [
             [
              0,
              "#0d0887"
             ],
             [
              0.1111111111111111,
              "#46039f"
             ],
             [
              0.2222222222222222,
              "#7201a8"
             ],
             [
              0.3333333333333333,
              "#9c179e"
             ],
             [
              0.4444444444444444,
              "#bd3786"
             ],
             [
              0.5555555555555556,
              "#d8576b"
             ],
             [
              0.6666666666666666,
              "#ed7953"
             ],
             [
              0.7777777777777778,
              "#fb9f3a"
             ],
             [
              0.8888888888888888,
              "#fdca26"
             ],
             [
              1,
              "#f0f921"
             ]
            ],
            "type": "contour"
           }
          ],
          "contourcarpet": [
           {
            "colorbar": {
             "outlinewidth": 0,
             "ticks": ""
            },
            "type": "contourcarpet"
           }
          ],
          "heatmap": [
           {
            "colorbar": {
             "outlinewidth": 0,
             "ticks": ""
            },
            "colorscale": [
             [
              0,
              "#0d0887"
             ],
             [
              0.1111111111111111,
              "#46039f"
             ],
             [
              0.2222222222222222,
              "#7201a8"
             ],
             [
              0.3333333333333333,
              "#9c179e"
             ],
             [
              0.4444444444444444,
              "#bd3786"
             ],
             [
              0.5555555555555556,
              "#d8576b"
             ],
             [
              0.6666666666666666,
              "#ed7953"
             ],
             [
              0.7777777777777778,
              "#fb9f3a"
             ],
             [
              0.8888888888888888,
              "#fdca26"
             ],
             [
              1,
              "#f0f921"
             ]
            ],
            "type": "heatmap"
           }
          ],
          "histogram": [
           {
            "marker": {
             "pattern": {
              "fillmode": "overlay",
              "size": 10,
              "solidity": 0.2
             }
            },
            "type": "histogram"
           }
          ],
          "histogram2d": [
           {
            "colorbar": {
             "outlinewidth": 0,
             "ticks": ""
            },
            "colorscale": [
             [
              0,
              "#0d0887"
             ],
             [
              0.1111111111111111,
              "#46039f"
             ],
             [
              0.2222222222222222,
              "#7201a8"
             ],
             [
              0.3333333333333333,
              "#9c179e"
             ],
             [
              0.4444444444444444,
              "#bd3786"
             ],
             [
              0.5555555555555556,
              "#d8576b"
             ],
             [
              0.6666666666666666,
              "#ed7953"
             ],
             [
              0.7777777777777778,
              "#fb9f3a"
             ],
             [
              0.8888888888888888,
              "#fdca26"
             ],
             [
              1,
              "#f0f921"
             ]
            ],
            "type": "histogram2d"
           }
          ],
          "histogram2dcontour": [
           {
            "colorbar": {
             "outlinewidth": 0,
             "ticks": ""
            },
            "colorscale": [
             [
              0,
              "#0d0887"
             ],
             [
              0.1111111111111111,
              "#46039f"
             ],
             [
              0.2222222222222222,
              "#7201a8"
             ],
             [
              0.3333333333333333,
              "#9c179e"
             ],
             [
              0.4444444444444444,
              "#bd3786"
             ],
             [
              0.5555555555555556,
              "#d8576b"
             ],
             [
              0.6666666666666666,
              "#ed7953"
             ],
             [
              0.7777777777777778,
              "#fb9f3a"
             ],
             [
              0.8888888888888888,
              "#fdca26"
             ],
             [
              1,
              "#f0f921"
             ]
            ],
            "type": "histogram2dcontour"
           }
          ],
          "mesh3d": [
           {
            "colorbar": {
             "outlinewidth": 0,
             "ticks": ""
            },
            "type": "mesh3d"
           }
          ],
          "parcoords": [
           {
            "line": {
             "colorbar": {
              "outlinewidth": 0,
              "ticks": ""
             }
            },
            "type": "parcoords"
           }
          ],
          "pie": [
           {
            "automargin": true,
            "type": "pie"
           }
          ],
          "scatter": [
           {
            "fillpattern": {
             "fillmode": "overlay",
             "size": 10,
             "solidity": 0.2
            },
            "type": "scatter"
           }
          ],
          "scatter3d": [
           {
            "line": {
             "colorbar": {
              "outlinewidth": 0,
              "ticks": ""
             }
            },
            "marker": {
             "colorbar": {
              "outlinewidth": 0,
              "ticks": ""
             }
            },
            "type": "scatter3d"
           }
          ],
          "scattercarpet": [
           {
            "marker": {
             "colorbar": {
              "outlinewidth": 0,
              "ticks": ""
             }
            },
            "type": "scattercarpet"
           }
          ],
          "scattergeo": [
           {
            "marker": {
             "colorbar": {
              "outlinewidth": 0,
              "ticks": ""
             }
            },
            "type": "scattergeo"
           }
          ],
          "scattergl": [
           {
            "marker": {
             "colorbar": {
              "outlinewidth": 0,
              "ticks": ""
             }
            },
            "type": "scattergl"
           }
          ],
          "scattermap": [
           {
            "marker": {
             "colorbar": {
              "outlinewidth": 0,
              "ticks": ""
             }
            },
            "type": "scattermap"
           }
          ],
          "scattermapbox": [
           {
            "marker": {
             "colorbar": {
              "outlinewidth": 0,
              "ticks": ""
             }
            },
            "type": "scattermapbox"
           }
          ],
          "scatterpolar": [
           {
            "marker": {
             "colorbar": {
              "outlinewidth": 0,
              "ticks": ""
             }
            },
            "type": "scatterpolar"
           }
          ],
          "scatterpolargl": [
           {
            "marker": {
             "colorbar": {
              "outlinewidth": 0,
              "ticks": ""
             }
            },
            "type": "scatterpolargl"
           }
          ],
          "scatterternary": [
           {
            "marker": {
             "colorbar": {
              "outlinewidth": 0,
              "ticks": ""
             }
            },
            "type": "scatterternary"
           }
          ],
          "surface": [
           {
            "colorbar": {
             "outlinewidth": 0,
             "ticks": ""
            },
            "colorscale": [
             [
              0,
              "#0d0887"
             ],
             [
              0.1111111111111111,
              "#46039f"
             ],
             [
              0.2222222222222222,
              "#7201a8"
             ],
             [
              0.3333333333333333,
              "#9c179e"
             ],
             [
              0.4444444444444444,
              "#bd3786"
             ],
             [
              0.5555555555555556,
              "#d8576b"
             ],
             [
              0.6666666666666666,
              "#ed7953"
             ],
             [
              0.7777777777777778,
              "#fb9f3a"
             ],
             [
              0.8888888888888888,
              "#fdca26"
             ],
             [
              1,
              "#f0f921"
             ]
            ],
            "type": "surface"
           }
          ],
          "table": [
           {
            "cells": {
             "fill": {
              "color": "#EBF0F8"
             },
             "line": {
              "color": "white"
             }
            },
            "header": {
             "fill": {
              "color": "#C8D4E3"
             },
             "line": {
              "color": "white"
             }
            },
            "type": "table"
           }
          ]
         },
         "layout": {
          "annotationdefaults": {
           "arrowcolor": "#2a3f5f",
           "arrowhead": 0,
           "arrowwidth": 1
          },
          "autotypenumbers": "strict",
          "coloraxis": {
           "colorbar": {
            "outlinewidth": 0,
            "ticks": ""
           }
          },
          "colorscale": {
           "diverging": [
            [
             0,
             "#8e0152"
            ],
            [
             0.1,
             "#c51b7d"
            ],
            [
             0.2,
             "#de77ae"
            ],
            [
             0.3,
             "#f1b6da"
            ],
            [
             0.4,
             "#fde0ef"
            ],
            [
             0.5,
             "#f7f7f7"
            ],
            [
             0.6,
             "#e6f5d0"
            ],
            [
             0.7,
             "#b8e186"
            ],
            [
             0.8,
             "#7fbc41"
            ],
            [
             0.9,
             "#4d9221"
            ],
            [
             1,
             "#276419"
            ]
           ],
           "sequential": [
            [
             0,
             "#0d0887"
            ],
            [
             0.1111111111111111,
             "#46039f"
            ],
            [
             0.2222222222222222,
             "#7201a8"
            ],
            [
             0.3333333333333333,
             "#9c179e"
            ],
            [
             0.4444444444444444,
             "#bd3786"
            ],
            [
             0.5555555555555556,
             "#d8576b"
            ],
            [
             0.6666666666666666,
             "#ed7953"
            ],
            [
             0.7777777777777778,
             "#fb9f3a"
            ],
            [
             0.8888888888888888,
             "#fdca26"
            ],
            [
             1,
             "#f0f921"
            ]
           ],
           "sequentialminus": [
            [
             0,
             "#0d0887"
            ],
            [
             0.1111111111111111,
             "#46039f"
            ],
            [
             0.2222222222222222,
             "#7201a8"
            ],
            [
             0.3333333333333333,
             "#9c179e"
            ],
            [
             0.4444444444444444,
             "#bd3786"
            ],
            [
             0.5555555555555556,
             "#d8576b"
            ],
            [
             0.6666666666666666,
             "#ed7953"
            ],
            [
             0.7777777777777778,
             "#fb9f3a"
            ],
            [
             0.8888888888888888,
             "#fdca26"
            ],
            [
             1,
             "#f0f921"
            ]
           ]
          },
          "colorway": [
           "#636efa",
           "#EF553B",
           "#00cc96",
           "#ab63fa",
           "#FFA15A",
           "#19d3f3",
           "#FF6692",
           "#B6E880",
           "#FF97FF",
           "#FECB52"
          ],
          "font": {
           "color": "#2a3f5f"
          },
          "geo": {
           "bgcolor": "white",
           "lakecolor": "white",
           "landcolor": "#E5ECF6",
           "showlakes": true,
           "showland": true,
           "subunitcolor": "white"
          },
          "hoverlabel": {
           "align": "left"
          },
          "hovermode": "closest",
          "mapbox": {
           "style": "light"
          },
          "paper_bgcolor": "white",
          "plot_bgcolor": "#E5ECF6",
          "polar": {
           "angularaxis": {
            "gridcolor": "white",
            "linecolor": "white",
            "ticks": ""
           },
           "bgcolor": "#E5ECF6",
           "radialaxis": {
            "gridcolor": "white",
            "linecolor": "white",
            "ticks": ""
           }
          },
          "scene": {
           "xaxis": {
            "backgroundcolor": "#E5ECF6",
            "gridcolor": "white",
            "gridwidth": 2,
            "linecolor": "white",
            "showbackground": true,
            "ticks": "",
            "zerolinecolor": "white"
           },
           "yaxis": {
            "backgroundcolor": "#E5ECF6",
            "gridcolor": "white",
            "gridwidth": 2,
            "linecolor": "white",
            "showbackground": true,
            "ticks": "",
            "zerolinecolor": "white"
           },
           "zaxis": {
            "backgroundcolor": "#E5ECF6",
            "gridcolor": "white",
            "gridwidth": 2,
            "linecolor": "white",
            "showbackground": true,
            "ticks": "",
            "zerolinecolor": "white"
           }
          },
          "shapedefaults": {
           "line": {
            "color": "#2a3f5f"
           }
          },
          "ternary": {
           "aaxis": {
            "gridcolor": "white",
            "linecolor": "white",
            "ticks": ""
           },
           "baxis": {
            "gridcolor": "white",
            "linecolor": "white",
            "ticks": ""
           },
           "bgcolor": "#E5ECF6",
           "caxis": {
            "gridcolor": "white",
            "linecolor": "white",
            "ticks": ""
           }
          },
          "title": {
           "x": 0.05
          },
          "xaxis": {
           "automargin": true,
           "gridcolor": "white",
           "linecolor": "white",
           "ticks": "",
           "title": {
            "standoff": 15
           },
           "zerolinecolor": "white",
           "zerolinewidth": 2
          },
          "yaxis": {
           "automargin": true,
           "gridcolor": "white",
           "linecolor": "white",
           "ticks": "",
           "title": {
            "standoff": 15
           },
           "zerolinecolor": "white",
           "zerolinewidth": 2
          }
         }
        },
        "title": {
         "text": "Contour Plot"
        },
        "xaxis": {
         "range": [
          3.2,
          20.8
         ],
         "title": {
          "text": "dt_max_depth"
         }
        },
        "yaxis": {
         "range": [
          1.6,
          10.4
         ],
         "title": {
          "text": "dt_min_samples_split"
         }
        }
       }
      },
      "text/html": [
       "<div>            <script src=\"https://cdnjs.cloudflare.com/ajax/libs/mathjax/2.7.5/MathJax.js?config=TeX-AMS-MML_SVG\"></script><script type=\"text/javascript\">if (window.MathJax && window.MathJax.Hub && window.MathJax.Hub.Config) {window.MathJax.Hub.Config({SVG: {font: \"STIX-Web\"}});}</script>                <script type=\"text/javascript\">window.PlotlyConfig = {MathJaxConfig: 'local'};</script>\n",
       "        <script charset=\"utf-8\" src=\"https://cdn.plot.ly/plotly-3.0.1.min.js\" integrity=\"sha256-oy6Be7Eh6eiQFs5M7oXuPxxm9qbJXEtTpfSI93dW16Q=\" crossorigin=\"anonymous\"></script>                <div id=\"114297ba-2b10-402f-aa88-3f221b843d2a\" class=\"plotly-graph-div\" style=\"height:525px; width:100%;\"></div>            <script type=\"text/javascript\">                window.PLOTLYENV=window.PLOTLYENV || {};                                if (document.getElementById(\"114297ba-2b10-402f-aa88-3f221b843d2a\")) {                    Plotly.newPlot(                        \"114297ba-2b10-402f-aa88-3f221b843d2a\",                        [{\"colorbar\":{\"title\":{\"text\":\"Objective Value\"}},\"colorscale\":[[0.0,\"rgb(247,251,255)\"],[0.125,\"rgb(222,235,247)\"],[0.25,\"rgb(198,219,239)\"],[0.375,\"rgb(158,202,225)\"],[0.5,\"rgb(107,174,214)\"],[0.625,\"rgb(66,146,198)\"],[0.75,\"rgb(33,113,181)\"],[0.875,\"rgb(8,81,156)\"],[1.0,\"rgb(8,48,107)\"]],\"connectgaps\":true,\"contours\":{\"coloring\":\"heatmap\"},\"hoverinfo\":\"none\",\"line\":{\"smoothing\":1.3},\"reversescale\":false,\"x\":[3.2,4,5,7,11,12,13,14,16,17,19,20,20.8],\"y\":[1.6,2,3,4,5,6,7,8,9,10,10.4],\"z\":{\"dtype\":\"f8\",\"bdata\":\"AAAAAAAA+H8AAAAAAAD4fwAAAAAAAPh\\u002fAAAAAAAA+H8AAAAAAAD4fwAAAAAAAPh\\u002fAAAAAAAA+H8AAAAAAAD4fwAAAAAAAPh\\u002fAAAAAAAA+H8AAAAAAAD4fwAAAAAAAPh\\u002fAAAAAAAA+H8AAAAAAAD4fwAAAAAAAPh\\u002fAAAAAAAA+H8AAAAAAAD4fwAAAAAAAPh\\u002fAAAAAAAA+H8AAAAAAAD4fwAAAAAAAPh\\u002fAAAAAAAA+H8AAAAAAAD4f4o1aY\\u002fXzdQ\\u002fAAAAAAAA+H8AAAAAAAD4fwAAAAAAAPh\\u002fAAAAAAAA+H8AAAAAAAD4fwAAAAAAAPh\\u002fAAAAAAAA+H8AAAAAAAD4fwAAAAAAAPh\\u002fAAAAAAAA+H8AAAAAAAD4fwAAAAAAAPh\\u002fAAAAAAAA+H9PLLg6QubhPwAAAAAAAPh\\u002fAAAAAAAA+H+4SXHptqXfPwAAAAAAAPh\\u002fAAAAAAAA+H8AAAAAAAD4f1cAaT\\u002fG1eE\\u002fAAAAAAAA+H8AAAAAAAD4fwAAAAAAAPh\\u002fAAAAAAAA+H8AAAAAAAD4fwAAAAAAAPh\\u002fAAAAAAAA+H8AAAAAAAD4fwAAAAAAAPh\\u002fAAAAAAAA+H8AAAAAAAD4fwAAAAAAAPh\\u002fAAAAAAAA+H8AAAAAAAD4fwAAAAAAAPh\\u002fAAAAAAAA+H8AAAAAAAD4fwAAAAAAAPh\\u002fB3S5DgbN4D8AAAAAAAD4fwAAAAAAAPh\\u002fAAAAAAAA+H\\u002fVUvF9Nv3dPwAAAAAAAPh\\u002fAAAAAAAA+H8AAAAAAAD4f\\u002f+I7W\\u002fOeOE\\u002fAAAAAAAA+H8AAAAAAAD4fwAAAAAAAPh\\u002fAAAAAAAA+H8AAAAAAAD4fwAAAAAAAPh\\u002fAAAAAAAA+H8AAAAAAAD4fwAAAAAAAPh\\u002fAAAAAAAA+H8AAAAAAAD4fwAAAAAAAPh\\u002fAAAAAAAA+H8AAAAAAAD4fwAAAAAAAPh\\u002fSED1jGbl4D8AAAAAAAD4fwAAAAAAAPh\\u002fAAAAAAAA+H8AAAAAAAD4fwAAAAAAAPh\\u002fAAAAAAAA+H\\u002frqAVrDRPMPwAAAAAAAPh\\u002fAAAAAAAA+H\\u002fnNu07PqDaPwAAAAAAAPh\\u002fGB4oxeir0z8AAAAAAAD4fwAAAAAAAPh\\u002fAAAAAAAA+H8AAAAAAAD4fwAAAAAAAPh\\u002fAAAAAAAA+H8AAAAAAAD4fwAAAAAAAPh\\u002fAAAAAAAA+H8AAAAAAAD4fwAAAAAAAPh\\u002fvCBtFAAt1T8AAAAAAAD4fwAAAAAAAPh\\u002fAAAAAAAA+H8AAAAAAAD4fwAAAAAAAPh\\u002fAAAAAAAA+H8AAAAAAAD4fwAAAAAAAPh\\u002fAAAAAAAA+H8JxOZgbKnUPwAAAAAAAPh\\u002fAAAAAAAA+H8AAAAAAAD4fwAAAAAAAPh\\u002fAAAAAAAA+H8AAAAAAAD4fwAAAAAAAPh\\u002fAAAAAAAA+H8AAAAAAAD4fwAAAAAAAPh\\u002fAAAAAAAA+H8AAAAAAAD4fwAAAAAAAPh\\u002fAAAAAAAA+H8AAAAAAAD4fwAAAAAAAPh\\u002fAAAAAAAA+H8AAAAAAAD4fwAAAAAAAPh\\u002fAAAAAAAA+H8AAAAAAAD4fw==\",\"shape\":\"11, 13\"},\"type\":\"contour\"},{\"marker\":{\"color\":\"black\",\"line\":{\"color\":\"Gray\",\"width\":2.0}},\"mode\":\"markers\",\"name\":\"Feasible Trial\",\"showlegend\":false,\"x\":[19,11,7,16,13,5,12,17,20,14,19,13,20,4],\"y\":[2,10,8,8,8,6,4,7,5,9,2,6,3,4],\"type\":\"scatter\"},{\"marker\":{\"color\":\"#cccccc\",\"line\":{\"color\":\"Gray\",\"width\":2.0}},\"mode\":\"markers\",\"name\":\"Infeasible Trial\",\"showlegend\":false,\"x\":[],\"y\":[],\"type\":\"scatter\"}],                        {\"title\":{\"text\":\"Contour Plot\"},\"template\":{\"data\":{\"histogram2dcontour\":[{\"type\":\"histogram2dcontour\",\"colorbar\":{\"outlinewidth\":0,\"ticks\":\"\"},\"colorscale\":[[0.0,\"#0d0887\"],[0.1111111111111111,\"#46039f\"],[0.2222222222222222,\"#7201a8\"],[0.3333333333333333,\"#9c179e\"],[0.4444444444444444,\"#bd3786\"],[0.5555555555555556,\"#d8576b\"],[0.6666666666666666,\"#ed7953\"],[0.7777777777777778,\"#fb9f3a\"],[0.8888888888888888,\"#fdca26\"],[1.0,\"#f0f921\"]]}],\"choropleth\":[{\"type\":\"choropleth\",\"colorbar\":{\"outlinewidth\":0,\"ticks\":\"\"}}],\"histogram2d\":[{\"type\":\"histogram2d\",\"colorbar\":{\"outlinewidth\":0,\"ticks\":\"\"},\"colorscale\":[[0.0,\"#0d0887\"],[0.1111111111111111,\"#46039f\"],[0.2222222222222222,\"#7201a8\"],[0.3333333333333333,\"#9c179e\"],[0.4444444444444444,\"#bd3786\"],[0.5555555555555556,\"#d8576b\"],[0.6666666666666666,\"#ed7953\"],[0.7777777777777778,\"#fb9f3a\"],[0.8888888888888888,\"#fdca26\"],[1.0,\"#f0f921\"]]}],\"heatmap\":[{\"type\":\"heatmap\",\"colorbar\":{\"outlinewidth\":0,\"ticks\":\"\"},\"colorscale\":[[0.0,\"#0d0887\"],[0.1111111111111111,\"#46039f\"],[0.2222222222222222,\"#7201a8\"],[0.3333333333333333,\"#9c179e\"],[0.4444444444444444,\"#bd3786\"],[0.5555555555555556,\"#d8576b\"],[0.6666666666666666,\"#ed7953\"],[0.7777777777777778,\"#fb9f3a\"],[0.8888888888888888,\"#fdca26\"],[1.0,\"#f0f921\"]]}],\"contourcarpet\":[{\"type\":\"contourcarpet\",\"colorbar\":{\"outlinewidth\":0,\"ticks\":\"\"}}],\"contour\":[{\"type\":\"contour\",\"colorbar\":{\"outlinewidth\":0,\"ticks\":\"\"},\"colorscale\":[[0.0,\"#0d0887\"],[0.1111111111111111,\"#46039f\"],[0.2222222222222222,\"#7201a8\"],[0.3333333333333333,\"#9c179e\"],[0.4444444444444444,\"#bd3786\"],[0.5555555555555556,\"#d8576b\"],[0.6666666666666666,\"#ed7953\"],[0.7777777777777778,\"#fb9f3a\"],[0.8888888888888888,\"#fdca26\"],[1.0,\"#f0f921\"]]}],\"surface\":[{\"type\":\"surface\",\"colorbar\":{\"outlinewidth\":0,\"ticks\":\"\"},\"colorscale\":[[0.0,\"#0d0887\"],[0.1111111111111111,\"#46039f\"],[0.2222222222222222,\"#7201a8\"],[0.3333333333333333,\"#9c179e\"],[0.4444444444444444,\"#bd3786\"],[0.5555555555555556,\"#d8576b\"],[0.6666666666666666,\"#ed7953\"],[0.7777777777777778,\"#fb9f3a\"],[0.8888888888888888,\"#fdca26\"],[1.0,\"#f0f921\"]]}],\"mesh3d\":[{\"type\":\"mesh3d\",\"colorbar\":{\"outlinewidth\":0,\"ticks\":\"\"}}],\"scatter\":[{\"fillpattern\":{\"fillmode\":\"overlay\",\"size\":10,\"solidity\":0.2},\"type\":\"scatter\"}],\"parcoords\":[{\"type\":\"parcoords\",\"line\":{\"colorbar\":{\"outlinewidth\":0,\"ticks\":\"\"}}}],\"scatterpolargl\":[{\"type\":\"scatterpolargl\",\"marker\":{\"colorbar\":{\"outlinewidth\":0,\"ticks\":\"\"}}}],\"bar\":[{\"error_x\":{\"color\":\"#2a3f5f\"},\"error_y\":{\"color\":\"#2a3f5f\"},\"marker\":{\"line\":{\"color\":\"#E5ECF6\",\"width\":0.5},\"pattern\":{\"fillmode\":\"overlay\",\"size\":10,\"solidity\":0.2}},\"type\":\"bar\"}],\"scattergeo\":[{\"type\":\"scattergeo\",\"marker\":{\"colorbar\":{\"outlinewidth\":0,\"ticks\":\"\"}}}],\"scatterpolar\":[{\"type\":\"scatterpolar\",\"marker\":{\"colorbar\":{\"outlinewidth\":0,\"ticks\":\"\"}}}],\"histogram\":[{\"marker\":{\"pattern\":{\"fillmode\":\"overlay\",\"size\":10,\"solidity\":0.2}},\"type\":\"histogram\"}],\"scattergl\":[{\"type\":\"scattergl\",\"marker\":{\"colorbar\":{\"outlinewidth\":0,\"ticks\":\"\"}}}],\"scatter3d\":[{\"type\":\"scatter3d\",\"line\":{\"colorbar\":{\"outlinewidth\":0,\"ticks\":\"\"}},\"marker\":{\"colorbar\":{\"outlinewidth\":0,\"ticks\":\"\"}}}],\"scattermap\":[{\"type\":\"scattermap\",\"marker\":{\"colorbar\":{\"outlinewidth\":0,\"ticks\":\"\"}}}],\"scattermapbox\":[{\"type\":\"scattermapbox\",\"marker\":{\"colorbar\":{\"outlinewidth\":0,\"ticks\":\"\"}}}],\"scatterternary\":[{\"type\":\"scatterternary\",\"marker\":{\"colorbar\":{\"outlinewidth\":0,\"ticks\":\"\"}}}],\"scattercarpet\":[{\"type\":\"scattercarpet\",\"marker\":{\"colorbar\":{\"outlinewidth\":0,\"ticks\":\"\"}}}],\"carpet\":[{\"aaxis\":{\"endlinecolor\":\"#2a3f5f\",\"gridcolor\":\"white\",\"linecolor\":\"white\",\"minorgridcolor\":\"white\",\"startlinecolor\":\"#2a3f5f\"},\"baxis\":{\"endlinecolor\":\"#2a3f5f\",\"gridcolor\":\"white\",\"linecolor\":\"white\",\"minorgridcolor\":\"white\",\"startlinecolor\":\"#2a3f5f\"},\"type\":\"carpet\"}],\"table\":[{\"cells\":{\"fill\":{\"color\":\"#EBF0F8\"},\"line\":{\"color\":\"white\"}},\"header\":{\"fill\":{\"color\":\"#C8D4E3\"},\"line\":{\"color\":\"white\"}},\"type\":\"table\"}],\"barpolar\":[{\"marker\":{\"line\":{\"color\":\"#E5ECF6\",\"width\":0.5},\"pattern\":{\"fillmode\":\"overlay\",\"size\":10,\"solidity\":0.2}},\"type\":\"barpolar\"}],\"pie\":[{\"automargin\":true,\"type\":\"pie\"}]},\"layout\":{\"autotypenumbers\":\"strict\",\"colorway\":[\"#636efa\",\"#EF553B\",\"#00cc96\",\"#ab63fa\",\"#FFA15A\",\"#19d3f3\",\"#FF6692\",\"#B6E880\",\"#FF97FF\",\"#FECB52\"],\"font\":{\"color\":\"#2a3f5f\"},\"hovermode\":\"closest\",\"hoverlabel\":{\"align\":\"left\"},\"paper_bgcolor\":\"white\",\"plot_bgcolor\":\"#E5ECF6\",\"polar\":{\"bgcolor\":\"#E5ECF6\",\"angularaxis\":{\"gridcolor\":\"white\",\"linecolor\":\"white\",\"ticks\":\"\"},\"radialaxis\":{\"gridcolor\":\"white\",\"linecolor\":\"white\",\"ticks\":\"\"}},\"ternary\":{\"bgcolor\":\"#E5ECF6\",\"aaxis\":{\"gridcolor\":\"white\",\"linecolor\":\"white\",\"ticks\":\"\"},\"baxis\":{\"gridcolor\":\"white\",\"linecolor\":\"white\",\"ticks\":\"\"},\"caxis\":{\"gridcolor\":\"white\",\"linecolor\":\"white\",\"ticks\":\"\"}},\"coloraxis\":{\"colorbar\":{\"outlinewidth\":0,\"ticks\":\"\"}},\"colorscale\":{\"sequential\":[[0.0,\"#0d0887\"],[0.1111111111111111,\"#46039f\"],[0.2222222222222222,\"#7201a8\"],[0.3333333333333333,\"#9c179e\"],[0.4444444444444444,\"#bd3786\"],[0.5555555555555556,\"#d8576b\"],[0.6666666666666666,\"#ed7953\"],[0.7777777777777778,\"#fb9f3a\"],[0.8888888888888888,\"#fdca26\"],[1.0,\"#f0f921\"]],\"sequentialminus\":[[0.0,\"#0d0887\"],[0.1111111111111111,\"#46039f\"],[0.2222222222222222,\"#7201a8\"],[0.3333333333333333,\"#9c179e\"],[0.4444444444444444,\"#bd3786\"],[0.5555555555555556,\"#d8576b\"],[0.6666666666666666,\"#ed7953\"],[0.7777777777777778,\"#fb9f3a\"],[0.8888888888888888,\"#fdca26\"],[1.0,\"#f0f921\"]],\"diverging\":[[0,\"#8e0152\"],[0.1,\"#c51b7d\"],[0.2,\"#de77ae\"],[0.3,\"#f1b6da\"],[0.4,\"#fde0ef\"],[0.5,\"#f7f7f7\"],[0.6,\"#e6f5d0\"],[0.7,\"#b8e186\"],[0.8,\"#7fbc41\"],[0.9,\"#4d9221\"],[1,\"#276419\"]]},\"xaxis\":{\"gridcolor\":\"white\",\"linecolor\":\"white\",\"ticks\":\"\",\"title\":{\"standoff\":15},\"zerolinecolor\":\"white\",\"automargin\":true,\"zerolinewidth\":2},\"yaxis\":{\"gridcolor\":\"white\",\"linecolor\":\"white\",\"ticks\":\"\",\"title\":{\"standoff\":15},\"zerolinecolor\":\"white\",\"automargin\":true,\"zerolinewidth\":2},\"scene\":{\"xaxis\":{\"backgroundcolor\":\"#E5ECF6\",\"gridcolor\":\"white\",\"linecolor\":\"white\",\"showbackground\":true,\"ticks\":\"\",\"zerolinecolor\":\"white\",\"gridwidth\":2},\"yaxis\":{\"backgroundcolor\":\"#E5ECF6\",\"gridcolor\":\"white\",\"linecolor\":\"white\",\"showbackground\":true,\"ticks\":\"\",\"zerolinecolor\":\"white\",\"gridwidth\":2},\"zaxis\":{\"backgroundcolor\":\"#E5ECF6\",\"gridcolor\":\"white\",\"linecolor\":\"white\",\"showbackground\":true,\"ticks\":\"\",\"zerolinecolor\":\"white\",\"gridwidth\":2}},\"shapedefaults\":{\"line\":{\"color\":\"#2a3f5f\"}},\"annotationdefaults\":{\"arrowcolor\":\"#2a3f5f\",\"arrowhead\":0,\"arrowwidth\":1},\"geo\":{\"bgcolor\":\"white\",\"landcolor\":\"#E5ECF6\",\"subunitcolor\":\"white\",\"showland\":true,\"showlakes\":true,\"lakecolor\":\"white\"},\"title\":{\"x\":0.05},\"mapbox\":{\"style\":\"light\"}}},\"xaxis\":{\"title\":{\"text\":\"dt_max_depth\"},\"range\":[3.2,20.8]},\"yaxis\":{\"title\":{\"text\":\"dt_min_samples_split\"},\"range\":[1.6,10.4]}},                        {\"responsive\": true}                    ).then(function(){\n",
       "                            \n",
       "var gd = document.getElementById('114297ba-2b10-402f-aa88-3f221b843d2a');\n",
       "var x = new MutationObserver(function (mutations, observer) {{\n",
       "        var display = window.getComputedStyle(gd).display;\n",
       "        if (!display || display === 'none') {{\n",
       "            console.log([gd, 'removed!']);\n",
       "            Plotly.purge(gd);\n",
       "            observer.disconnect();\n",
       "        }}\n",
       "}});\n",
       "\n",
       "// Listen for the removal of the full notebook cells\n",
       "var notebookContainer = gd.closest('#notebook-container');\n",
       "if (notebookContainer) {{\n",
       "    x.observe(notebookContainer, {childList: true});\n",
       "}}\n",
       "\n",
       "// Listen for the clearing of the current output cell\n",
       "var outputEl = gd.closest('.output');\n",
       "if (outputEl) {{\n",
       "    x.observe(outputEl, {childList: true});\n",
       "}}\n",
       "\n",
       "                        })                };            </script>        </div>"
      ]
     },
     "metadata": {},
     "output_type": "display_data"
    }
   ],
   "source": [
    "params=trial.params\n",
    "clf_str=params.pop(\"classifier\", None)\n",
    "\n",
    "optuna.visualization.plot_contour(study,params.keys())"
   ]
  },
  {
   "cell_type": "code",
   "execution_count": 54,
   "id": "f2d34b4e-40f6-45a0-a2ba-e6b96b01287f",
   "metadata": {},
   "outputs": [
    {
     "data": {
      "text/html": [
       "<div>\n",
       "<style scoped>\n",
       "    .dataframe tbody tr th:only-of-type {\n",
       "        vertical-align: middle;\n",
       "    }\n",
       "\n",
       "    .dataframe tbody tr th {\n",
       "        vertical-align: top;\n",
       "    }\n",
       "\n",
       "    .dataframe thead th {\n",
       "        text-align: right;\n",
       "    }\n",
       "</style>\n",
       "<table border=\"1\" class=\"dataframe\">\n",
       "  <thead>\n",
       "    <tr style=\"text-align: right;\">\n",
       "      <th></th>\n",
       "      <th>number</th>\n",
       "      <th>value</th>\n",
       "      <th>datetime_start</th>\n",
       "      <th>datetime_complete</th>\n",
       "      <th>duration</th>\n",
       "      <th>params_classifier</th>\n",
       "      <th>params_dt_max_depth</th>\n",
       "      <th>params_dt_min_samples_split</th>\n",
       "      <th>params_et_max_depth</th>\n",
       "      <th>params_et_min_samples_split</th>\n",
       "      <th>...</th>\n",
       "      <th>params_rf_max_depth</th>\n",
       "      <th>params_rf_min_samples_split</th>\n",
       "      <th>params_rf_n_estimators</th>\n",
       "      <th>params_ridge_alpha</th>\n",
       "      <th>params_sgd_alpha</th>\n",
       "      <th>params_sgd_loss</th>\n",
       "      <th>params_svc_C</th>\n",
       "      <th>params_svc_gamma</th>\n",
       "      <th>params_svc_kernel</th>\n",
       "      <th>state</th>\n",
       "    </tr>\n",
       "  </thead>\n",
       "  <tbody>\n",
       "    <tr>\n",
       "      <th>0</th>\n",
       "      <td>0</td>\n",
       "      <td>0.445499</td>\n",
       "      <td>2025-07-13 12:23:51.040635</td>\n",
       "      <td>2025-07-13 12:23:54.433487</td>\n",
       "      <td>0 days 00:00:03.392852</td>\n",
       "      <td>pac</td>\n",
       "      <td>NaN</td>\n",
       "      <td>NaN</td>\n",
       "      <td>NaN</td>\n",
       "      <td>NaN</td>\n",
       "      <td>...</td>\n",
       "      <td>NaN</td>\n",
       "      <td>NaN</td>\n",
       "      <td>NaN</td>\n",
       "      <td>NaN</td>\n",
       "      <td>NaN</td>\n",
       "      <td>NaN</td>\n",
       "      <td>NaN</td>\n",
       "      <td>NaN</td>\n",
       "      <td>NaN</td>\n",
       "      <td>COMPLETE</td>\n",
       "    </tr>\n",
       "    <tr>\n",
       "      <th>1</th>\n",
       "      <td>1</td>\n",
       "      <td>0.350314</td>\n",
       "      <td>2025-07-13 12:23:51.041074</td>\n",
       "      <td>2025-07-13 12:23:53.965345</td>\n",
       "      <td>0 days 00:00:02.924271</td>\n",
       "      <td>pac</td>\n",
       "      <td>NaN</td>\n",
       "      <td>NaN</td>\n",
       "      <td>NaN</td>\n",
       "      <td>NaN</td>\n",
       "      <td>...</td>\n",
       "      <td>NaN</td>\n",
       "      <td>NaN</td>\n",
       "      <td>NaN</td>\n",
       "      <td>NaN</td>\n",
       "      <td>NaN</td>\n",
       "      <td>NaN</td>\n",
       "      <td>NaN</td>\n",
       "      <td>NaN</td>\n",
       "      <td>NaN</td>\n",
       "      <td>COMPLETE</td>\n",
       "    </tr>\n",
       "    <tr>\n",
       "      <th>2</th>\n",
       "      <td>2</td>\n",
       "      <td>0.493960</td>\n",
       "      <td>2025-07-13 12:23:51.041476</td>\n",
       "      <td>2025-07-13 12:23:51.765870</td>\n",
       "      <td>0 days 00:00:00.724394</td>\n",
       "      <td>sgd</td>\n",
       "      <td>NaN</td>\n",
       "      <td>NaN</td>\n",
       "      <td>NaN</td>\n",
       "      <td>NaN</td>\n",
       "      <td>...</td>\n",
       "      <td>NaN</td>\n",
       "      <td>NaN</td>\n",
       "      <td>NaN</td>\n",
       "      <td>NaN</td>\n",
       "      <td>0.011135</td>\n",
       "      <td>hinge</td>\n",
       "      <td>NaN</td>\n",
       "      <td>NaN</td>\n",
       "      <td>NaN</td>\n",
       "      <td>COMPLETE</td>\n",
       "    </tr>\n",
       "    <tr>\n",
       "      <th>3</th>\n",
       "      <td>3</td>\n",
       "      <td>0.299205</td>\n",
       "      <td>2025-07-13 12:23:51.041881</td>\n",
       "      <td>2025-07-13 12:23:53.944868</td>\n",
       "      <td>0 days 00:00:02.902987</td>\n",
       "      <td>pac</td>\n",
       "      <td>NaN</td>\n",
       "      <td>NaN</td>\n",
       "      <td>NaN</td>\n",
       "      <td>NaN</td>\n",
       "      <td>...</td>\n",
       "      <td>NaN</td>\n",
       "      <td>NaN</td>\n",
       "      <td>NaN</td>\n",
       "      <td>NaN</td>\n",
       "      <td>NaN</td>\n",
       "      <td>NaN</td>\n",
       "      <td>NaN</td>\n",
       "      <td>NaN</td>\n",
       "      <td>NaN</td>\n",
       "      <td>COMPLETE</td>\n",
       "    </tr>\n",
       "    <tr>\n",
       "      <th>4</th>\n",
       "      <td>4</td>\n",
       "      <td>0.403094</td>\n",
       "      <td>2025-07-13 12:23:51.042254</td>\n",
       "      <td>2025-07-13 12:23:51.585727</td>\n",
       "      <td>0 days 00:00:00.543473</td>\n",
       "      <td>etrees</td>\n",
       "      <td>NaN</td>\n",
       "      <td>NaN</td>\n",
       "      <td>NaN</td>\n",
       "      <td>NaN</td>\n",
       "      <td>...</td>\n",
       "      <td>NaN</td>\n",
       "      <td>NaN</td>\n",
       "      <td>NaN</td>\n",
       "      <td>NaN</td>\n",
       "      <td>NaN</td>\n",
       "      <td>NaN</td>\n",
       "      <td>NaN</td>\n",
       "      <td>NaN</td>\n",
       "      <td>NaN</td>\n",
       "      <td>COMPLETE</td>\n",
       "    </tr>\n",
       "    <tr>\n",
       "      <th>...</th>\n",
       "      <td>...</td>\n",
       "      <td>...</td>\n",
       "      <td>...</td>\n",
       "      <td>...</td>\n",
       "      <td>...</td>\n",
       "      <td>...</td>\n",
       "      <td>...</td>\n",
       "      <td>...</td>\n",
       "      <td>...</td>\n",
       "      <td>...</td>\n",
       "      <td>...</td>\n",
       "      <td>...</td>\n",
       "      <td>...</td>\n",
       "      <td>...</td>\n",
       "      <td>...</td>\n",
       "      <td>...</td>\n",
       "      <td>...</td>\n",
       "      <td>...</td>\n",
       "      <td>...</td>\n",
       "      <td>...</td>\n",
       "      <td>...</td>\n",
       "    </tr>\n",
       "    <tr>\n",
       "      <th>272</th>\n",
       "      <td>272</td>\n",
       "      <td>NaN</td>\n",
       "      <td>2025-07-13 12:29:45.941842</td>\n",
       "      <td>NaT</td>\n",
       "      <td>NaT</td>\n",
       "      <td>lr</td>\n",
       "      <td>NaN</td>\n",
       "      <td>NaN</td>\n",
       "      <td>NaN</td>\n",
       "      <td>NaN</td>\n",
       "      <td>...</td>\n",
       "      <td>NaN</td>\n",
       "      <td>NaN</td>\n",
       "      <td>NaN</td>\n",
       "      <td>NaN</td>\n",
       "      <td>NaN</td>\n",
       "      <td>NaN</td>\n",
       "      <td>NaN</td>\n",
       "      <td>NaN</td>\n",
       "      <td>NaN</td>\n",
       "      <td>RUNNING</td>\n",
       "    </tr>\n",
       "    <tr>\n",
       "      <th>273</th>\n",
       "      <td>273</td>\n",
       "      <td>NaN</td>\n",
       "      <td>2025-07-13 12:29:48.305010</td>\n",
       "      <td>NaT</td>\n",
       "      <td>NaT</td>\n",
       "      <td>lr</td>\n",
       "      <td>NaN</td>\n",
       "      <td>NaN</td>\n",
       "      <td>NaN</td>\n",
       "      <td>NaN</td>\n",
       "      <td>...</td>\n",
       "      <td>NaN</td>\n",
       "      <td>NaN</td>\n",
       "      <td>NaN</td>\n",
       "      <td>NaN</td>\n",
       "      <td>NaN</td>\n",
       "      <td>NaN</td>\n",
       "      <td>NaN</td>\n",
       "      <td>NaN</td>\n",
       "      <td>NaN</td>\n",
       "      <td>RUNNING</td>\n",
       "    </tr>\n",
       "    <tr>\n",
       "      <th>274</th>\n",
       "      <td>274</td>\n",
       "      <td>NaN</td>\n",
       "      <td>2025-07-13 12:29:50.554412</td>\n",
       "      <td>NaT</td>\n",
       "      <td>NaT</td>\n",
       "      <td>lr</td>\n",
       "      <td>NaN</td>\n",
       "      <td>NaN</td>\n",
       "      <td>NaN</td>\n",
       "      <td>NaN</td>\n",
       "      <td>...</td>\n",
       "      <td>NaN</td>\n",
       "      <td>NaN</td>\n",
       "      <td>NaN</td>\n",
       "      <td>NaN</td>\n",
       "      <td>NaN</td>\n",
       "      <td>NaN</td>\n",
       "      <td>NaN</td>\n",
       "      <td>NaN</td>\n",
       "      <td>NaN</td>\n",
       "      <td>RUNNING</td>\n",
       "    </tr>\n",
       "    <tr>\n",
       "      <th>275</th>\n",
       "      <td>275</td>\n",
       "      <td>NaN</td>\n",
       "      <td>2025-07-13 12:30:16.470036</td>\n",
       "      <td>NaT</td>\n",
       "      <td>NaT</td>\n",
       "      <td>rf</td>\n",
       "      <td>NaN</td>\n",
       "      <td>NaN</td>\n",
       "      <td>NaN</td>\n",
       "      <td>NaN</td>\n",
       "      <td>...</td>\n",
       "      <td>12.0</td>\n",
       "      <td>9.0</td>\n",
       "      <td>184.0</td>\n",
       "      <td>NaN</td>\n",
       "      <td>NaN</td>\n",
       "      <td>NaN</td>\n",
       "      <td>NaN</td>\n",
       "      <td>NaN</td>\n",
       "      <td>NaN</td>\n",
       "      <td>RUNNING</td>\n",
       "    </tr>\n",
       "    <tr>\n",
       "      <th>276</th>\n",
       "      <td>276</td>\n",
       "      <td>NaN</td>\n",
       "      <td>2025-07-13 12:30:18.925580</td>\n",
       "      <td>NaT</td>\n",
       "      <td>NaT</td>\n",
       "      <td>dt</td>\n",
       "      <td>2.0</td>\n",
       "      <td>7.0</td>\n",
       "      <td>NaN</td>\n",
       "      <td>NaN</td>\n",
       "      <td>...</td>\n",
       "      <td>NaN</td>\n",
       "      <td>NaN</td>\n",
       "      <td>NaN</td>\n",
       "      <td>NaN</td>\n",
       "      <td>NaN</td>\n",
       "      <td>NaN</td>\n",
       "      <td>NaN</td>\n",
       "      <td>NaN</td>\n",
       "      <td>NaN</td>\n",
       "      <td>RUNNING</td>\n",
       "    </tr>\n",
       "  </tbody>\n",
       "</table>\n",
       "<p>277 rows × 27 columns</p>\n",
       "</div>"
      ],
      "text/plain": [
       "     number     value             datetime_start          datetime_complete  \\\n",
       "0         0  0.445499 2025-07-13 12:23:51.040635 2025-07-13 12:23:54.433487   \n",
       "1         1  0.350314 2025-07-13 12:23:51.041074 2025-07-13 12:23:53.965345   \n",
       "2         2  0.493960 2025-07-13 12:23:51.041476 2025-07-13 12:23:51.765870   \n",
       "3         3  0.299205 2025-07-13 12:23:51.041881 2025-07-13 12:23:53.944868   \n",
       "4         4  0.403094 2025-07-13 12:23:51.042254 2025-07-13 12:23:51.585727   \n",
       "..      ...       ...                        ...                        ...   \n",
       "272     272       NaN 2025-07-13 12:29:45.941842                        NaT   \n",
       "273     273       NaN 2025-07-13 12:29:48.305010                        NaT   \n",
       "274     274       NaN 2025-07-13 12:29:50.554412                        NaT   \n",
       "275     275       NaN 2025-07-13 12:30:16.470036                        NaT   \n",
       "276     276       NaN 2025-07-13 12:30:18.925580                        NaT   \n",
       "\n",
       "                  duration params_classifier  params_dt_max_depth  \\\n",
       "0   0 days 00:00:03.392852               pac                  NaN   \n",
       "1   0 days 00:00:02.924271               pac                  NaN   \n",
       "2   0 days 00:00:00.724394               sgd                  NaN   \n",
       "3   0 days 00:00:02.902987               pac                  NaN   \n",
       "4   0 days 00:00:00.543473            etrees                  NaN   \n",
       "..                     ...               ...                  ...   \n",
       "272                    NaT                lr                  NaN   \n",
       "273                    NaT                lr                  NaN   \n",
       "274                    NaT                lr                  NaN   \n",
       "275                    NaT                rf                  NaN   \n",
       "276                    NaT                dt                  2.0   \n",
       "\n",
       "     params_dt_min_samples_split  params_et_max_depth  \\\n",
       "0                            NaN                  NaN   \n",
       "1                            NaN                  NaN   \n",
       "2                            NaN                  NaN   \n",
       "3                            NaN                  NaN   \n",
       "4                            NaN                  NaN   \n",
       "..                           ...                  ...   \n",
       "272                          NaN                  NaN   \n",
       "273                          NaN                  NaN   \n",
       "274                          NaN                  NaN   \n",
       "275                          NaN                  NaN   \n",
       "276                          7.0                  NaN   \n",
       "\n",
       "     params_et_min_samples_split  ...  params_rf_max_depth  \\\n",
       "0                            NaN  ...                  NaN   \n",
       "1                            NaN  ...                  NaN   \n",
       "2                            NaN  ...                  NaN   \n",
       "3                            NaN  ...                  NaN   \n",
       "4                            NaN  ...                  NaN   \n",
       "..                           ...  ...                  ...   \n",
       "272                          NaN  ...                  NaN   \n",
       "273                          NaN  ...                  NaN   \n",
       "274                          NaN  ...                  NaN   \n",
       "275                          NaN  ...                 12.0   \n",
       "276                          NaN  ...                  NaN   \n",
       "\n",
       "     params_rf_min_samples_split  params_rf_n_estimators  params_ridge_alpha  \\\n",
       "0                            NaN                     NaN                 NaN   \n",
       "1                            NaN                     NaN                 NaN   \n",
       "2                            NaN                     NaN                 NaN   \n",
       "3                            NaN                     NaN                 NaN   \n",
       "4                            NaN                     NaN                 NaN   \n",
       "..                           ...                     ...                 ...   \n",
       "272                          NaN                     NaN                 NaN   \n",
       "273                          NaN                     NaN                 NaN   \n",
       "274                          NaN                     NaN                 NaN   \n",
       "275                          9.0                   184.0                 NaN   \n",
       "276                          NaN                     NaN                 NaN   \n",
       "\n",
       "     params_sgd_alpha  params_sgd_loss  params_svc_C  params_svc_gamma  \\\n",
       "0                 NaN              NaN           NaN               NaN   \n",
       "1                 NaN              NaN           NaN               NaN   \n",
       "2            0.011135            hinge           NaN               NaN   \n",
       "3                 NaN              NaN           NaN               NaN   \n",
       "4                 NaN              NaN           NaN               NaN   \n",
       "..                ...              ...           ...               ...   \n",
       "272               NaN              NaN           NaN               NaN   \n",
       "273               NaN              NaN           NaN               NaN   \n",
       "274               NaN              NaN           NaN               NaN   \n",
       "275               NaN              NaN           NaN               NaN   \n",
       "276               NaN              NaN           NaN               NaN   \n",
       "\n",
       "     params_svc_kernel     state  \n",
       "0                  NaN  COMPLETE  \n",
       "1                  NaN  COMPLETE  \n",
       "2                  NaN  COMPLETE  \n",
       "3                  NaN  COMPLETE  \n",
       "4                  NaN  COMPLETE  \n",
       "..                 ...       ...  \n",
       "272                NaN   RUNNING  \n",
       "273                NaN   RUNNING  \n",
       "274                NaN   RUNNING  \n",
       "275                NaN   RUNNING  \n",
       "276                NaN   RUNNING  \n",
       "\n",
       "[277 rows x 27 columns]"
      ]
     },
     "execution_count": 54,
     "metadata": {},
     "output_type": "execute_result"
    }
   ],
   "source": [
    "study.trials_dataframe()"
   ]
  },
  {
   "cell_type": "code",
   "execution_count": 55,
   "id": "f9ed6826-a2a6-4d3f-a3a0-c1a4e1067d18",
   "metadata": {},
   "outputs": [
    {
     "data": {
      "text/html": [
       "<style>#sk-container-id-2 {\n",
       "  /* Definition of color scheme common for light and dark mode */\n",
       "  --sklearn-color-text: black;\n",
       "  --sklearn-color-line: gray;\n",
       "  /* Definition of color scheme for unfitted estimators */\n",
       "  --sklearn-color-unfitted-level-0: #fff5e6;\n",
       "  --sklearn-color-unfitted-level-1: #f6e4d2;\n",
       "  --sklearn-color-unfitted-level-2: #ffe0b3;\n",
       "  --sklearn-color-unfitted-level-3: chocolate;\n",
       "  /* Definition of color scheme for fitted estimators */\n",
       "  --sklearn-color-fitted-level-0: #f0f8ff;\n",
       "  --sklearn-color-fitted-level-1: #d4ebff;\n",
       "  --sklearn-color-fitted-level-2: #b3dbfd;\n",
       "  --sklearn-color-fitted-level-3: cornflowerblue;\n",
       "\n",
       "  /* Specific color for light theme */\n",
       "  --sklearn-color-text-on-default-background: var(--sg-text-color, var(--theme-code-foreground, var(--jp-content-font-color1, black)));\n",
       "  --sklearn-color-background: var(--sg-background-color, var(--theme-background, var(--jp-layout-color0, white)));\n",
       "  --sklearn-color-border-box: var(--sg-text-color, var(--theme-code-foreground, var(--jp-content-font-color1, black)));\n",
       "  --sklearn-color-icon: #696969;\n",
       "\n",
       "  @media (prefers-color-scheme: dark) {\n",
       "    /* Redefinition of color scheme for dark theme */\n",
       "    --sklearn-color-text-on-default-background: var(--sg-text-color, var(--theme-code-foreground, var(--jp-content-font-color1, white)));\n",
       "    --sklearn-color-background: var(--sg-background-color, var(--theme-background, var(--jp-layout-color0, #111)));\n",
       "    --sklearn-color-border-box: var(--sg-text-color, var(--theme-code-foreground, var(--jp-content-font-color1, white)));\n",
       "    --sklearn-color-icon: #878787;\n",
       "  }\n",
       "}\n",
       "\n",
       "#sk-container-id-2 {\n",
       "  color: var(--sklearn-color-text);\n",
       "}\n",
       "\n",
       "#sk-container-id-2 pre {\n",
       "  padding: 0;\n",
       "}\n",
       "\n",
       "#sk-container-id-2 input.sk-hidden--visually {\n",
       "  border: 0;\n",
       "  clip: rect(1px 1px 1px 1px);\n",
       "  clip: rect(1px, 1px, 1px, 1px);\n",
       "  height: 1px;\n",
       "  margin: -1px;\n",
       "  overflow: hidden;\n",
       "  padding: 0;\n",
       "  position: absolute;\n",
       "  width: 1px;\n",
       "}\n",
       "\n",
       "#sk-container-id-2 div.sk-dashed-wrapped {\n",
       "  border: 1px dashed var(--sklearn-color-line);\n",
       "  margin: 0 0.4em 0.5em 0.4em;\n",
       "  box-sizing: border-box;\n",
       "  padding-bottom: 0.4em;\n",
       "  background-color: var(--sklearn-color-background);\n",
       "}\n",
       "\n",
       "#sk-container-id-2 div.sk-container {\n",
       "  /* jupyter's `normalize.less` sets `[hidden] { display: none; }`\n",
       "     but bootstrap.min.css set `[hidden] { display: none !important; }`\n",
       "     so we also need the `!important` here to be able to override the\n",
       "     default hidden behavior on the sphinx rendered scikit-learn.org.\n",
       "     See: https://github.com/scikit-learn/scikit-learn/issues/21755 */\n",
       "  display: inline-block !important;\n",
       "  position: relative;\n",
       "}\n",
       "\n",
       "#sk-container-id-2 div.sk-text-repr-fallback {\n",
       "  display: none;\n",
       "}\n",
       "\n",
       "div.sk-parallel-item,\n",
       "div.sk-serial,\n",
       "div.sk-item {\n",
       "  /* draw centered vertical line to link estimators */\n",
       "  background-image: linear-gradient(var(--sklearn-color-text-on-default-background), var(--sklearn-color-text-on-default-background));\n",
       "  background-size: 2px 100%;\n",
       "  background-repeat: no-repeat;\n",
       "  background-position: center center;\n",
       "}\n",
       "\n",
       "/* Parallel-specific style estimator block */\n",
       "\n",
       "#sk-container-id-2 div.sk-parallel-item::after {\n",
       "  content: \"\";\n",
       "  width: 100%;\n",
       "  border-bottom: 2px solid var(--sklearn-color-text-on-default-background);\n",
       "  flex-grow: 1;\n",
       "}\n",
       "\n",
       "#sk-container-id-2 div.sk-parallel {\n",
       "  display: flex;\n",
       "  align-items: stretch;\n",
       "  justify-content: center;\n",
       "  background-color: var(--sklearn-color-background);\n",
       "  position: relative;\n",
       "}\n",
       "\n",
       "#sk-container-id-2 div.sk-parallel-item {\n",
       "  display: flex;\n",
       "  flex-direction: column;\n",
       "}\n",
       "\n",
       "#sk-container-id-2 div.sk-parallel-item:first-child::after {\n",
       "  align-self: flex-end;\n",
       "  width: 50%;\n",
       "}\n",
       "\n",
       "#sk-container-id-2 div.sk-parallel-item:last-child::after {\n",
       "  align-self: flex-start;\n",
       "  width: 50%;\n",
       "}\n",
       "\n",
       "#sk-container-id-2 div.sk-parallel-item:only-child::after {\n",
       "  width: 0;\n",
       "}\n",
       "\n",
       "/* Serial-specific style estimator block */\n",
       "\n",
       "#sk-container-id-2 div.sk-serial {\n",
       "  display: flex;\n",
       "  flex-direction: column;\n",
       "  align-items: center;\n",
       "  background-color: var(--sklearn-color-background);\n",
       "  padding-right: 1em;\n",
       "  padding-left: 1em;\n",
       "}\n",
       "\n",
       "\n",
       "/* Toggleable style: style used for estimator/Pipeline/ColumnTransformer box that is\n",
       "clickable and can be expanded/collapsed.\n",
       "- Pipeline and ColumnTransformer use this feature and define the default style\n",
       "- Estimators will overwrite some part of the style using the `sk-estimator` class\n",
       "*/\n",
       "\n",
       "/* Pipeline and ColumnTransformer style (default) */\n",
       "\n",
       "#sk-container-id-2 div.sk-toggleable {\n",
       "  /* Default theme specific background. It is overwritten whether we have a\n",
       "  specific estimator or a Pipeline/ColumnTransformer */\n",
       "  background-color: var(--sklearn-color-background);\n",
       "}\n",
       "\n",
       "/* Toggleable label */\n",
       "#sk-container-id-2 label.sk-toggleable__label {\n",
       "  cursor: pointer;\n",
       "  display: block;\n",
       "  width: 100%;\n",
       "  margin-bottom: 0;\n",
       "  padding: 0.5em;\n",
       "  box-sizing: border-box;\n",
       "  text-align: center;\n",
       "}\n",
       "\n",
       "#sk-container-id-2 label.sk-toggleable__label-arrow:before {\n",
       "  /* Arrow on the left of the label */\n",
       "  content: \"▸\";\n",
       "  float: left;\n",
       "  margin-right: 0.25em;\n",
       "  color: var(--sklearn-color-icon);\n",
       "}\n",
       "\n",
       "#sk-container-id-2 label.sk-toggleable__label-arrow:hover:before {\n",
       "  color: var(--sklearn-color-text);\n",
       "}\n",
       "\n",
       "/* Toggleable content - dropdown */\n",
       "\n",
       "#sk-container-id-2 div.sk-toggleable__content {\n",
       "  max-height: 0;\n",
       "  max-width: 0;\n",
       "  overflow: hidden;\n",
       "  text-align: left;\n",
       "  /* unfitted */\n",
       "  background-color: var(--sklearn-color-unfitted-level-0);\n",
       "}\n",
       "\n",
       "#sk-container-id-2 div.sk-toggleable__content.fitted {\n",
       "  /* fitted */\n",
       "  background-color: var(--sklearn-color-fitted-level-0);\n",
       "}\n",
       "\n",
       "#sk-container-id-2 div.sk-toggleable__content pre {\n",
       "  margin: 0.2em;\n",
       "  border-radius: 0.25em;\n",
       "  color: var(--sklearn-color-text);\n",
       "  /* unfitted */\n",
       "  background-color: var(--sklearn-color-unfitted-level-0);\n",
       "}\n",
       "\n",
       "#sk-container-id-2 div.sk-toggleable__content.fitted pre {\n",
       "  /* unfitted */\n",
       "  background-color: var(--sklearn-color-fitted-level-0);\n",
       "}\n",
       "\n",
       "#sk-container-id-2 input.sk-toggleable__control:checked~div.sk-toggleable__content {\n",
       "  /* Expand drop-down */\n",
       "  max-height: 200px;\n",
       "  max-width: 100%;\n",
       "  overflow: auto;\n",
       "}\n",
       "\n",
       "#sk-container-id-2 input.sk-toggleable__control:checked~label.sk-toggleable__label-arrow:before {\n",
       "  content: \"▾\";\n",
       "}\n",
       "\n",
       "/* Pipeline/ColumnTransformer-specific style */\n",
       "\n",
       "#sk-container-id-2 div.sk-label input.sk-toggleable__control:checked~label.sk-toggleable__label {\n",
       "  color: var(--sklearn-color-text);\n",
       "  background-color: var(--sklearn-color-unfitted-level-2);\n",
       "}\n",
       "\n",
       "#sk-container-id-2 div.sk-label.fitted input.sk-toggleable__control:checked~label.sk-toggleable__label {\n",
       "  background-color: var(--sklearn-color-fitted-level-2);\n",
       "}\n",
       "\n",
       "/* Estimator-specific style */\n",
       "\n",
       "/* Colorize estimator box */\n",
       "#sk-container-id-2 div.sk-estimator input.sk-toggleable__control:checked~label.sk-toggleable__label {\n",
       "  /* unfitted */\n",
       "  background-color: var(--sklearn-color-unfitted-level-2);\n",
       "}\n",
       "\n",
       "#sk-container-id-2 div.sk-estimator.fitted input.sk-toggleable__control:checked~label.sk-toggleable__label {\n",
       "  /* fitted */\n",
       "  background-color: var(--sklearn-color-fitted-level-2);\n",
       "}\n",
       "\n",
       "#sk-container-id-2 div.sk-label label.sk-toggleable__label,\n",
       "#sk-container-id-2 div.sk-label label {\n",
       "  /* The background is the default theme color */\n",
       "  color: var(--sklearn-color-text-on-default-background);\n",
       "}\n",
       "\n",
       "/* On hover, darken the color of the background */\n",
       "#sk-container-id-2 div.sk-label:hover label.sk-toggleable__label {\n",
       "  color: var(--sklearn-color-text);\n",
       "  background-color: var(--sklearn-color-unfitted-level-2);\n",
       "}\n",
       "\n",
       "/* Label box, darken color on hover, fitted */\n",
       "#sk-container-id-2 div.sk-label.fitted:hover label.sk-toggleable__label.fitted {\n",
       "  color: var(--sklearn-color-text);\n",
       "  background-color: var(--sklearn-color-fitted-level-2);\n",
       "}\n",
       "\n",
       "/* Estimator label */\n",
       "\n",
       "#sk-container-id-2 div.sk-label label {\n",
       "  font-family: monospace;\n",
       "  font-weight: bold;\n",
       "  display: inline-block;\n",
       "  line-height: 1.2em;\n",
       "}\n",
       "\n",
       "#sk-container-id-2 div.sk-label-container {\n",
       "  text-align: center;\n",
       "}\n",
       "\n",
       "/* Estimator-specific */\n",
       "#sk-container-id-2 div.sk-estimator {\n",
       "  font-family: monospace;\n",
       "  border: 1px dotted var(--sklearn-color-border-box);\n",
       "  border-radius: 0.25em;\n",
       "  box-sizing: border-box;\n",
       "  margin-bottom: 0.5em;\n",
       "  /* unfitted */\n",
       "  background-color: var(--sklearn-color-unfitted-level-0);\n",
       "}\n",
       "\n",
       "#sk-container-id-2 div.sk-estimator.fitted {\n",
       "  /* fitted */\n",
       "  background-color: var(--sklearn-color-fitted-level-0);\n",
       "}\n",
       "\n",
       "/* on hover */\n",
       "#sk-container-id-2 div.sk-estimator:hover {\n",
       "  /* unfitted */\n",
       "  background-color: var(--sklearn-color-unfitted-level-2);\n",
       "}\n",
       "\n",
       "#sk-container-id-2 div.sk-estimator.fitted:hover {\n",
       "  /* fitted */\n",
       "  background-color: var(--sklearn-color-fitted-level-2);\n",
       "}\n",
       "\n",
       "/* Specification for estimator info (e.g. \"i\" and \"?\") */\n",
       "\n",
       "/* Common style for \"i\" and \"?\" */\n",
       "\n",
       ".sk-estimator-doc-link,\n",
       "a:link.sk-estimator-doc-link,\n",
       "a:visited.sk-estimator-doc-link {\n",
       "  float: right;\n",
       "  font-size: smaller;\n",
       "  line-height: 1em;\n",
       "  font-family: monospace;\n",
       "  background-color: var(--sklearn-color-background);\n",
       "  border-radius: 1em;\n",
       "  height: 1em;\n",
       "  width: 1em;\n",
       "  text-decoration: none !important;\n",
       "  margin-left: 1ex;\n",
       "  /* unfitted */\n",
       "  border: var(--sklearn-color-unfitted-level-1) 1pt solid;\n",
       "  color: var(--sklearn-color-unfitted-level-1);\n",
       "}\n",
       "\n",
       ".sk-estimator-doc-link.fitted,\n",
       "a:link.sk-estimator-doc-link.fitted,\n",
       "a:visited.sk-estimator-doc-link.fitted {\n",
       "  /* fitted */\n",
       "  border: var(--sklearn-color-fitted-level-1) 1pt solid;\n",
       "  color: var(--sklearn-color-fitted-level-1);\n",
       "}\n",
       "\n",
       "/* On hover */\n",
       "div.sk-estimator:hover .sk-estimator-doc-link:hover,\n",
       ".sk-estimator-doc-link:hover,\n",
       "div.sk-label-container:hover .sk-estimator-doc-link:hover,\n",
       ".sk-estimator-doc-link:hover {\n",
       "  /* unfitted */\n",
       "  background-color: var(--sklearn-color-unfitted-level-3);\n",
       "  color: var(--sklearn-color-background);\n",
       "  text-decoration: none;\n",
       "}\n",
       "\n",
       "div.sk-estimator.fitted:hover .sk-estimator-doc-link.fitted:hover,\n",
       ".sk-estimator-doc-link.fitted:hover,\n",
       "div.sk-label-container:hover .sk-estimator-doc-link.fitted:hover,\n",
       ".sk-estimator-doc-link.fitted:hover {\n",
       "  /* fitted */\n",
       "  background-color: var(--sklearn-color-fitted-level-3);\n",
       "  color: var(--sklearn-color-background);\n",
       "  text-decoration: none;\n",
       "}\n",
       "\n",
       "/* Span, style for the box shown on hovering the info icon */\n",
       ".sk-estimator-doc-link span {\n",
       "  display: none;\n",
       "  z-index: 9999;\n",
       "  position: relative;\n",
       "  font-weight: normal;\n",
       "  right: .2ex;\n",
       "  padding: .5ex;\n",
       "  margin: .5ex;\n",
       "  width: min-content;\n",
       "  min-width: 20ex;\n",
       "  max-width: 50ex;\n",
       "  color: var(--sklearn-color-text);\n",
       "  box-shadow: 2pt 2pt 4pt #999;\n",
       "  /* unfitted */\n",
       "  background: var(--sklearn-color-unfitted-level-0);\n",
       "  border: .5pt solid var(--sklearn-color-unfitted-level-3);\n",
       "}\n",
       "\n",
       ".sk-estimator-doc-link.fitted span {\n",
       "  /* fitted */\n",
       "  background: var(--sklearn-color-fitted-level-0);\n",
       "  border: var(--sklearn-color-fitted-level-3);\n",
       "}\n",
       "\n",
       ".sk-estimator-doc-link:hover span {\n",
       "  display: block;\n",
       "}\n",
       "\n",
       "/* \"?\"-specific style due to the `<a>` HTML tag */\n",
       "\n",
       "#sk-container-id-2 a.estimator_doc_link {\n",
       "  float: right;\n",
       "  font-size: 1rem;\n",
       "  line-height: 1em;\n",
       "  font-family: monospace;\n",
       "  background-color: var(--sklearn-color-background);\n",
       "  border-radius: 1rem;\n",
       "  height: 1rem;\n",
       "  width: 1rem;\n",
       "  text-decoration: none;\n",
       "  /* unfitted */\n",
       "  color: var(--sklearn-color-unfitted-level-1);\n",
       "  border: var(--sklearn-color-unfitted-level-1) 1pt solid;\n",
       "}\n",
       "\n",
       "#sk-container-id-2 a.estimator_doc_link.fitted {\n",
       "  /* fitted */\n",
       "  border: var(--sklearn-color-fitted-level-1) 1pt solid;\n",
       "  color: var(--sklearn-color-fitted-level-1);\n",
       "}\n",
       "\n",
       "/* On hover */\n",
       "#sk-container-id-2 a.estimator_doc_link:hover {\n",
       "  /* unfitted */\n",
       "  background-color: var(--sklearn-color-unfitted-level-3);\n",
       "  color: var(--sklearn-color-background);\n",
       "  text-decoration: none;\n",
       "}\n",
       "\n",
       "#sk-container-id-2 a.estimator_doc_link.fitted:hover {\n",
       "  /* fitted */\n",
       "  background-color: var(--sklearn-color-fitted-level-3);\n",
       "}\n",
       "</style><div id=\"sk-container-id-2\" class=\"sk-top-container\"><div class=\"sk-text-repr-fallback\"><pre>DecisionTreeClassifier(max_depth=2, min_samples_split=7)</pre><b>In a Jupyter environment, please rerun this cell to show the HTML representation or trust the notebook. <br />On GitHub, the HTML representation is unable to render, please try loading this page with nbviewer.org.</b></div><div class=\"sk-container\" hidden><div class=\"sk-item\"><div class=\"sk-estimator  sk-toggleable\"><input class=\"sk-toggleable__control sk-hidden--visually\" id=\"sk-estimator-id-2\" type=\"checkbox\" checked><label for=\"sk-estimator-id-2\" class=\"sk-toggleable__label  sk-toggleable__label-arrow \">&nbsp;&nbsp;DecisionTreeClassifier<a class=\"sk-estimator-doc-link \" rel=\"noreferrer\" target=\"_blank\" href=\"https://scikit-learn.org/1.5/modules/generated/sklearn.tree.DecisionTreeClassifier.html\">?<span>Documentation for DecisionTreeClassifier</span></a><span class=\"sk-estimator-doc-link \">i<span>Not fitted</span></span></label><div class=\"sk-toggleable__content \"><pre>DecisionTreeClassifier(max_depth=2, min_samples_split=7)</pre></div> </div></div></div></div>"
      ],
      "text/plain": [
       "DecisionTreeClassifier(max_depth=2, min_samples_split=7)"
      ]
     },
     "execution_count": 55,
     "metadata": {},
     "output_type": "execute_result"
    }
   ],
   "source": [
    "params={k.removeprefix(clf_str+\"_\"): v for k, v in params.items()}\n",
    " \n",
    "clf=clfs[clf_str](**params)\n",
    "clf"
   ]
  },
  {
   "cell_type": "code",
   "execution_count": 56,
   "id": "329e37de-5634-45e3-a556-da2b9dbd9db0",
   "metadata": {
    "tags": []
   },
   "outputs": [
    {
     "data": {
      "text/plain": [
       "<sklearn.metrics._plot.confusion_matrix.ConfusionMatrixDisplay at 0x7ef99af2e8d0>"
      ]
     },
     "execution_count": 56,
     "metadata": {},
     "output_type": "execute_result"
    },
    {
     "data": {
      "image/png": "[encoded data removed]",
      "text/plain": [
       "<Figure size 640x480 with 2 Axes>"
      ]
     },
     "metadata": {},
     "output_type": "display_data"
    }
   ],
   "source": [
    "from sklearn.metrics import confusion_matrix, ConfusionMatrixDisplay\n",
    "scaler=RobustScaler()\n",
    "pipeline = make_pipeline(scaler, clf)\n",
    "pipeline.fit(train.drop(columns=[\"activity\"]),train.activity)\n",
    "cm = confusion_matrix(test.activity, pipeline.predict(test.drop(columns=[\"activity\"])))\n",
    "ConfusionMatrixDisplay(confusion_matrix=cm,display_labels=train.activity.unique()).plot()"
   ]
  },
  {
   "cell_type": "code",
   "execution_count": 57,
   "id": "53215e10-5ebb-4f84-a448-02a75292cd57",
   "metadata": {
    "tags": []
   },
   "outputs": [
    {
     "data": {
      "image/png": "[encoded data removed]",
      "text/plain": [
       "<Figure size 640x480 with 1 Axes>"
      ]
     },
     "metadata": {},
     "output_type": "display_data"
    }
   ],
   "source": [
    "from sklearn import tree\n",
    "\n",
    "if( isinstance(clf,DecisionTreeClassifier) ): \n",
    "    tree.plot_tree(clf)"
   ]
  },
  {
   "cell_type": "code",
   "execution_count": 58,
   "id": "e751a6cf-243e-475b-9173-1c4e03cb1d37",
   "metadata": {
    "tags": []
   },
   "outputs": [
    {
     "name": "stdout",
     "output_type": "stream",
     "text": [
      "Requirement already satisfied: m2cgen in /opt/conda/lib/python3.11/site-packages (0.10.0)\n",
      "Requirement already satisfied: numpy in /opt/conda/lib/python3.11/site-packages (from m2cgen) (1.24.4)\n",
      "Note: you may need to restart the kernel to use updated packages.\n"
     ]
    }
   ],
   "source": [
    "%pip install m2cgen"
   ]
  },
  {
   "cell_type": "code",
   "execution_count": 59,
   "id": "d587e085-9d13-41d7-b03c-540126cfbafe",
   "metadata": {
    "tags": []
   },
   "outputs": [],
   "source": [
    "import m2cgen as m2c\n",
    "code = m2c.export_to_javascript(clf)\n"
   ]
  },
  {
   "cell_type": "code",
   "execution_count": 60,
   "id": "0e26e346-9347-4549-9474-26654430e365",
   "metadata": {},
   "outputs": [
    {
     "data": {
      "text/plain": [
       "array(['alpha__sum__w=1s', 'alpha__median__w=1s', 'alpha__mean__w=1s',\n",
       "       'alpha__length__w=1s', 'alpha__std_dev__w=1s', 'alpha__var__w=1s',\n",
       "       'alpha__root_mean_square__w=1s', 'alpha__max__w=1s',\n",
       "       'alpha__abs_max__w=1s', 'alpha__min__w=1s', 'beta__sum__w=1s',\n",
       "       'beta__median__w=1s', 'beta__mean__w=1s', 'beta__length__w=1s',\n",
       "       'beta__std_dev__w=1s', 'beta__var__w=1s',\n",
       "       'beta__root_mean_square__w=1s', 'beta__max__w=1s',\n",
       "       'beta__abs_max__w=1s', 'beta__min__w=1s', 'gamma__sum__w=1s',\n",
       "       'gamma__median__w=1s', 'gamma__mean__w=1s', 'gamma__length__w=1s',\n",
       "       'gamma__std_dev__w=1s', 'gamma__var__w=1s',\n",
       "       'gamma__root_mean_square__w=1s', 'gamma__max__w=1s',\n",
       "       'gamma__abs_max__w=1s', 'gamma__min__w=1s'], dtype=object)"
      ]
     },
     "execution_count": 60,
     "metadata": {},
     "output_type": "execute_result"
    }
   ],
   "source": [
    "pipeline.feature_names_in_"
   ]
  },
  {
   "cell_type": "code",
   "execution_count": 61,
   "id": "b780c00d-5b16-49c0-9fdb-95bec8097d48",
   "metadata": {},
   "outputs": [
    {
     "name": "stdout",
     "output_type": "stream",
     "text": [
      "{\"scale\": [15991.11393737793, 334.0599994659424, 326.93214988708496, 18.0, 6.263924658298492, 40.18094332970213, 327.2997045516968, 343.2225093841553, 343.2225093841553, 324.8499927520752, 823.8525314331055, 14.047500848770142, 13.217953562736511, 18.0, 2.8270509243011475, 8.450372992781922, 12.206010341644287, 14.499999046325684, 14.399999618530273, 16.379999458789825, 356.83997535705566, 8.275000095367432, 8.273346364498138, 18.0, 2.6020041089504957, 7.291431987890974, 6.9354153871536255, 10.420000314712524, 9.520000219345093, 7.400000192224979], \"center\": [3558.9498291015625, 81.44999694824219, 89.91036605834961, 60.0, 0.7842418849468231, 0.6150353252887726, 92.0, 92.85000228881836, 92.85000228881836, 25.8100004196167, 599.0, 11.822499752044678, 11.935165882110596, 60.0, 0.3566865622997284, 0.12722530215978622, 13.685166835784912, 15.78499984741211, 16.739999771118164, 9.600000381469727, -26.340003967285156, -0.4399999976158142, -0.44150006771087646, 60.0, 0.5153481066226959, 0.26558393239974976, 4.953300714492798, -0.30000001192092896, 6.199999809265137, -3.3149999380111694], \"name\": \"RobustScaler\"}\n"
     ]
    }
   ],
   "source": [
    "import json\n",
    "scaler_str=json.dumps(\n",
    "    {\n",
    "        \"scale\": list(scaler.scale_),\n",
    "        \"center\": list(scaler.center_),\n",
    "        \"name\": type(scaler).__name__\n",
    "    })\n",
    "print(scaler_str)"
   ]
  },
  {
   "cell_type": "code",
   "execution_count": 63,
   "id": "0e27f673-a771-4b92-ac57-9568499b1599",
   "metadata": {
    "tags": []
   },
   "outputs": [],
   "source": [
    "#\n",
    "js=f\"\"\"{code}\n",
    "\n",
    "const classifier =\n",
    "{{ \n",
    " inputs: {json.dumps(ts_cols)} ,\n",
    " classes: {json.dumps(list(clf.classes_))} ,\n",
    " window: {0-window_ms},\n",
    " score: score , \n",
    " scale: {scaler_str}\n",
    "}}\n",
    ";\n",
    "\n",
    "window.{sensor}_model=classifier;\n",
    "\n",
    "module.exports = classifier;\"\"\"\n",
    "\n",
    "with open(f\"data_snapshot/{sensor}_model.mjs\", \"w\") as file:\n",
    "    file.write(js)"
   ]
  },
  {
   "cell_type": "code",
   "execution_count": null,
   "id": "22e5a465-c645-4e32-a176-c9526d2f7eae",
   "metadata": {},
   "outputs": [],
   "source": []
  }
 ],
 "metadata": {
  "kernelspec": {
   "display_name": "Python 3 (ipykernel)",
   "language": "python",
   "name": "python3"
  },
  "language_info": {
   "codemirror_mode": {
    "name": "ipython",
    "version": 3
   },
   "file_extension": ".py",
   "mimetype": "text/x-python",
   "name": "python",
   "nbconvert_exporter": "python",
   "pygments_lexer": "ipython3",
   "version": "3.11.10"
  }
 },
 "nbformat": 4,
 "nbformat_minor": 5
}
