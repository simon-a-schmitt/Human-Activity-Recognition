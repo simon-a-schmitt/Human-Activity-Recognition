{
 "cells": [
  {
   "cell_type": "code",
   "execution_count": 1,
   "metadata": {
    "colab": {
     "base_uri": "https://localhost:8080/"
    },
    "id": "O_cxnk6Kk5da",
    "outputId": "200445f6-a665-4393-9a69-79c3e56c0dd9"
   },
   "outputs": [
    {
     "name": "stdout",
     "output_type": "stream",
     "text": [
      "Requirement already satisfied: edge-ml in /opt/conda/lib/python3.11/site-packages (0.4.0)\n",
      "Note: you may need to restart the kernel to use updated packages.\n"
     ]
    }
   ],
   "source": [
    "%pip install  edge-ml"
   ]
  },
  {
   "cell_type": "code",
   "execution_count": 2,
   "metadata": {
    "editable": true,
    "id": "ZB7dq8k1oqcj",
    "slideshow": {
     "slide_type": ""
    },
    "tags": []
   },
   "outputs": [],
   "source": [
    "import pandas as pd\n",
    "import numpy as np"
   ]
  },
  {
   "cell_type": "code",
   "execution_count": 3,
   "metadata": {
    "id": "PHfwX5W1pc47"
   },
   "outputs": [],
   "source": [
    "from edgeml import DatasetReceiver"
   ]
  },
  {
   "cell_type": "code",
   "execution_count": 4,
   "metadata": {
    "id": "juLyHqD_o_OO"
   },
   "outputs": [
    {
     "data": {
      "text/markdown": [
       "project=DatasetReceiver(\"https://beta.edge-ml.org\",\"02a4fad735d3308b68672ddb7593f047\")\n",
       "project.loadData()\n"
      ],
      "text/plain": [
       "<IPython.core.display.Markdown object>"
      ]
     },
     "metadata": {},
     "output_type": "display_data"
    }
   ],
   "source": [
    "%%markdown\n",
    "project=DatasetReceiver(\"https://beta.edge-ml.org\",\"02a4fad735d3308b68672ddb7593f047\")\n",
    "project.loadData()"
   ]
  },
  {
   "cell_type": "code",
   "execution_count": 5,
   "metadata": {
    "id": "7nNmAdtGpnpU"
   },
   "outputs": [
    {
     "data": {
      "text/markdown": [
       "import pickle\n",
       "pickle.dump(project, open(\"data_snapshot/project_css25.pkl\",\"wb\"))\n"
      ],
      "text/plain": [
       "<IPython.core.display.Markdown object>"
      ]
     },
     "metadata": {},
     "output_type": "display_data"
    }
   ],
   "source": [
    "%%markdown\n",
    "import pickle\n",
    "pickle.dump(project, open(\"data_snapshot/project_css25.pkl\",\"wb\"))"
   ]
  },
  {
   "cell_type": "code",
   "execution_count": 6,
   "metadata": {
    "id": "7nNmAdtGpnpU"
   },
   "outputs": [
    {
     "ename": "ModuleNotFoundError",
     "evalue": "No module named 'numpy._core'",
     "output_type": "error",
     "traceback": [
      "\u001b[0;31m---------------------------------------------------------------------------\u001b[0m",
      "\u001b[0;31mModuleNotFoundError\u001b[0m                       Traceback (most recent call last)",
      "Cell \u001b[0;32mIn[6], line 2\u001b[0m\n\u001b[1;32m      1\u001b[0m \u001b[38;5;28;01mimport\u001b[39;00m \u001b[38;5;21;01mpickle\u001b[39;00m\n\u001b[0;32m----> 2\u001b[0m project\u001b[38;5;241m=\u001b[39m\u001b[43mpickle\u001b[49m\u001b[38;5;241;43m.\u001b[39;49m\u001b[43mload\u001b[49m\u001b[43m(\u001b[49m\u001b[38;5;28;43mopen\u001b[39;49m\u001b[43m(\u001b[49m\u001b[38;5;124;43m\"\u001b[39;49m\u001b[38;5;124;43mdata_snapshot/project_css25.pkl\u001b[39;49m\u001b[38;5;124;43m\"\u001b[39;49m\u001b[43m,\u001b[49m\u001b[38;5;124;43m\"\u001b[39;49m\u001b[38;5;124;43mrb\u001b[39;49m\u001b[38;5;124;43m\"\u001b[39;49m\u001b[43m)\u001b[49m\u001b[43m)\u001b[49m\n",
      "\u001b[0;31mModuleNotFoundError\u001b[0m: No module named 'numpy._core'"
     ]
    }
   ],
   "source": [
    "import pickle\n",
    "project=pickle.load(open(\"data_snapshot/project_css25.pkl\",\"rb\"))"
   ]
  },
  {
   "cell_type": "code",
   "execution_count": null,
   "metadata": {
    "colab": {
     "base_uri": "https://localhost:8080/",
     "height": 424
    },
    "id": "glgnUYA6rbtn",
    "outputId": "ec4fab8e-f19c-45c9-98f8-021077f1aa6e"
   },
   "outputs": [],
   "source": [
    "df=pd.concat([d.data.iloc[40:-40].dropna().assign(**d.metaData) for d  in project.datasets if (d.name == \"devicemotion\" and d.data.shape[0]>0) and d.timeSeries[0].end-d.timeSeries[0].start>10000] )\n",
    "df"
   ]
  },
  {
   "cell_type": "code",
   "execution_count": null,
   "metadata": {},
   "outputs": [],
   "source": [
    "import matplotlib.pyplot as plt\n",
    "plt.hist(df[\"activity\"])"
   ]
  },
  {
   "cell_type": "code",
   "execution_count": null,
   "metadata": {
    "colab": {
     "base_uri": "https://localhost:8080/",
     "height": 455
    },
    "id": "49w5J8BztKt3",
    "outputId": "7e1e3a9d-f3d9-4821-ea45-c50008a47114"
   },
   "outputs": [],
   "source": [
    "df2=df[df.activity!=\"testing\"]\n",
    "df2=pd.concat([df2.drop(columns=[\"mobile\",\"browser\"]),pd.get_dummies(df2[[\"browser\"]])], axis=1)\n",
    "\n",
    "df2.index=df2.time\n",
    "df2=df2.drop(columns=\"time\")\n",
    "df2[\"activity\"],labels=df2[\"activity\"].factorize()\n",
    "df2"
   ]
  },
  {
   "cell_type": "code",
   "execution_count": null,
   "metadata": {
    "colab": {
     "base_uri": "https://localhost:8080/"
    },
    "id": "0S64boThuNV2",
    "outputId": "aa444c95-25fc-4efe-83db-e53f6d2e89ff"
   },
   "outputs": [],
   "source": [
    "df2.dtypes"
   ]
  },
  {
   "cell_type": "code",
   "execution_count": null,
   "metadata": {},
   "outputs": [],
   "source": [
    "def mode(x): \n",
    "    return (x.mode()[0])\n",
    "\n",
    "aggs={ \n",
    "      **dict.fromkeys(df2.select_dtypes(exclude=[np.float32]).columns, [ mode ]),\n",
    "      **dict.fromkeys(df2.select_dtypes(include=[np.float32]).columns, [\"mean\",\"var\",\"min\",\"max\",\"median\"]),\n",
    "      \"activity\": [mode,'count'],\n",
    "}\n",
    "\n",
    "del(aggs[\"participantId\"])\n",
    "aggs"
   ]
  },
  {
   "cell_type": "code",
   "execution_count": null,
   "metadata": {
    "colab": {
     "base_uri": "https://localhost:8080/",
     "height": 724
    },
    "id": "U3T-9_GqBxcN",
    "outputId": "a145d435-db8e-4d64-effe-71c82b445cc4"
   },
   "outputs": [],
   "source": [
    "df3=df2.groupby(\"participantId\").rolling(\"1s\").agg(aggs)\n",
    "df3.columns = [col[0] + \"_\" + col[1] if col [1] != \"mode\" else col[0] for col in df3.columns]\n",
    "df3"
   ]
  },
  {
   "cell_type": "code",
   "execution_count": null,
   "metadata": {
    "id": "uzDsctLACliq"
   },
   "outputs": [],
   "source": [
    "df4=df3[df3.activity_count >= 60 ].copy()\n",
    "df4.index=df4.index.droplevel(1)\n",
    "df4=df4.reset_index()\n",
    "\n",
    "df4.dropna(inplace=True)\n",
    "\n",
    "df4.activity=df4.activity.apply(lambda x: labels[int(x)])\n",
    "df4"
   ]
  },
  {
   "cell_type": "code",
   "execution_count": null,
   "metadata": {},
   "outputs": [],
   "source": [
    "pickle.dump(df4,open(\"../features.pkl\",\"wb\"))"
   ]
  },
  {
   "cell_type": "code",
   "execution_count": null,
   "metadata": {},
   "outputs": [],
   "source": [
    "%pip install imblearn"
   ]
  },
  {
   "cell_type": "code",
   "execution_count": null,
   "metadata": {},
   "outputs": [],
   "source": [
    "from imblearn.under_sampling import RandomUnderSampler\n",
    "X, y = RandomUnderSampler().fit_resample(df4.drop(columns=[\"activity\"]), df4.activity)\n",
    "groups=X.participantId\n",
    "X.drop(columns=[\"participantId\"], inplace=True)"
   ]
  },
  {
   "cell_type": "code",
   "execution_count": null,
   "metadata": {},
   "outputs": [],
   "source": [
    "import seaborn as sns\n",
    "df5=X[[col for col in X.columns if col.startswith(\"acceleration.x_\")]]\n",
    "df5[\"activity\"]=y\n",
    "\n",
    "sns.pairplot(df5, hue=\"activity\")"
   ]
  },
  {
   "cell_type": "code",
   "execution_count": null,
   "metadata": {
    "colab": {
     "base_uri": "https://localhost:8080/"
    },
    "id": "d0jYVHo8v5pb",
    "outputId": "5273185d-d9a5-4ca5-a2fc-fa8d1ea07675"
   },
   "outputs": [],
   "source": [
    "import warnings\n",
    "from sklearn.model_selection import cross_validate,LeaveOneGroupOut\n",
    "from sklearn.tree import DecisionTreeClassifier\n",
    "warnings.filterwarnings('ignore')\n",
    "classifier_metrics = [\n",
    "    \"accuracy\", \"balanced_accuracy\", \"precision_macro\", \"recall_macro\",\n",
    "    \"f1_macro\"\n",
    "]\n",
    "\n",
    "scores=pd.DataFrame(cross_validate(DecisionTreeClassifier(), X, y, cv=LeaveOneGroupOut(), groups=groups, scoring=classifier_metrics , verbose = True))\n",
    "\n",
    "scores"
   ]
  },
  {
   "cell_type": "code",
   "execution_count": null,
   "metadata": {},
   "outputs": [],
   "source": [
    "scores.mean()"
   ]
  },
  {
   "cell_type": "code",
   "execution_count": null,
   "metadata": {},
   "outputs": [],
   "source": [
    "from sklearn.feature_selection import RFECV\n",
    "from sklearn.model_selection import GroupKFold\n",
    "\n",
    "rfecv=RFECV(estimator=DecisionTreeClassifier(), cv=GroupKFold(n_splits=5), step=1 , verbose=1, scoring='f1_macro').fit(X,y,groups=groups)\n"
   ]
  },
  {
   "cell_type": "code",
   "execution_count": null,
   "metadata": {},
   "outputs": [],
   "source": [
    "# Print the optimal number of features and their indices\n",
    "print(\"Optimal number of features : %d\" % rfecv.n_features_)\n",
    "print(\"Selected features : %s\" % rfecv.support_)\n",
    "print(\"Feature ranking : %s\" % rfecv.ranking_)"
   ]
  },
  {
   "cell_type": "code",
   "execution_count": null,
   "metadata": {},
   "outputs": [],
   "source": [
    "cv_results = pd.DataFrame(rfecv.cv_results_)\n",
    "cv_results\n"
   ]
  },
  {
   "cell_type": "code",
   "execution_count": null,
   "metadata": {},
   "outputs": [],
   "source": [
    "import matplotlib.pyplot as plt\n",
    "plt.figure()\n",
    "plt.xlabel(\"Number of features selected\")\n",
    "plt.ylabel(\"Mean test accuracy\")\n",
    "plt.errorbar(\n",
    "    x=cv_results.index,\n",
    "    y=cv_results[\"mean_test_score\"],\n",
    "    yerr=cv_results[\"std_test_score\"],\n",
    ")\n",
    "plt.title(\"Recursive Feature Elimination\")\n",
    "plt.show()"
   ]
  },
  {
   "cell_type": "code",
   "execution_count": null,
   "metadata": {},
   "outputs": [],
   "source": [
    "df6=pd.concat([df4.participantId,df4.activity,df4[rfecv.get_feature_names_out(X.columns)]],axis=1).dropna()\n",
    "df6"
   ]
  }
 ],
 "metadata": {
  "colab": {
   "authorship_tag": "ABX9TyPw2lUPHaqSQd6RH1ipUYJL",
   "include_colab_link": true,
   "provenance": []
  },
  "kernelspec": {
   "display_name": "Python 3 (ipykernel)",
   "language": "python",
   "name": "python3"
  },
  "language_info": {
   "codemirror_mode": {
    "name": "ipython",
    "version": 3
   },
   "file_extension": ".py",
   "mimetype": "text/x-python",
   "name": "python",
   "nbconvert_exporter": "python",
   "pygments_lexer": "ipython3",
   "version": "3.11.10"
  }
 },
 "nbformat": 4,
 "nbformat_minor": 4
}
